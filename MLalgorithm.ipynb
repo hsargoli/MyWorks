{
  "cells": [
    {
      "cell_type": "markdown",
      "metadata": {
        "id": "view-in-github",
        "colab_type": "text"
      },
      "source": [
        "<a href=\"https://colab.research.google.com/github/hsargoli/MyWorks/blob/main/MLalgorithm.ipynb\" target=\"_parent\"><img src=\"https://colab.research.google.com/assets/colab-badge.svg\" alt=\"Open In Colab\"/></a>"
      ]
    },
    {
      "cell_type": "code",
      "execution_count": null,
      "metadata": {
        "id": "z8kjLNGukcsv"
      },
      "outputs": [],
      "source": [
        "# %load_ext pycodestyle_magic\n",
        "\n",
        "import matplotlib.pyplot as plt\n",
        "import numpy as np"
      ]
    },
    {
      "cell_type": "markdown",
      "metadata": {
        "id": "EYdwpOPOkcs4"
      },
      "source": [
        "# linear regression\n",
        "------"
      ]
    },
    {
      "cell_type": "code",
      "execution_count": null,
      "metadata": {
        "id": "lydhzM6DkctB",
        "outputId": "5d414bae-2d02-41a7-c021-3c96cd4a0bba",
        "colab": {
          "base_uri": "https://localhost:8080/",
          "height": 334
        }
      },
      "outputs": [
        {
          "output_type": "stream",
          "name": "stdout",
          "text": [
            "mean x , mean y \t 3.0 2.8\n"
          ]
        },
        {
          "output_type": "display_data",
          "data": {
            "text/plain": [
              "<Figure size 432x288 with 1 Axes>"
            ],
            "image/png": "[encoded data removed]"
          },
          "metadata": {
            "needs_background": "light"
          }
        },
        {
          "output_type": "stream",
          "name": "stdout",
          "text": [
            "\tpredicted y:[1.1999999999999995, 1.9999999999999996, 3.5999999999999996, 2.8, 4.3999999999999995]\n",
            "\ttrue y:[1, 3, 3, 2, 5]\n",
            "+error (mean distance from y ):  0.692820323027551\n"
          ]
        }
      ],
      "source": [
        "xx = [1, 2, 4, 3, 5]\n",
        "yy = [1, 3, 3, 2, 5]\n",
        "\n",
        "\n",
        "def meang(data):\n",
        "    ins_num = len(data)\n",
        "    ins_sum = sum(data)\n",
        "    res = ins_sum / ins_num\n",
        "    return res\n",
        "\n",
        "\n",
        "meanX = meang(xx)\n",
        "meanY = meang(yy)\n",
        "print(\"mean x , mean y \\t\", meanX, meanY)\n",
        "#  y=b0+ b1*x\n",
        "#  b1=sum((xi-mean) -( yi - mean))/sum ((xi-mean)**2)\n",
        "def simple_linear_regression(x, y):\n",
        "    \"\"\"\n",
        "    if y depend on one x\n",
        "    \"\"\"\n",
        "    meanX = meang(x)\n",
        "    meanY = meang(y)\n",
        "    s0 = []\n",
        "    s1 = []\n",
        "    for i in range(len(x)):\n",
        "        sorat = (x[i] - meanX) * (y[i] - meanY)\n",
        "        makhraj = (x[i] - meanX) ** 2\n",
        "        s0.append(sorat)\n",
        "        s1.append(makhraj)\n",
        "    b1res = sum(s0) / sum(s1)\n",
        "    b0res = meanY - (b1res * meanX)\n",
        "    resy = []\n",
        "    for i in range(len(x)):\n",
        "        a = b0res + (b1res * x[i])\n",
        "        resy.append(a)\n",
        "    plt.plot(x, resy)\n",
        "    plt.scatter(x, y, color=\"r\")\n",
        "\n",
        "    plt.show()\n",
        "    return resy\n",
        "\n",
        "\n",
        "yp = simple_linear_regression(xx, yy)\n",
        "print(\"\\tpredicted y:{}\\n\\ttrue y:{}\".format(yp, yy))\n",
        "\n",
        "\n",
        "def Rmse(yd, yp):\n",
        "    n = len(yp)\n",
        "    b = []\n",
        "    for i in range(n):\n",
        "        a = (yp[i] - yd[i]) ** 2\n",
        "        b.append(a)\n",
        "    c = sum(b)\n",
        "    d = np.sqrt(c / n)\n",
        "    return d\n",
        "\n",
        "\n",
        "# shortcut for find B1\n",
        "# b1=np.corrcoef(xx,yy)[1][0]*(np.std(yy)/np.std(xx))\n",
        "\n",
        "if __name__ == \"__main__\":\n",
        "    print(\"+error (mean distance from y ): \", Rmse(yy, yp))\n"
      ]
    },
    {
      "cell_type": "markdown",
      "metadata": {
        "id": "tBaeS3MdkctG"
      },
      "source": [
        "# Gradient descent \n",
        "----------"
      ]
    },
    {
      "cell_type": "code",
      "execution_count": null,
      "metadata": {
        "tags": [],
        "id": "rOhJHmX0kctI",
        "outputId": "2d39bbf6-0962-482d-8b88-8aa50a70f0b2",
        "colab": {
          "base_uri": "https://localhost:8080/"
        }
      },
      "outputs": [
        {
          "output_type": "stream",
          "name": "stdout",
          "text": [
            "index 0 is Picked for gradient descent.\tResulting weights: [0.49997948800742736, 0.49997948800742736]\n",
            "true y: 1 \tpredicted y: 0.9999589760148547\n",
            "true y: 3 \tpredicted y: 1.4999384640222821\n",
            "true y: 3 \tpredicted y: 2.4998974400371368\n",
            "true y: 2 \tpredicted y: 1.9999179520297095\n",
            "true y: 5 \tpredicted y: 2.9998769280445643\n",
            "\n",
            "root mean squared error (RMSE) :  1.1402437891595398\n",
            " =--------= \n",
            "index 1 is Picked for gradient descent.\tResulting weights: [0.7999917952007886, 1.1000041023941498]\n",
            "true y: 1 \tpredicted y: 1.8999958975949385\n",
            "true y: 3 \tpredicted y: 2.9999999999890883\n",
            "true y: 3 \tpredicted y: 5.2000082047773875\n",
            "true y: 2 \tpredicted y: 4.100004102383238\n",
            "true y: 5 \tpredicted y: 6.300012307171538\n",
            "\n",
            "root mean squared error (RMSE) :  1.532976056277425\n",
            " =--------= \n",
            "index 2 is Picked for gradient descent.\tResulting weights: [0.6705795478609428, 0.5823551130347646]\n",
            "true y: 1 \tpredicted y: 1.2529346608957073\n",
            "true y: 3 \tpredicted y: 1.835289773930472\n",
            "true y: 3 \tpredicted y: 3.0000000000000013\n",
            "true y: 2 \tpredicted y: 2.4176448869652365\n",
            "true y: 5 \tpredicted y: 3.5823551130347657\n",
            "\n",
            "root mean squared error (RMSE) :  0.8490783392055452\n",
            " =--------= \n",
            "index 3 is Picked for gradient descent.\tResulting weights: [0.6288150591644197, 0.4570616469451938]\n",
            "true y: 1 \tpredicted y: 1.0858767061096135\n",
            "true y: 3 \tpredicted y: 1.5429383530548073\n",
            "true y: 3 \tpredicted y: 2.4570616469451947\n",
            "true y: 2 \tpredicted y: 2.000000000000001\n",
            "true y: 5 \tpredicted y: 2.9141232938903885\n",
            "\n",
            "root mean squared error (RMSE) :  1.1641363442449018\n",
            " =--------= \n",
            "index 4 is Picked for gradient descent.\tResulting weights: [0.7090410863224821, 0.8581917827355035]\n",
            "true y: 1 \tpredicted y: 1.5672328690579855\n",
            "true y: 3 \tpredicted y: 2.425424651793489\n",
            "true y: 3 \tpredicted y: 4.141808217264495\n",
            "true y: 2 \tpredicted y: 3.283616434528992\n",
            "true y: 5 \tpredicted y: 5.0\n",
            "\n",
            "root mean squared error (RMSE) :  0.8489154391942739\n",
            " =--------= \n",
            "minimum errors is 0.8489154391942739 with index 5\n"
          ]
        }
      ],
      "source": [
        "# %%pycodestyle\n",
        "# y=b0+ b1*x\n",
        "# for 1st of yy and xx\n",
        "def GD(initweight, index):\n",
        "    \"\"\"\n",
        "    update weights based on input index to minimize error\n",
        "     initweight :\n",
        "         initial weight, What weight does it start with?\n",
        "     index : \n",
        "         wich index optimized\n",
        "    \"\"\"\n",
        "    init_weight = initweight\n",
        "    yyp = init_weight[0] + init_weight[1] * xx[index]\n",
        "    err = yyp - yy[index]\n",
        "    for i in range(500):  # range ( iteration )\n",
        "        # print(init_weight)\n",
        "        learning_rate = 0.01\n",
        "        init_weight[0] = init_weight[0] - (err * learning_rate)\n",
        "        init_weight[1] = init_weight[1] - (\n",
        "            err * learning_rate * xx[index]\n",
        "        )  # error naghsh gradian ro dare\n",
        "        # dar asl bayad moshtagh martabe 1 taabe baashe\n",
        "        yyp = init_weight[0] + init_weight[1] * xx[index]\n",
        "        err = yyp - yy[index]\n",
        "\n",
        "    return init_weight\n",
        "\n",
        "\n",
        "def predictor(x, y, w):\n",
        "    resy = []\n",
        "    for i in range(len(x)):\n",
        "        yyp = w[0] + w[1] * x[i]\n",
        "        resy.append(yyp)\n",
        "    for i, j in zip(y, resy):\n",
        "        print(f\"true y: {i}\", f\"\\tpredicted y: {j}\")\n",
        "    return resy\n",
        "\n",
        "\n",
        "def present(init_w, xdata, ydata):\n",
        "    errs = []\n",
        "    for i in range(len(xdata)):\n",
        "        wn = GD(init_w, i)\n",
        "        print(\n",
        "            \"index {} is Picked for gradient descent.\".format(i),\n",
        "            f\"Resulting weights: {wn}\",\n",
        "            sep=\"\\t\",\n",
        "        )\n",
        "        basd = predictor(xdata, ydata, wn)\n",
        "        err = Rmse(ydata, basd)\n",
        "        errs.append(err)\n",
        "        print(\"\\nroot mean squared error (RMSE) : \", err)\n",
        "        print(\" =--------= \")\n",
        "    print(f\"minimum errors is {min(errs)} with index {errs.index(min(errs))+1}\")\n",
        "\n",
        "\n",
        "present([0, 0], xx, yy)\n"
      ]
    },
    {
      "cell_type": "markdown",
      "metadata": {
        "id": "J8uQ77lTkctL"
      },
      "source": [
        "# Logistic regression\n",
        "---------"
      ]
    },
    {
      "cell_type": "code",
      "execution_count": null,
      "metadata": {
        "id": "qS-3BXY-kctQ",
        "outputId": "3a57df37-ddb3-4417-9b12-2a5f9c890bdd",
        "colab": {
          "base_uri": "https://localhost:8080/",
          "height": 317
        }
      },
      "outputs": [
        {
          "output_type": "stream",
          "name": "stdout",
          "text": [
            "pair of true y and predicted y [(0, 0), (0, 0), (0, 0), (0, 0), (0, 0), (1, 1), (1, 1), (1, 1), (1, 1), (1, 1)] \n",
            "accuracy : \t 1.0\n",
            "predicted weights: [4.997879818997243, 6.569174374317185, -12.90269630756463]\n"
          ]
        },
        {
          "output_type": "display_data",
          "data": {
            "text/plain": [
              "<Figure size 432x288 with 1 Axes>"
            ],
            "image/png": "[encoded data removed]"
          },
          "metadata": {
            "needs_background": "light"
          }
        }
      ],
      "source": [
        "import random\n",
        "\n",
        "X = np.array(\n",
        "    [\n",
        "        [2.7810836, 2.550537003, 0],\n",
        "        [1.465489372, 2.362125076, 0],\n",
        "        [4.396561688, 4.400293529, 0],\n",
        "        [1.38807019, 1.850220317, 0],\n",
        "        [3.06407232, 3.005305973, 0],\n",
        "        [7.627531214, 2.759262235, 1],\n",
        "        [5.332441248, 2.088626775, 1],\n",
        "        [6.922596716, 1.77106367, 1],\n",
        "        [8.675418651, -0.242068655, 1],\n",
        "        [7.673756466, 3.508563011, 1],\n",
        "    ]\n",
        ")\n",
        "x1, x2, y = X[:, 0], X[:, 1], X[:, 2]\n",
        "a = np.ones(len(x2))\n",
        "Xd = np.array(list(zip(x1, x2)))\n",
        "\n",
        "y = [int(x) for x in y]\n",
        "colormap = np.array([\"r\", \"g\"])\n",
        "plt.scatter(x1, x2, color=colormap[y])\n",
        "\n",
        "\n",
        "class LR:\n",
        "    def __init__(self):\n",
        "        pass\n",
        "\n",
        "    def sigmoid(self, w, x):\n",
        "        res = w[0] + (np.dot(w[1:], x))\n",
        "        out = 1 / (1 + np.exp(-res))\n",
        "        return out\n",
        "\n",
        "    def updater2(self, w, alpha, y, ypred, x):\n",
        "        wnew = []\n",
        "        for i in range(len(w)):\n",
        "            if i == 0:\n",
        "                w1 = w[i] + alpha * (y - ypred) * ypred * (1 - ypred) * 1\n",
        "                wnew.append(w1)\n",
        "            elif i >= 1:\n",
        "                w1 = (\n",
        "                    w[i] + alpha * (y - ypred) * x[(i - 1)]\n",
        "                )  # (y-ypred) * ypred * (1-ypred)* x[(i-1)]\n",
        "                wnew.append(w1)\n",
        "        return wnew\n",
        "\n",
        "    def updater(self, w, alpha, y, ypred, x):\n",
        "        w1 = w[0] + alpha * (y - ypred) * ypred * (1 - ypred) * 1\n",
        "        w2 = w[1] + alpha * (y - ypred) * ypred * (1 - ypred) * x[0]\n",
        "        w3 = w[2] + alpha * (y - ypred) * ypred * (1 - ypred) * x[1]\n",
        "        wnew = list([w1, w2, w3])\n",
        "        return wnew\n",
        "\n",
        "    def doo(self, inw, x, y, ite, lr): # do gradient descent and sigmoid function Continually\n",
        "        t = 0\n",
        "        w = inw\n",
        "        while t < ite:\n",
        "            random_index = random.randint(0, 9)\n",
        "            res = self.sigmoid(w, x[random_index])\n",
        "            w = self.updater2(w, lr, y[random_index], res, x[random_index])\n",
        "            t += 1\n",
        "        return w\n",
        "\n",
        "    def predicter(self, w, x, y):  # for Highlighting accuracy of algorithm\n",
        "        sto = []\n",
        "        for i in x:\n",
        "            a = self.sigmoid(w, i)\n",
        "            sto.append(a)\n",
        "        res = []\n",
        "        for i in sto:\n",
        "            if i >= 0.5:\n",
        "                i = 1\n",
        "                res.append(i)\n",
        "            elif i < 0.5:\n",
        "                i = 0\n",
        "                res.append(i)\n",
        "        acc = [(i, j) for i, j in zip(y, res)]\n",
        "        score = 0\n",
        "        for i, j in acc:\n",
        "            if i == j:\n",
        "                score += 1\n",
        "        print(f'pair of true y and predicted y {acc}', \"\\naccuracy : \\t\", score / len(x))\n",
        "        return res\n",
        "\n",
        "    def present(self, index, initweight, x, y, iteration, LR):\n",
        "        inw = initweight\n",
        "        www = self.doo(initweight, x, y, iteration, LR)\n",
        "        self.predicter(www, x, y)\n",
        "        print(\"weights : \", www)\n",
        "\n",
        "\n",
        "sg = LR()\n",
        "inw = [0, 0, 0]\n",
        "#                                   yp=sg.sigmoid(inw,Xd[4])\n",
        "#                                sg.updater([0,0,0],0.003,y[0],yp,Xd[0])\n",
        "www = sg.doo([5, -6, 0], Xd, y, 40000, 2)\n",
        "#                                             sg.predicter(www,Xd,y)\n",
        "sg.predicter(www, Xd, y)\n",
        "print(f'predicted weights: {www}')\n"
      ]
    },
    {
      "cell_type": "markdown",
      "metadata": {
        "id": "9T-gNnl_kctY"
      },
      "source": [
        "# Linear Discriminant Analysis\n",
        "---------------\n",
        "calculate mean and variance for each class\n",
        "\n",
        "\n",
        "Logistic Regression is one of the most popular linear classification models that perform well for binary classification but falls short in the case of multiple classification problems with well-separated classes. While LDA handles these quite efficiently.\n",
        "\n",
        "LDA can also be used in data preprocessing to reduce the number of features just as PCA(Principal component analysis) which reduces the computing cost significantly.\n",
        "\n",
        "LDA is also used in face detection algorithms. In Fisherfaces LDA is used to extract useful data from different faces. Coupled with eigenfaces it produces effective results."
      ]
    },
    {
      "cell_type": "code",
      "execution_count": null,
      "metadata": {
        "id": "-fAxcJ7okctc",
        "outputId": "94845ff5-5d8d-4d2c-8c14-0852ced56673",
        "colab": {
          "base_uri": "https://localhost:8080/",
          "height": 267
        }
      },
      "outputs": [
        {
          "output_type": "display_data",
          "data": {
            "text/plain": [
              "<Figure size 432x288 with 1 Axes>"
            ],
            "image/png": "[encoded data removed]"
          },
          "metadata": {
            "needs_background": "light"
          }
        }
      ],
      "source": [
        "# Load and feature map of data\n",
        "data = [\n",
        "    [4.667797637, 0],\n",
        "    [5.509198779, 0],\n",
        "    [4.702791608, 0],\n",
        "    [5.956706641, 0],\n",
        "    [10.738622413, 0],\n",
        "    [5.027283325, 0],\n",
        "    [4.805434058, 0],\n",
        "    [4.425689143, 0],\n",
        "    [5.009368635, 0],\n",
        "    [5.116718815, 0],\n",
        "    [6.370917709, 0],\n",
        "    [2.895041947, 0],\n",
        "    [4.666842365, 0],\n",
        "    [5.602154638, 0],\n",
        "    [4.902797978, 0],\n",
        "    [5.032652964, 0],\n",
        "    [4.083972925, 0],\n",
        "    [4.875524106, 0],\n",
        "    [4.732801047, 0],\n",
        "    [5.385993407, 0],\n",
        "    [20.74393514, 1],\n",
        "    [21.41752855, 1],\n",
        "    [20.57924186, 1],\n",
        "    [20.7386947, 1],\n",
        "    [19.44605384, 1],\n",
        "    [18.36360265, 1],\n",
        "    [19.90363232, 1],\n",
        "    [19.10870851, 1],\n",
        "    [18.18787593, 1],\n",
        "    [19.71767611, 1],\n",
        "    [19.09629027, 1],\n",
        "    [20.52741312, 1],\n",
        "    [20.63205608, 1],\n",
        "    [19.86218119, 1],\n",
        "    [21.34670569, 1],\n",
        "    [20.333906, 1],\n",
        "    [21.02714855, 1],\n",
        "    [18.27536089, 1],\n",
        "    [21.77371156, 1],\n",
        "    [20.65953546, 1],\n",
        "]\n",
        "data = np.array(data)\n",
        "xdata = data[:, 0]\n",
        "ydata = data[:, 1]\n",
        "y = [int(i) for i in ydata]\n",
        "colormap = np.array([\"b\", \"k\"])\n",
        "plt.scatter(range(len(xdata)), xdata, color=colormap[y])\n",
        "plt.show()\n",
        "class1 = []\n",
        "class2 = []\n",
        "# seperating each class into c1 and c2\n",
        "for i in range(len(xdata)):\n",
        "    if ydata[i] == 0:\n",
        "        class1.append(xdata[i])\n",
        "    elif ydata[i] == 1:\n",
        "        class2.append(xdata[i])\n",
        "c1, c2 = np.array(class1), np.array(class2)\n",
        "meanC1, meanC2 = np.mean(c1), np.mean(c2)\n",
        "classprobability = [\n",
        "    y.count(1) / len(y),\n",
        "    y.count(0) / len(y),\n",
        "]  # in each class how many data present\n"
      ]
    },
    {
      "cell_type": "code",
      "execution_count": null,
      "metadata": {
        "scrolled": true,
        "tags": [],
        "id": "wkWG_9yfkcte",
        "outputId": "1c4dbb8b-16bc-4910-efb2-3bcd27032cc0",
        "colab": {
          "base_uri": "https://localhost:8080/"
        }
      },
      "outputs": [
        {
          "output_type": "stream",
          "name": "stdout",
          "text": [
            "pair of True y and Predicte y [[0, 0], [0, 0], [0, 0], [0, 0], [0, 0], [0, 0], [0, 0], [0, 0], [0, 0], [0, 0], [0, 0], [0, 0], [0, 0], [0, 0], [0, 0], [0, 0], [0, 0], [0, 0], [0, 0], [0, 0], [1, 1], [1, 1], [1, 1], [1, 1], [1, 1], [1, 1], [1, 1], [1, 1], [1, 1], [1, 1], [1, 1], [1, 1], [1, 1], [1, 1], [1, 1], [1, 1], [1, 1], [1, 1], [1, 1], [1, 1]] \n",
            "acc 1.0\n"
          ]
        }
      ],
      "source": [
        "def SquaredDifference(data):\n",
        "    mean = sum(data) / len(data)\n",
        "    a = [(i - mean) ** 2 for i in data]\n",
        "    a = sum(a)\n",
        "    return a\n",
        "\n",
        "\n",
        "def variance(SD, Nclass, Ninstance):\n",
        "    return 1 / (Ninstance - Nclass) * SD\n",
        "\n",
        "\n",
        "SDC1, SDC2 = SquaredDifference(c1), SquaredDifference(c2)\n",
        "SDT = SDC1 + SDC2\n",
        "var = variance(SDT, 2, len(xdata))\n",
        "# ,,,,,,,,,,,,,,,,,,,,,,,,,,,,,,,,,,,,,,,,,,,,,,,,,,,,,,,,,\n",
        "import math\n",
        "\n",
        "\n",
        "def LdA(x, mean, var, classProbability):\n",
        "    a = x * (mean / var) - ((mean) ** 2 / (var * 2)) + math.log(classProbability)\n",
        "    return a\n",
        "\n",
        "\n",
        "def predict(x, mean, var, classProbability):\n",
        "    sto = []\n",
        "    for i in xdata:\n",
        "\n",
        "        a = LdA(i, meanC1, var, classprobability[0])\n",
        "        b = LdA(i, meanC2, var, classprobability[1])\n",
        "        sto.append([a, b])\n",
        "    res = []\n",
        "    for i, j in sto:\n",
        "        a = 0 if i > j else 1\n",
        "        res.append(a)\n",
        "    return res\n",
        "\n",
        "\n",
        "yp = predict(i, meanC1, var, classprobability[0])\n",
        "\n",
        "\n",
        "def acc(Ty, Py):\n",
        "    ss = 0\n",
        "    A = []\n",
        "    for i in range(len(Ty)):\n",
        "        A.append([Ty[i], Py[i]])\n",
        "        if Ty[i] == Py[i]:\n",
        "            ss += 1\n",
        "    print(f\"pair of True y and Predicte y {A}\", \"\\nacc\", ss / len(y))\n",
        "\n",
        "\n",
        "acc(y, yp)\n"
      ]
    },
    {
      "cell_type": "markdown",
      "metadata": {
        "id": "4j2R_toxkctg"
      },
      "source": [
        "# `NonLinear algorithms`\n",
        " nonparametric\n",
        " "
      ]
    },
    {
      "cell_type": "markdown",
      "metadata": {
        "id": "AnBx44y8kcth"
      },
      "source": [
        "# CART \n",
        "---------"
      ]
    },
    {
      "cell_type": "code",
      "execution_count": null,
      "metadata": {
        "id": "BRUKP8HGkcti",
        "outputId": "5d3bf738-b173-44f4-d18f-c6922caf4a94",
        "colab": {
          "base_uri": "https://localhost:8080/",
          "height": 283
        }
      },
      "outputs": [
        {
          "output_type": "execute_result",
          "data": {
            "text/plain": [
              "<matplotlib.collections.PathCollection at 0x7f5a7bbbce90>"
            ]
          },
          "metadata": {},
          "execution_count": 9
        },
        {
          "output_type": "display_data",
          "data": {
            "text/plain": [
              "<Figure size 432x288 with 1 Axes>"
            ],
            "image/png": "[encoded data removed]"
          },
          "metadata": {
            "needs_background": "light"
          }
        }
      ],
      "source": [
        "data = [\n",
        "    [2.771244718, 1.784783929, 0],\n",
        "    [1.728571309, 1.169761413, 0],\n",
        "    [3.678319846, 2.81281357, 0],\n",
        "    [3.961043357, 2.61995032, 0],\n",
        "    [2.999208922, 2.209014212, 0],\n",
        "    [7.497545867, 3.162953546, 1],\n",
        "    [9.00220326, 3.339047188, 1],\n",
        "    [7.444542326, 3.476683375, 1],\n",
        "    [10.12493903, 3.234550982, 1],\n",
        "    [6.642287351, 3.319983761, 1],\n",
        "]\n",
        "data = np.array(data)\n",
        "xdata = data[:, :2]\n",
        "ydata = data[:, 2]\n",
        "ydata = [int(i) for i in ydata]\n",
        "colormap = np.array([\"r\", \"b\"])\n",
        "plt.scatter(xdata[:, 0], xdata[:, 1], color=colormap[ydata])\n"
      ]
    },
    {
      "cell_type": "code",
      "execution_count": null,
      "metadata": {
        "id": "7a6SNav1kctk",
        "outputId": "e6d145e4-90ad-46f4-ad93-35d54ed25967",
        "colab": {
          "base_uri": "https://localhost:8080/"
        }
      },
      "outputs": [
        {
          "output_type": "stream",
          "name": "stdout",
          "text": [
            "epoch 0\n",
            "\tgini = 1 \n",
            "epoch 1\n",
            "\tgini = 1 \n",
            "epoch 2\n",
            "gini value 0.49382716049382713\n",
            "{'left': [0], 'right': [0, 0, 0, 0, 1, 1, 1, 1, 1]}\n",
            "epoch 3\n",
            "gini value 0.40816326530612246\n",
            "{'left': [0, 0, 0], 'right': [0, 0, 1, 1, 1, 1, 1]}\n",
            "epoch 4\n",
            "gini value 0.0\n",
            "{'left': [0, 0, 0, 0, 0], 'right': [1, 1, 1, 1, 1]}\n",
            "epoch 5\n",
            "gini value 0.0\n",
            "{'left': [0, 0, 0, 0, 0], 'right': [1, 1, 1, 1, 1]}\n",
            "epoch 6\n",
            "gini value 0.0\n",
            "{'left': [0, 0, 0, 0, 0], 'right': [1, 1, 1, 1, 1]}\n",
            "epoch 7\n",
            "gini value 0.2777777777777778\n",
            "{'left': [0, 0, 0, 0, 0, 1], 'right': [1, 1, 1, 1]}\n",
            "epoch 8\n",
            "gini value 0.46875\n",
            "{'left': [0, 0, 0, 0, 0, 1, 1, 1], 'right': [1, 1]}\n",
            "epoch 9\n",
            "gini value 0.46875\n",
            "{'left': [0, 0, 0, 0, 0, 1, 1, 1], 'right': [1, 1]}\n"
          ]
        }
      ],
      "source": [
        "def spliter(data, sp, y):\n",
        "    navi = {\"left\": [], \"right\": []}\n",
        "    for i in range(len(data)):\n",
        "        if data[i] >= sp:\n",
        "            navi[\"right\"].append(y[i])\n",
        "        elif data[i] < sp:\n",
        "            navi[\"left\"].append(y[i])\n",
        "    if len(navi[\"left\"]) != 0 and len(navi[\"right\"]) != 0:\n",
        "        left_class1 = navi[\"left\"].count(1) / len(navi[\"left\"])\n",
        "        left_class2 = 1 - left_class1\n",
        "        right_class1 = navi[\"right\"].count(1) / len(navi[\"right\"])\n",
        "        right_class2 = 1 - right_class1\n",
        "        gini = (\n",
        "            left_class1 * (1 - left_class1)\n",
        "            + right_class1 * (1 - right_class1)\n",
        "            + left_class2 * (1 - left_class2)\n",
        "            + right_class2 * (1 - right_class2)\n",
        "        )\n",
        "        print(\"gini value {}\".format(gini), navi, sep=\"\\n\")\n",
        "    else:\n",
        "        print(\"\\tgini = 1 \")\n",
        "    return navi\n",
        "\n",
        "\n",
        "for i in range(len(xdata)):\n",
        "    print(\"epoch\", i)\n",
        "    spliter(xdata[:, 0], i, ydata)\n"
      ]
    },
    {
      "cell_type": "markdown",
      "metadata": {
        "id": "7DCRhIFnkctl"
      },
      "source": [
        "# Naive bayes\n",
        "----"
      ]
    },
    {
      "cell_type": "code",
      "execution_count": null,
      "metadata": {
        "id": "gW0Y5wSUkctm",
        "outputId": "71e54b4b-7174-4cf3-dbe1-ac110215d272"
      },
      "outputs": [
        {
          "name": "stdout",
          "output_type": "stream",
          "text": [
            " our data :  [['sunny' 'working' 'go-out']\n",
            " ['rainy' 'broken' 'go-out']\n",
            " ['sunny' 'working' 'go-out']\n",
            " ['sunny' 'working' 'go-out']\n",
            " ['sunny' 'working' 'go-out']\n",
            " ['rainy' 'broken' 'stay-home']\n",
            " ['rainy' 'broken' 'stay-home']\n",
            " ['sunny' 'working' 'stay-home']\n",
            " ['sunny' 'broken' 'stay-home']\n",
            " ['rainy' 'broken' 'stay-home']]\n",
            "----------\n",
            " o o o o o  0.8\n",
            "index  ,  ypredict  , yorg\n",
            "0 , go out , --go out\n",
            "1 , stay home , --go out\n",
            "2 , go out , --go out\n",
            "3 , go out , --go out\n",
            "4 , go out , --go out\n",
            "5 , stay home , --stay home\n",
            "6 , stay home , --stay home\n",
            "7 , go out , --stay home\n",
            "8 , stay home , --stay home\n",
            "9 , stay home , --stay home\n"
          ]
        }
      ],
      "source": [
        "with open(\"naive.txt\") as file:\n",
        "    readed_data = file.read().strip().split(\"\\n\")\n",
        "    readed = [i.split(\" \") for i in readed_data]\n",
        "del readed[0]\n",
        "b = np.array(readed)\n",
        "print(\" our data : \", b, end=\"\\n----------\\n\")\n",
        "sto = []\n",
        "for i in range(len(b)):\n",
        "    for j in range(len(b[0])):\n",
        "        if b[i][j] == \"sunny\" or b[i][j] == \"working\" or b[i][j] == \"go-out\":\n",
        "            a = 1\n",
        "            sto.append(a)\n",
        "        elif b[i][j] == \"rainy\" or b[i][j] == \"broken\" or b[i][j] == \"stay-home\":\n",
        "            a = 0\n",
        "            sto.append(a)\n",
        "sto = np.reshape(sto, (10, 3))\n",
        "weather = sto[:, 0]\n",
        "car = sto[:, 1]\n",
        "ydata = sto[:, 2]\n",
        "#  naive Bayes\n",
        "# - - - - - - - - -\n",
        "class NB:\n",
        "    def __init__(self, classes, data1, data2):\n",
        "        self.classes = classes\n",
        "        self.data1 = data1\n",
        "        self.data2 = data2\n",
        "\n",
        "    def be_shart(self, dataa, term1, term2):\n",
        "        \"\"\"\n",
        "        dataa :\n",
        "            car or weather\n",
        "        term 1:\n",
        "            for dataa 0 broken or rainy \n",
        "        term 2:\n",
        "            for y classes 0 stayHome 1 goOut\n",
        "        \n",
        "        \"\"\"\n",
        "        class_probability = list(self.classes).count(term2) / len(self.classes)\n",
        "        sto1 = []\n",
        "        for i in range(len(self.classes)):\n",
        "            if dataa[i] == term1 and self.classes[i] == term2:\n",
        "                sto1.append(i)\n",
        "            # print(self.data1[i],self.data2[i],self.classes[i])\n",
        "        res1 = len(sto1) / (len(self.classes) * class_probability)\n",
        "        return res1\n",
        "\n",
        "    def predict(self, att1, att2, cp):\n",
        "        a1 = (\n",
        "            self.be_shart(self.data1, att1, 0) * self.be_shart(self.data2, att2, 0) * cp\n",
        "        )\n",
        "        a2 = (\n",
        "            self.be_shart(self.data1, att1, 1) * self.be_shart(self.data2, att2, 1) * cp\n",
        "        )\n",
        "        # print('stay home: {} , go out: {}'.format(a1,a2))\n",
        "        res = \"stay home\" if a1 > a2 else \"go out\"\n",
        "        return res\n",
        "\n",
        "\n",
        "# be_shart(car,ydata,1,0)\\\n",
        "sg = NB(ydata, car, weather)\n",
        "print(\" o o o o o \", sg.be_shart(car, 0, 0))\n",
        "sg.predict(1, 1, 0.5)\n",
        "print(\"index  ,  ypredict  , yorg\")\n",
        "for i in range(len(car)):\n",
        "    c = \"--stay home\" if ydata[i] == 0 else \"--go out\"\n",
        "    print(i, sg.predict(car[i], weather[i], 0.5), c, sep=\" , \")\n"
      ]
    },
    {
      "cell_type": "markdown",
      "metadata": {
        "id": "bKQU8unzkcto"
      },
      "source": [
        "--------\n",
        "# dataaaaas\n",
        "gaussian naive bayes\n",
        "-------\n",
        "probability density function -> pdf\n",
        " "
      ]
    },
    {
      "cell_type": "code",
      "execution_count": null,
      "metadata": {
        "id": "bnC1spUKkctp",
        "outputId": "fe7c2275-8ea3-4b92-f546-3b5e0d2e38e0",
        "colab": {
          "base_uri": "https://localhost:8080/",
          "height": 237
        }
      },
      "outputs": [
        {
          "output_type": "error",
          "ename": "FileNotFoundError",
          "evalue": "ignored",
          "traceback": [
            "\u001b[0;31m---------------------------------------------------------------------------\u001b[0m",
            "\u001b[0;31mFileNotFoundError\u001b[0m                         Traceback (most recent call last)",
            "\u001b[0;32m<ipython-input-8-be1079b8305a>\u001b[0m in \u001b[0;36m<module>\u001b[0;34m()\u001b[0m\n\u001b[0;32m----> 1\u001b[0;31m \u001b[0;32mwith\u001b[0m \u001b[0mopen\u001b[0m\u001b[0;34m(\u001b[0m\u001b[0;34m'naive G.txt'\u001b[0m\u001b[0;34m)\u001b[0m \u001b[0;32mas\u001b[0m \u001b[0mfile\u001b[0m\u001b[0;34m:\u001b[0m\u001b[0;34m\u001b[0m\u001b[0;34m\u001b[0m\u001b[0m\n\u001b[0m\u001b[1;32m      2\u001b[0m     \u001b[0mreaded\u001b[0m\u001b[0;34m=\u001b[0m\u001b[0mfile\u001b[0m\u001b[0;34m.\u001b[0m\u001b[0mread\u001b[0m\u001b[0;34m(\u001b[0m\u001b[0;34m)\u001b[0m\u001b[0;34m.\u001b[0m\u001b[0mstrip\u001b[0m\u001b[0;34m(\u001b[0m\u001b[0;34m)\u001b[0m\u001b[0;34m.\u001b[0m\u001b[0msplit\u001b[0m\u001b[0;34m(\u001b[0m\u001b[0;34m'\\n'\u001b[0m\u001b[0;34m)\u001b[0m\u001b[0;34m\u001b[0m\u001b[0;34m\u001b[0m\u001b[0m\n\u001b[1;32m      3\u001b[0m     \u001b[0mreaded\u001b[0m\u001b[0;34m=\u001b[0m\u001b[0;34m[\u001b[0m\u001b[0mi\u001b[0m\u001b[0;34m.\u001b[0m\u001b[0msplit\u001b[0m\u001b[0;34m(\u001b[0m\u001b[0;34m' '\u001b[0m\u001b[0;34m)\u001b[0m \u001b[0;32mfor\u001b[0m \u001b[0mi\u001b[0m \u001b[0;32min\u001b[0m \u001b[0mreaded\u001b[0m\u001b[0;34m]\u001b[0m\u001b[0;34m\u001b[0m\u001b[0;34m\u001b[0m\u001b[0m\n\u001b[1;32m      4\u001b[0m \u001b[0;32mdel\u001b[0m \u001b[0mreaded\u001b[0m\u001b[0;34m[\u001b[0m\u001b[0;36m0\u001b[0m\u001b[0;34m]\u001b[0m\u001b[0;34m\u001b[0m\u001b[0;34m\u001b[0m\u001b[0m\n\u001b[1;32m      5\u001b[0m \u001b[0mreaded\u001b[0m\u001b[0;34m=\u001b[0m\u001b[0mnp\u001b[0m\u001b[0;34m.\u001b[0m\u001b[0marray\u001b[0m\u001b[0;34m(\u001b[0m\u001b[0mreaded\u001b[0m\u001b[0;34m)\u001b[0m\u001b[0;34m\u001b[0m\u001b[0;34m\u001b[0m\u001b[0m\n",
            "\u001b[0;31mFileNotFoundError\u001b[0m: [Errno 2] No such file or directory: 'naive G.txt'"
          ]
        }
      ],
      "source": [
        "with open(\"naive G.txt\") as file:\n",
        "    readed = file.read().strip().split(\"\\n\")\n",
        "    readed = [i.split(\" \") for i in readed]\n",
        "del readed[0]\n",
        "readed = np.array(readed)\n",
        "xx = []\n",
        "for i in readed:\n",
        "    x = [float(j) for j in i]\n",
        "    xx.append(x)\n",
        "xx = np.array(xx)\n",
        "xdata = xx[:, :2]\n",
        "ydata = xx[:, 2]\n",
        "ydata = [int(i) for i in ydata]\n",
        "colormap = np.array([\"r\", \"b\", \"k\"])\n",
        "plt.scatter(xdata[:, 0], xdata[:, 1], color=colormap[ydata])\n"
      ]
    },
    {
      "cell_type": "code",
      "execution_count": null,
      "metadata": {
        "tags": [],
        "id": "nUfATmpdkctq",
        "outputId": "107a867e-ea7b-4771-e52d-7d69ab948658"
      },
      "outputs": [
        {
          "data": {
            "text/plain": [
              "Text(0, 0.3989422804014327, '(0,0.3989422804014327)')"
            ]
          },
          "execution_count": 15,
          "metadata": {},
          "output_type": "execute_result"
        },
        {
          "data": {
            "image/png": "[encoded data removed]",
            "text/plain": [
              "<Figure size 432x288 with 1 Axes>"
            ]
          },
          "metadata": {
            "needs_background": "light"
          },
          "output_type": "display_data"
        }
      ],
      "source": [
        "sd=1\n",
        "mean=0\n",
        "def pdf(X,mean,sd):\n",
        "    aa=np.exp(-((X-mean)**2)/(2*(sd**2)))\n",
        "    a=1/(np.sqrt(2*np.pi)*sd)\n",
        "    return a*aa\n",
        "y=[pdf(i,mean,sd) for i in range(-5,5)]\n",
        "maxindex=y.index(max(y))\n",
        "x1=range(-5,5)\n",
        "plt.plot(x1,y)\n",
        "plt.text(x1[maxindex],y[maxindex],'({},{})'.format(x1[maxindex],y[maxindex]))\n"
      ]
    },
    {
      "cell_type": "code",
      "execution_count": null,
      "metadata": {
        "id": "kbWl_qFRkctr"
      },
      "outputs": [],
      "source": [
        "m0=np.mean(xx[:5,0])\n",
        "s=np.std(xx[:5,1])\n",
        "# get mean and std to calculate conditional property from each class "
      ]
    },
    {
      "cell_type": "code",
      "execution_count": null,
      "metadata": {
        "id": "owkPeIhjkctt",
        "outputId": "ea24999f-65e2-4845-92ba-89dd1debeb84"
      },
      "outputs": [
        {
          "data": {
            "text/plain": [
              "0.36960849581557953"
            ]
          },
          "execution_count": 17,
          "metadata": {},
          "output_type": "execute_result"
        }
      ],
      "source": [
        "pdf(xx[:,1][0],m0,s)\n",
        "# calculate probabiltity of each X\n",
        "# calculate p(0) and p(1) with bayes theorom\n",
        "# p(0) = p((X1) | y=0) * p(pdf(X2) | y=0) * CP"
      ]
    },
    {
      "cell_type": "markdown",
      "metadata": {
        "id": "rZTdmMIRkctv"
      },
      "source": [
        "# K NEAREST NEIGHBOR\n",
        "\n",
        "a=(xdata[0][0]-xdata[1][0])**2 \n",
        "<br>\n",
        "b=(xdata[0][1]-xdata[1][1])**2 <br>\n",
        "np.sqrt(a+b)"
      ]
    },
    {
      "cell_type": "code",
      "execution_count": null,
      "metadata": {
        "id": "Rplg0223kctw",
        "outputId": "46709241-e2b4-456d-cfd6-66e8850241c1",
        "colab": {
          "base_uri": "https://localhost:8080/",
          "height": 358
        }
      },
      "outputs": [
        {
          "output_type": "error",
          "ename": "IndexError",
          "evalue": "ignored",
          "traceback": [
            "\u001b[0;31m---------------------------------------------------------------------------\u001b[0m",
            "\u001b[0;31mIndexError\u001b[0m                                Traceback (most recent call last)",
            "\u001b[0;32m<ipython-input-7-3c0f090fe36b>\u001b[0m in \u001b[0;36m<module>\u001b[0;34m()\u001b[0m\n\u001b[1;32m     14\u001b[0m     \u001b[0mprint\u001b[0m\u001b[0;34m(\u001b[0m\u001b[0;34m'Guessed class: '\u001b[0m\u001b[0;34m,\u001b[0m\u001b[0mmax\u001b[0m\u001b[0;34m(\u001b[0m\u001b[0mCounter\u001b[0m\u001b[0;34m(\u001b[0m\u001b[0mneighbors\u001b[0m\u001b[0;34m[\u001b[0m\u001b[0;34m'class'\u001b[0m\u001b[0;34m]\u001b[0m\u001b[0;34m)\u001b[0m\u001b[0;34m)\u001b[0m\u001b[0;34m)\u001b[0m\u001b[0;34m\u001b[0m\u001b[0;34m\u001b[0m\u001b[0m\n\u001b[1;32m     15\u001b[0m     \u001b[0;32mreturn\u001b[0m \u001b[0mneighbors\u001b[0m\u001b[0;34m\u001b[0m\u001b[0;34m\u001b[0m\u001b[0m\n\u001b[0;32m---> 16\u001b[0;31m \u001b[0mprint\u001b[0m\u001b[0;34m(\u001b[0m\u001b[0;34m'distance beetwen two input data'\u001b[0m\u001b[0;34m,\u001b[0m\u001b[0msquared_diff2\u001b[0m\u001b[0;34m(\u001b[0m\u001b[0mxdata\u001b[0m\u001b[0;34m[\u001b[0m\u001b[0;36m1\u001b[0m\u001b[0;34m]\u001b[0m\u001b[0;34m,\u001b[0m\u001b[0mxdata\u001b[0m\u001b[0;34m[\u001b[0m\u001b[0;36m4\u001b[0m\u001b[0;34m]\u001b[0m\u001b[0;34m)\u001b[0m\u001b[0;34m)\u001b[0m\u001b[0;34m\u001b[0m\u001b[0;34m\u001b[0m\u001b[0m\n\u001b[0m\u001b[1;32m     17\u001b[0m \u001b[0mXnew\u001b[0m \u001b[0;34m=\u001b[0m \u001b[0;34m[\u001b[0m\u001b[0;36m7.093607318\u001b[0m\u001b[0;34m,\u001b[0m\u001b[0;36m4.365731514\u001b[0m\u001b[0;34m]\u001b[0m\u001b[0;34m\u001b[0m\u001b[0;34m\u001b[0m\u001b[0m\n\u001b[1;32m     18\u001b[0m \u001b[0mYnew\u001b[0m \u001b[0;34m=\u001b[0m \u001b[0;36m1\u001b[0m\u001b[0;34m\u001b[0m\u001b[0;34m\u001b[0m\u001b[0m\n",
            "\u001b[0;32m<ipython-input-7-3c0f090fe36b>\u001b[0m in \u001b[0;36msquared_diff2\u001b[0;34m(data1, data2)\u001b[0m\n\u001b[1;32m      1\u001b[0m \u001b[0;32mfrom\u001b[0m \u001b[0mcollections\u001b[0m \u001b[0;32mimport\u001b[0m \u001b[0mCounter\u001b[0m\u001b[0;34m\u001b[0m\u001b[0;34m\u001b[0m\u001b[0m\n\u001b[1;32m      2\u001b[0m \u001b[0;32mdef\u001b[0m \u001b[0msquared_diff2\u001b[0m\u001b[0;34m(\u001b[0m\u001b[0mdata1\u001b[0m\u001b[0;34m,\u001b[0m\u001b[0mdata2\u001b[0m\u001b[0;34m)\u001b[0m\u001b[0;34m:\u001b[0m\u001b[0;34m\u001b[0m\u001b[0;34m\u001b[0m\u001b[0m\n\u001b[0;32m----> 3\u001b[0;31m     \u001b[0ma\u001b[0m\u001b[0;34m=\u001b[0m\u001b[0;34m(\u001b[0m\u001b[0mdata1\u001b[0m\u001b[0;34m[\u001b[0m\u001b[0;36m0\u001b[0m\u001b[0;34m]\u001b[0m\u001b[0;34m-\u001b[0m\u001b[0mdata2\u001b[0m\u001b[0;34m[\u001b[0m\u001b[0;36m0\u001b[0m\u001b[0;34m]\u001b[0m\u001b[0;34m)\u001b[0m\u001b[0;34m**\u001b[0m\u001b[0;36m2\u001b[0m \u001b[0;34m+\u001b[0m \u001b[0;34m(\u001b[0m\u001b[0mdata1\u001b[0m\u001b[0;34m[\u001b[0m\u001b[0;36m1\u001b[0m\u001b[0;34m]\u001b[0m\u001b[0;34m-\u001b[0m\u001b[0mdata2\u001b[0m\u001b[0;34m[\u001b[0m\u001b[0;36m1\u001b[0m\u001b[0;34m]\u001b[0m\u001b[0;34m)\u001b[0m\u001b[0;34m**\u001b[0m\u001b[0;36m2\u001b[0m\u001b[0;34m\u001b[0m\u001b[0;34m\u001b[0m\u001b[0m\n\u001b[0m\u001b[1;32m      4\u001b[0m     \u001b[0;32mreturn\u001b[0m \u001b[0mnp\u001b[0m\u001b[0;34m.\u001b[0m\u001b[0msqrt\u001b[0m\u001b[0;34m(\u001b[0m\u001b[0ma\u001b[0m\u001b[0;34m)\u001b[0m\u001b[0;34m\u001b[0m\u001b[0;34m\u001b[0m\u001b[0m\n\u001b[1;32m      5\u001b[0m \u001b[0;32mdef\u001b[0m \u001b[0mknn\u001b[0m\u001b[0;34m(\u001b[0m\u001b[0mk\u001b[0m\u001b[0;34m,\u001b[0m\u001b[0mx\u001b[0m\u001b[0;34m,\u001b[0m\u001b[0my\u001b[0m\u001b[0;34m,\u001b[0m\u001b[0mnewx\u001b[0m\u001b[0;34m)\u001b[0m\u001b[0;34m:\u001b[0m\u001b[0;34m\u001b[0m\u001b[0;34m\u001b[0m\u001b[0m\n",
            "\u001b[0;31mIndexError\u001b[0m: invalid index to scalar variable."
          ]
        }
      ],
      "source": [
        "from collections import Counter\n",
        "\n",
        "\n",
        "def squared_diff2(data1, data2):\n",
        "    a = (data1[0] - data2[0]) ** 2 + (data1[1] - data2[1]) ** 2\n",
        "    return np.sqrt(a)\n",
        "\n",
        "\n",
        "def knn(k, x, y, newx):\n",
        "    a = [squared_diff2(xdata[i], newx) for i in range(len(x))]\n",
        "    neighbors = {\"distances\": [], \"class\": [], \"index\": []}\n",
        "    b = sorted(a)\n",
        "    for i in range(k):\n",
        "        c = b[i]\n",
        "        neighbors[\"index\"].append(a.index(c))\n",
        "        neighbors[\"distances\"].append(c)\n",
        "        neighbors[\"class\"].append(y[a.index(c)])\n",
        "    print(\"Guessed class: \", max(Counter(neighbors[\"class\"])))\n",
        "    return neighbors\n",
        "\n",
        "\n",
        "print(\"distance beetwen two input data\", squared_diff2(xdata[1], xdata[4]))\n",
        "Xnew = [7.093607318, 4.365731514]\n",
        "Ynew = 1\n",
        "knn(3, xdata, ydata, Xnew)\n"
      ]
    },
    {
      "cell_type": "markdown",
      "metadata": {
        "id": "dpw6M6Xjkctx"
      },
      "source": [
        "----------\n",
        "# learning vector quantizaton \n",
        "-------------"
      ]
    },
    {
      "cell_type": "code",
      "execution_count": null,
      "metadata": {
        "id": "IKa40NAtkctx",
        "outputId": "297a3963-25b6-40a5-8360-0175fab17f06"
      },
      "outputs": [
        {
          "name": "stdout",
          "output_type": "stream",
          "text": [
            "[[7.67782042 2.82410108 1.        ]\n",
            " [2.70729724 3.08537391 0.        ]]\n",
            "Guessed class:  0\n"
          ]
        },
        {
          "data": {
            "text/plain": [
              "{'distances': [0.8946231691662638], 'class': [0], 'index': [3]}"
            ]
          },
          "execution_count": 23,
          "metadata": {},
          "output_type": "execute_result"
        }
      ],
      "source": [
        "codeBook = np.array([[10, 10, 1], [0, 0, 0.0]])\n",
        "p = print\n",
        "b = []\n",
        "LR = 0.1\n",
        "epoch = 0\n",
        "Mepoch = 500\n",
        "while epoch < Mepoch:\n",
        "    for j in range(len(xx)):\n",
        "        a = [squared_diff2(xx[j], codeBook[i]) for i in range(len(codeBook))]\n",
        "        c = a.index(min(a))\n",
        "        d = codeBook[c][2]\n",
        "        e = xx[j][2]\n",
        "        # p(e,d, e == d , codeBook[c])\n",
        "        for k in range(len(codeBook[0]) - 1):\n",
        "            if e == d:\n",
        "                codeBook[c][k] = codeBook[c][k] + (LR * (xx[j][k] - codeBook[c][k]))\n",
        "            elif e != d:\n",
        "                codeBook[c][k] = codeBook[c][k] - (LR * (xx[j][k] - codeBook[c][k]))\n",
        "    epoch += 1\n",
        "p(codeBook)\n",
        "\n",
        "xnew = [3, 4]\n",
        "knn(1, xdata, ydata, xnew)\n"
      ]
    },
    {
      "cell_type": "markdown",
      "metadata": {
        "id": "pZWOSmHdkcty"
      },
      "source": [
        "# support vector machine\n",
        "SVM"
      ]
    },
    {
      "cell_type": "markdown",
      "source": [
        "# **kmeans**"
      ],
      "metadata": {
        "id": "5YEbIcSYx7w1"
      }
    },
    {
      "cell_type": "markdown",
      "source": [
        "\n",
        "# ensemble algorithms\n",
        "\n",
        "```\n",
        "bagging \n",
        "boosting\n",
        "stacking\n",
        "```\n",
        "\n",
        "\n"
      ],
      "metadata": {
        "id": "8YP8qNnax_D6"
      }
    },
    {
      "cell_type": "code",
      "execution_count": null,
      "metadata": {
        "id": "vXvtdwjakct2"
      },
      "outputs": [],
      "source": [
        ""
      ]
    }
  ],
  "metadata": {
    "kernelspec": {
      "display_name": "Python 3 (ipykernel)",
      "language": "python",
      "name": "python3"
    },
    "language_info": {
      "codemirror_mode": {
        "name": "ipython",
        "version": 3
      },
      "file_extension": ".py",
      "mimetype": "text/x-python",
      "name": "python",
      "nbconvert_exporter": "python",
      "pygments_lexer": "ipython3",
      "version": "3.9.7"
    },
    "colab": {
      "name": "MLalgorithm.ipynb",
      "provenance": [],
      "collapsed_sections": [],
      "include_colab_link": true
    }
  },
  "nbformat": 4,
  "nbformat_minor": 0
}