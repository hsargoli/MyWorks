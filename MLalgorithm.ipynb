{
  "cells": [
    {
      "cell_type": "markdown",
      "metadata": {
        "id": "view-in-github",
        "colab_type": "text"
      },
      "source": [
        "<a href=\"https://colab.research.google.com/github/hsargoli/MyWorks/blob/main/MLalgorithm.ipynb\" target=\"_parent\"><img src=\"https://colab.research.google.com/assets/colab-badge.svg\" alt=\"Open In Colab\"/></a>"
      ]
    },
    {
      "cell_type": "markdown",
      "source": [
        "\n",
        "```\n",
        " I have tried to design some machine learning algorithms in this file. with numpy\n",
        "\n",
        "```"
      ],
      "metadata": {
        "id": "n4VQ-P-pPxU4"
      }
    },
    {
      "cell_type": "code",
      "execution_count": 3,
      "metadata": {
        "id": "z8kjLNGukcsv"
      },
      "outputs": [],
      "source": [
        "import matplotlib.pyplot as plt\n",
        "import numpy as np"
      ]
    },
    {
      "cell_type": "markdown",
      "metadata": {
        "id": "EYdwpOPOkcs4"
      },
      "source": [
        "# linear regression\n",
        "------"
      ]
    },
    {
      "cell_type": "code",
      "execution_count": 5,
      "metadata": {
        "id": "lydhzM6DkctB",
        "outputId": "8e1c6472-a4f6-422c-f8b7-9a7eac93e448",
        "colab": {
          "base_uri": "https://localhost:8080/",
          "height": 334
        }
      },
      "outputs": [
        {
          "output_type": "stream",
          "name": "stdout",
          "text": [
            "mean x , mean y \t 3.0 2.8\n"
          ]
        },
        {
          "output_type": "display_data",
          "data": {
            "text/plain": [
              "<Figure size 432x288 with 1 Axes>"
            ],
            "image/png": "[encoded data removed]"
          },
          "metadata": {
            "needs_background": "light"
          }
        },
        {
          "output_type": "stream",
          "name": "stdout",
          "text": [
            "\tpredicted y:[1.1999999999999995, 1.9999999999999996, 3.5999999999999996, 2.8, 4.3999999999999995]\n",
            "\ttrue y:[1, 3, 3, 2, 5]\n",
            "+ error (mean distance from y ):  0.692820323027551\n"
          ]
        }
      ],
      "source": [
        "xx = [1, 2, 4, 3, 5]\n",
        "yy = [1, 3, 3, 2, 5]\n",
        "\n",
        "\n",
        "def meang(data):\n",
        "    ins_num = len(data)\n",
        "    ins_sum = sum(data)\n",
        "    res = ins_sum / ins_num\n",
        "    return res\n",
        "\n",
        "\n",
        "meanX = meang(xx)\n",
        "meanY = meang(yy)\n",
        "print(\"mean x , mean y \\t\", meanX, meanY)\n",
        "#  y=b0+ b1*x\n",
        "#  b1=sum((xi-mean) -( yi - mean))/sum ((xi-mean)**2)\n",
        "def simple_linear_regression(x, y):\n",
        "    \"\"\"\n",
        "    if y depend on one x\n",
        "    \"\"\"\n",
        "    meanX = meang(x)\n",
        "    meanY = meang(y)\n",
        "    s0 = []\n",
        "    s1 = []\n",
        "    for i in range(len(x)):\n",
        "        sorat = (x[i] - meanX) * (y[i] - meanY)\n",
        "        makhraj = (x[i] - meanX) ** 2\n",
        "        s0.append(sorat)\n",
        "        s1.append(makhraj)\n",
        "    b1res = sum(s0) / sum(s1)\n",
        "    b0res = meanY - (b1res * meanX)\n",
        "    resy = []\n",
        "    for i in range(len(x)):\n",
        "        a = b0res + (b1res * x[i])\n",
        "        resy.append(a)\n",
        "    plt.plot(x, resy)\n",
        "    plt.scatter(x, y, color=\"r\")\n",
        "\n",
        "    plt.show()\n",
        "    return resy\n",
        "\n",
        "\n",
        "yp = simple_linear_regression(xx, yy)\n",
        "print(\"\\tpredicted y:{}\\n\\ttrue y:{}\".format(yp, yy))\n",
        "\n",
        "\n",
        "def Rmse(yd, yp):\n",
        "    n = len(yp)\n",
        "    b = []\n",
        "    for i in range(n):\n",
        "        a = (yp[i] - yd[i]) ** 2\n",
        "        b.append(a)\n",
        "    c = sum(b)\n",
        "    d = np.sqrt(c / n)\n",
        "    return d\n",
        "\n",
        "\n",
        "# shortcut for find B1\n",
        "# b1=np.corrcoef(xx,yy)[1][0]*(np.std(yy)/np.std(xx))\n",
        "\n",
        "if __name__ == \"__main__\":\n",
        "    print(\"+ error (mean distance from y ): \", Rmse(yy, yp))\n"
      ]
    },
    {
      "cell_type": "markdown",
      "metadata": {
        "id": "tBaeS3MdkctG"
      },
      "source": [
        "# Gradient descent \n",
        "----------"
      ]
    },
    {
      "cell_type": "code",
      "execution_count": 13,
      "metadata": {
        "tags": [],
        "id": "rOhJHmX0kctI",
        "outputId": "1c653017-3f5c-406b-a17d-b7b25a55767d",
        "colab": {
          "base_uri": "https://localhost:8080/"
        }
      },
      "outputs": [
        {
          "output_type": "stream",
          "name": "stdout",
          "text": [
            "index 0 -> 1 is Picked for gradient descent.\t\n",
            "Resulting weights: [1.9999179520297095, 1.9999179520297095]\n",
            "true y: 4 \tpredicted y: 3.999835904059419\n",
            "true y: 6 \tpredicted y: 5.999753856089129\n",
            "true y: 12 \tpredicted y: 7.999671808118838\n",
            "true y: 13 \tpredicted y: 9.999589760148547\n",
            "true y: 15 \tpredicted y: 11.999507712178257\n",
            "\n",
            "root mean squared error (RMSE) :  2.6079893138951595\n",
            " =--------= \n",
            "index 1 -> 2 is Picked for gradient descent.\t\n",
            "Resulting weights: [1.999967180811881, 2.0000164095940542]\n",
            "true y: 4 \tpredicted y: 3.999983590405935\n",
            "true y: 6 \tpredicted y: 5.999999999999989\n",
            "true y: 12 \tpredicted y: 8.000016409594044\n",
            "true y: 13 \tpredicted y: 10.000032819188098\n",
            "true y: 15 \tpredicted y: 12.000049228782151\n",
            "\n",
            "root mean squared error (RMSE) :  2.6076570495164915\n",
            " =--------= \n",
            "index 2 -> 3 is Picked for gradient descent.\t\n",
            "Resulting weights: [2.3999655398524737, 3.2000114867158396]\n",
            "true y: 4 \tpredicted y: 5.599977026568313\n",
            "true y: 6 \tpredicted y: 8.799988513284152\n",
            "true y: 12 \tpredicted y: 11.999999999999993\n",
            "true y: 13 \tpredicted y: 15.200011486715832\n",
            "true y: 15 \tpredicted y: 18.40002297343167\n",
            "\n",
            "root mean squared error (RMSE) :  2.315170357516454\n",
            " =--------= \n",
            "index 3 -> 4 is Picked for gradient descent.\t\n",
            "Resulting weights: [2.270553099457425, 2.682361725135645]\n",
            "true y: 4 \tpredicted y: 4.95291482459307\n",
            "true y: 6 \tpredicted y: 7.635276549728715\n",
            "true y: 12 \tpredicted y: 10.31763827486436\n",
            "true y: 13 \tpredicted y: 13.000000000000005\n",
            "true y: 15 \tpredicted y: 15.682361725135651\n",
            "\n",
            "root mean squared error (RMSE) :  1.1728712252547902\n",
            " =--------= \n",
            "index 4 -> 5 is Picked for gradient descent.\t\n",
            "Resulting weights: [2.2443084177214376, 2.551138316455713]\n",
            "true y: 4 \tpredicted y: 4.795446734177151\n",
            "true y: 6 \tpredicted y: 7.346585050632864\n",
            "true y: 12 \tpredicted y: 9.897723367088577\n",
            "true y: 13 \tpredicted y: 12.44886168354429\n",
            "true y: 15 \tpredicted y: 15.000000000000004\n",
            "\n",
            "root mean squared error (RMSE) :  1.19744288303468\n",
            " =--------= \n",
            "minimum errors is 1.1728712252547902 with index 3\n"
          ]
        }
      ],
      "source": [
        "# y=b0+ b1*x\n",
        "# for 1st of yy and xx\n",
        "\n",
        "xx = [1, 2, 3, 4, 5]\n",
        "yy = [4, 6, 12, 13, 15]\n",
        "\n",
        "\n",
        "def GD(initweight, index):\n",
        "    \"\"\"\n",
        "    update weights based on input index to minimize error\n",
        "     initweight :\n",
        "         initial weight, What weight does it start with?\n",
        "     index : \n",
        "         wich index optimized\n",
        "    \"\"\"\n",
        "    init_weight = initweight\n",
        "    yyp = init_weight[0] + init_weight[1] * xx[index]\n",
        "    err = yyp - yy[index]\n",
        "    for i in range(500):  # range ( iteration )\n",
        "        # print(init_weight)\n",
        "        learning_rate = 0.01\n",
        "        init_weight[0] = init_weight[0] - (err * learning_rate)\n",
        "        init_weight[1] = init_weight[1] - (\n",
        "            err * learning_rate * xx[index]\n",
        "        )  # error naghsh gradian ro dare\n",
        "        # dar asl bayad moshtagh martabe 1 taabe baashe\n",
        "        yyp = init_weight[0] + init_weight[1] * xx[index]\n",
        "        err = yyp - yy[index]\n",
        "\n",
        "    return init_weight\n",
        "\n",
        "\n",
        "def predictor(x, y, w):\n",
        "    resy = []\n",
        "    for i in range(len(x)):\n",
        "        yyp = w[0] + w[1] * x[i]\n",
        "        resy.append(yyp)\n",
        "    for i, j in zip(y, resy):\n",
        "        print(f\"true y: {i}\", f\"\\tpredicted y: {j}\")\n",
        "    return resy\n",
        "\n",
        "\n",
        "def present(init_w, xdata, ydata):\n",
        "    errs = []\n",
        "    for i in range(len(xdata)):\n",
        "        wn = GD(init_w, i)\n",
        "        print(\n",
        "            \"index {} -> {} is Picked for gradient descent.\".format(i,xdata[i]),\n",
        "            f\"\\nResulting weights: {wn}\",\n",
        "            sep=\"\\t\",\n",
        "        )\n",
        "        basd = predictor(xdata, ydata, wn)\n",
        "        err = Rmse(ydata, basd)\n",
        "        errs.append(err)\n",
        "        print(\"\\nroot mean squared error (RMSE) : \", err)\n",
        "        print(\" =--------= \")\n",
        "    print(f\"minimum errors is {min(errs)} with index {errs.index(min(errs))}\")\n",
        "\n",
        "\n",
        "present([0, 0], xx, yy)\n"
      ]
    },
    {
      "cell_type": "markdown",
      "metadata": {
        "id": "J8uQ77lTkctL"
      },
      "source": [
        "# Logistic regression\n",
        "---------"
      ]
    },
    {
      "cell_type": "code",
      "execution_count": null,
      "metadata": {
        "id": "qS-3BXY-kctQ",
        "outputId": "f083c447-d48c-413a-f4eb-c28c932416f7",
        "colab": {
          "base_uri": "https://localhost:8080/",
          "height": 317
        }
      },
      "outputs": [
        {
          "output_type": "stream",
          "name": "stdout",
          "text": [
            "pair of true y and predicted y [(0, 0), (0, 0), (0, 0), (0, 0), (0, 0), (1, 1), (1, 1), (1, 1), (1, 1), (1, 1)] \n",
            "accuracy : \t 1.0\n",
            "predicted weights: [4.71628903726491, 6.513975172017398, -12.70691938958398]\n"
          ]
        },
        {
          "output_type": "display_data",
          "data": {
            "text/plain": [
              "<Figure size 432x288 with 1 Axes>"
            ],
            "image/png": "[encoded data removed]"
          },
          "metadata": {
            "needs_background": "light"
          }
        }
      ],
      "source": [
        "import random\n",
        "\n",
        "X = np.array(\n",
        "    [\n",
        "        [2.7810836, 2.550537003, 0],\n",
        "        [1.465489372, 2.362125076, 0],\n",
        "        [4.396561688, 4.400293529, 0],\n",
        "        [1.38807019, 1.850220317, 0],\n",
        "        [3.06407232, 3.005305973, 0],\n",
        "        [7.627531214, 2.759262235, 1],\n",
        "        [5.332441248, 2.088626775, 1],\n",
        "        [6.922596716, 1.77106367, 1],\n",
        "        [8.675418651, -0.242068655, 1],\n",
        "        [7.673756466, 3.508563011, 1],\n",
        "    ]\n",
        ")\n",
        "x1, x2, y = X[:, 0], X[:, 1], X[:, 2]\n",
        "a = np.ones(len(x2))\n",
        "Xd = np.array(list(zip(x1, x2)))\n",
        "\n",
        "y = [int(x) for x in y]\n",
        "colormap = np.array([\"r\", \"g\"])\n",
        "plt.scatter(x1, x2, color=colormap[y])\n",
        "\n",
        "\n",
        "class LR:\n",
        "    def __init__(self):\n",
        "        pass\n",
        "\n",
        "    def sigmoid(self, w, x):\n",
        "        res = w[0] + (np.dot(w[1:], x))\n",
        "        out = 1 / (1 + np.exp(-res))\n",
        "        return out\n",
        "\n",
        "    def updater2(self, w, alpha, y, ypred, x):\n",
        "        wnew = []\n",
        "        for i in range(len(w)):\n",
        "            if i == 0:\n",
        "                w1 = w[i] + alpha * (y - ypred) * ypred * (1 - ypred) * 1\n",
        "                wnew.append(w1)\n",
        "            elif i >= 1:\n",
        "                w1 = (\n",
        "                    w[i] + alpha * (y - ypred) * x[(i - 1)]\n",
        "                )  # (y-ypred) * ypred * (1-ypred)* x[(i-1)]\n",
        "                wnew.append(w1)\n",
        "        return wnew\n",
        "\n",
        "    def updater(self, w, alpha, y, ypred, x):\n",
        "        w1 = w[0] + alpha * (y - ypred) * ypred * (1 - ypred) * 1\n",
        "        w2 = w[1] + alpha * (y - ypred) * ypred * (1 - ypred) * x[0]\n",
        "        w3 = w[2] + alpha * (y - ypred) * ypred * (1 - ypred) * x[1]\n",
        "        wnew = list([w1, w2, w3])\n",
        "        return wnew\n",
        "\n",
        "    def doo(self, inw, x, y, ite, lr): # do gradient descent and sigmoid function Continually\n",
        "        t = 0\n",
        "        w = inw\n",
        "        while t < ite:\n",
        "            random_index = random.randint(0, 9)\n",
        "            res = self.sigmoid(w, x[random_index])\n",
        "            w = self.updater2(w, lr, y[random_index], res, x[random_index])\n",
        "            t += 1\n",
        "        return w\n",
        "\n",
        "    def predicter(self, w, x, y):  # for Highlighting accuracy of algorithm\n",
        "        sto = []\n",
        "        for i in x:\n",
        "            a = self.sigmoid(w, i)\n",
        "            sto.append(a)\n",
        "        res = []\n",
        "        for i in sto:\n",
        "            if i >= 0.5:\n",
        "                i = 1\n",
        "                res.append(i)\n",
        "            elif i < 0.5:\n",
        "                i = 0\n",
        "                res.append(i)\n",
        "        acc = [(i, j) for i, j in zip(y, res)]\n",
        "        score = 0\n",
        "        for i, j in acc:\n",
        "            if i == j:\n",
        "                score += 1\n",
        "        print(f'pair of true y and predicted y {acc}', \"\\naccuracy : \\t\", score / len(x))\n",
        "        return res\n",
        "\n",
        "    def present(self, index, initweight, x, y, iteration, LR):\n",
        "        inw = initweight\n",
        "        www = self.doo(initweight, x, y, iteration, LR)\n",
        "        self.predicter(www, x, y)\n",
        "        print(\"weights : \", www)\n",
        "\n",
        "\n",
        "sg = LR()\n",
        "inw = [0, 0, 0]\n",
        "#                                yp=sg.sigmoid(inw,Xd[4])\n",
        "#                                sg.updater([0,0,0],0.003,y[0],yp,Xd[0])\n",
        "www = sg.doo([5, -6, 0], Xd, y, 40000, 2)\n",
        "#                                             sg.predicter(www,Xd,y)\n",
        "sg.predicter(www, Xd, y)\n",
        "print(f'predicted weights: {www}')\n"
      ]
    },
    {
      "cell_type": "markdown",
      "metadata": {
        "id": "9T-gNnl_kctY"
      },
      "source": [
        "# Linear Discriminant Analysis\n",
        "---------------\n",
        "calculate mean and variance for each class\n",
        "\n",
        "\n",
        "Logistic Regression is one of the most popular linear classification models that perform well for binary classification but falls short in the case of multiple classification problems with well-separated classes. While LDA handles these quite efficiently.\n",
        "\n",
        "LDA can also be used in data preprocessing to reduce the number of features just as PCA(Principal component analysis) which reduces the computing cost significantly.\n",
        "\n",
        "LDA is also used in face detection algorithms. In Fisherfaces LDA is used to extract useful data from different faces. Coupled with eigenfaces it produces effective results."
      ]
    },
    {
      "cell_type": "code",
      "execution_count": null,
      "metadata": {
        "id": "-fAxcJ7okctc",
        "outputId": "2e7e9cd9-91aa-457f-c3b9-44cdd89099fd",
        "colab": {
          "base_uri": "https://localhost:8080/",
          "height": 267
        }
      },
      "outputs": [
        {
          "output_type": "display_data",
          "data": {
            "text/plain": [
              "<Figure size 432x288 with 1 Axes>"
            ],
            "image/png": "[encoded data removed]"
          },
          "metadata": {
            "needs_background": "light"
          }
        }
      ],
      "source": [
        "# Load and feature map of data\n",
        "data = [\n",
        "    [4.667797637, 0],\n",
        "    [5.509198779, 0],\n",
        "    [4.702791608, 0],\n",
        "    [5.956706641, 0],\n",
        "    [10.738622413, 0],\n",
        "    [5.027283325, 0],\n",
        "    [4.805434058, 0],\n",
        "    [4.425689143, 0],\n",
        "    [5.009368635, 0],\n",
        "    [5.116718815, 0],\n",
        "    [6.370917709, 0],\n",
        "    [2.895041947, 0],\n",
        "    [4.666842365, 0],\n",
        "    [5.602154638, 0],\n",
        "    [4.902797978, 0],\n",
        "    [5.032652964, 0],\n",
        "    [4.083972925, 0],\n",
        "    [4.875524106, 0],\n",
        "    [4.732801047, 0],\n",
        "    [5.385993407, 0],\n",
        "    [20.74393514, 1],\n",
        "    [21.41752855, 1],\n",
        "    [20.57924186, 1],\n",
        "    [20.7386947, 1],\n",
        "    [19.44605384, 1],\n",
        "    [18.36360265, 1],\n",
        "    [19.90363232, 1],\n",
        "    [19.10870851, 1],\n",
        "    [18.18787593, 1],\n",
        "    [19.71767611, 1],\n",
        "    [19.09629027, 1],\n",
        "    [20.52741312, 1],\n",
        "    [20.63205608, 1],\n",
        "    [19.86218119, 1],\n",
        "    [21.34670569, 1],\n",
        "    [20.333906, 1],\n",
        "    [21.02714855, 1],\n",
        "    [18.27536089, 1],\n",
        "    [21.77371156, 1],\n",
        "    [20.65953546, 1],\n",
        "]\n",
        "data = np.array(data)\n",
        "xdata = data[:, 0]\n",
        "ydata = data[:, 1]\n",
        "y = [int(i) for i in ydata]\n",
        "colormap = np.array([\"b\", \"k\"])\n",
        "plt.scatter(range(len(xdata)), xdata, color=colormap[y])\n",
        "plt.show()\n",
        "class1 = []\n",
        "class2 = []\n",
        "# seperating each class into c1 and c2\n",
        "for i in range(len(xdata)):\n",
        "    if ydata[i] == 0:\n",
        "        class1.append(xdata[i])\n",
        "    elif ydata[i] == 1:\n",
        "        class2.append(xdata[i])\n",
        "c1, c2 = np.array(class1), np.array(class2)\n",
        "meanC1, meanC2 = np.mean(c1), np.mean(c2)\n",
        "classprobability = [\n",
        "    y.count(1) / len(y),\n",
        "    y.count(0) / len(y),\n",
        "]  # in each class how many data present\n"
      ]
    },
    {
      "cell_type": "code",
      "execution_count": null,
      "metadata": {
        "scrolled": true,
        "tags": [],
        "id": "wkWG_9yfkcte",
        "outputId": "054f9876-9aca-406c-c489-8705b881080b",
        "colab": {
          "base_uri": "https://localhost:8080/"
        }
      },
      "outputs": [
        {
          "output_type": "stream",
          "name": "stdout",
          "text": [
            "pair of True y and Predicte y [[0, 0], [0, 0], [0, 0], [0, 0], [0, 0], [0, 0], [0, 0], [0, 0], [0, 0], [0, 0], [0, 0], [0, 0], [0, 0], [0, 0], [0, 0], [0, 0], [0, 0], [0, 0], [0, 0], [0, 0], [1, 1], [1, 1], [1, 1], [1, 1], [1, 1], [1, 1], [1, 1], [1, 1], [1, 1], [1, 1], [1, 1], [1, 1], [1, 1], [1, 1], [1, 1], [1, 1], [1, 1], [1, 1], [1, 1], [1, 1]] \n",
            "acc 1.0\n"
          ]
        }
      ],
      "source": [
        "def SquaredDifference(data):\n",
        "    mean = sum(data) / len(data)\n",
        "    a = [(i - mean) ** 2 for i in data]\n",
        "    a = sum(a)\n",
        "    return a\n",
        "\n",
        "\n",
        "def variance(SD, Nclass, Ninstance):\n",
        "    return 1 / (Ninstance - Nclass) * SD\n",
        "\n",
        "\n",
        "SDC1, SDC2 = SquaredDifference(c1), SquaredDifference(c2)\n",
        "SDT = SDC1 + SDC2\n",
        "var = variance(SDT, 2, len(xdata))\n",
        "# ,,,,,,,,,,,,,,,,,,,,,,,,,,,,,,,,,,,,,,,,,,,,,,,,,,,,,,,,,\n",
        "import math\n",
        "\n",
        "\n",
        "def LdA(x, mean, var, classProbability):\n",
        "    a = x * (mean / var) - ((mean) ** 2 / (var * 2)) + math.log(classProbability)\n",
        "    return a\n",
        "\n",
        "\n",
        "def predict(x, mean, var, classProbability):\n",
        "    sto = []\n",
        "    for i in xdata:\n",
        "\n",
        "        a = LdA(i, meanC1, var, classprobability[0])\n",
        "        b = LdA(i, meanC2, var, classprobability[1])\n",
        "        sto.append([a, b])\n",
        "    res = []\n",
        "    for i, j in sto:\n",
        "        a = 0 if i > j else 1\n",
        "        res.append(a)\n",
        "    return res\n",
        "\n",
        "\n",
        "yp = predict(i, meanC1, var, classprobability[0])\n",
        "\n",
        "\n",
        "def acc(Ty, Py):\n",
        "    ss = 0\n",
        "    A = []\n",
        "    for i in range(len(Ty)):\n",
        "        A.append([Ty[i], Py[i]])\n",
        "        if Ty[i] == Py[i]:\n",
        "            ss += 1\n",
        "    print(f\"pair of True y and Predicte y {A}\", \"\\nacc\", ss / len(y))\n",
        "\n",
        "\n",
        "acc(y, yp)\n"
      ]
    },
    {
      "cell_type": "markdown",
      "metadata": {
        "id": "4j2R_toxkctg"
      },
      "source": [
        "# `NonLinear algorithms`\n",
        " nonparametric\n",
        " "
      ]
    },
    {
      "cell_type": "markdown",
      "metadata": {
        "id": "AnBx44y8kcth"
      },
      "source": [
        "# CART \n",
        "---------"
      ]
    },
    {
      "cell_type": "code",
      "execution_count": null,
      "metadata": {
        "id": "BRUKP8HGkcti",
        "outputId": "e9b329b1-426f-4423-a5fb-426491865b1c",
        "colab": {
          "base_uri": "https://localhost:8080/",
          "height": 283
        }
      },
      "outputs": [
        {
          "output_type": "execute_result",
          "data": {
            "text/plain": [
              "<matplotlib.collections.PathCollection at 0x7f8253f57ed0>"
            ]
          },
          "metadata": {},
          "execution_count": 7
        },
        {
          "output_type": "display_data",
          "data": {
            "text/plain": [
              "<Figure size 432x288 with 1 Axes>"
            ],
            "image/png": "[encoded data removed]"
          },
          "metadata": {
            "needs_background": "light"
          }
        }
      ],
      "source": [
        "\n",
        "data = [\n",
        "    [2.771244718, 1.784783929, 0],\n",
        "    [1.728571309, 1.169761413, 0],\n",
        "    [3.678319846, 2.81281357, 0],\n",
        "    [3.961043357, 2.61995032, 0],\n",
        "    [2.999208922, 2.209014212, 0],\n",
        "    [7.497545867, 3.162953546, 1],\n",
        "    [9.00220326, 3.339047188, 1],\n",
        "    [7.444542326, 3.476683375, 1],\n",
        "    [10.12493903, 3.234550982, 1],\n",
        "    [6.642287351, 3.319983761, 1],\n",
        "]\n",
        "data = np.array(data)\n",
        "xdata = data[:, :2]\n",
        "ydata = data[:, 2]\n",
        "ydata = [int(i) for i in ydata]\n",
        "colormap = np.array([\"r\", \"b\"])\n",
        "plt.scatter(xdata[:, 0], xdata[:, 1], color=colormap[ydata])\n"
      ]
    },
    {
      "cell_type": "code",
      "execution_count": null,
      "metadata": {
        "id": "7a6SNav1kctk",
        "outputId": "26ee721d-e93c-42df-f93f-57e1c373447e",
        "colab": {
          "base_uri": "https://localhost:8080/",
          "height": 219
        }
      },
      "outputs": [
        {
          "output_type": "stream",
          "name": "stdout",
          "text": [
            "epoch 0\n"
          ]
        },
        {
          "output_type": "error",
          "ename": "IndexError",
          "evalue": "ignored",
          "traceback": [
            "\u001b[0;31m---------------------------------------------------------------------------\u001b[0m",
            "\u001b[0;31mIndexError\u001b[0m                                Traceback (most recent call last)",
            "\u001b[0;32m<ipython-input-8-2d0e94b4a980>\u001b[0m in \u001b[0;36m<module>\u001b[0;34m()\u001b[0m\n\u001b[1;32m     25\u001b[0m \u001b[0;32mfor\u001b[0m \u001b[0mi\u001b[0m \u001b[0;32min\u001b[0m \u001b[0mrange\u001b[0m\u001b[0;34m(\u001b[0m\u001b[0mlen\u001b[0m\u001b[0;34m(\u001b[0m\u001b[0mxdata\u001b[0m\u001b[0;34m)\u001b[0m\u001b[0;34m)\u001b[0m\u001b[0;34m:\u001b[0m\u001b[0;34m\u001b[0m\u001b[0;34m\u001b[0m\u001b[0m\n\u001b[1;32m     26\u001b[0m     \u001b[0mprint\u001b[0m\u001b[0;34m(\u001b[0m\u001b[0;34m\"epoch\"\u001b[0m\u001b[0;34m,\u001b[0m \u001b[0mi\u001b[0m\u001b[0;34m)\u001b[0m\u001b[0;34m\u001b[0m\u001b[0;34m\u001b[0m\u001b[0m\n\u001b[0;32m---> 27\u001b[0;31m     \u001b[0mspliter\u001b[0m\u001b[0;34m(\u001b[0m\u001b[0mxdata\u001b[0m\u001b[0;34m[\u001b[0m\u001b[0;34m:\u001b[0m\u001b[0;34m,\u001b[0m \u001b[0;36m0\u001b[0m\u001b[0;34m]\u001b[0m\u001b[0;34m,\u001b[0m \u001b[0mi\u001b[0m\u001b[0;34m,\u001b[0m \u001b[0mydata\u001b[0m\u001b[0;34m)\u001b[0m\u001b[0;34m\u001b[0m\u001b[0;34m\u001b[0m\u001b[0m\n\u001b[0m",
            "\u001b[0;31mIndexError\u001b[0m: too many indices for array: array is 1-dimensional, but 2 were indexed"
          ]
        }
      ],
      "source": [
        "def spliter(data, sp, y):\n",
        "    navi = {\"left\": [], \"right\": []}\n",
        "    for i in range(len(data)):\n",
        "        if data[i] >= sp:\n",
        "            navi[\"right\"].append(y[i])\n",
        "        elif data[i] < sp:\n",
        "            navi[\"left\"].append(y[i])\n",
        "    if len(navi[\"left\"]) != 0 and len(navi[\"right\"]) != 0:\n",
        "        left_class1 = navi[\"left\"].count(1) / len(navi[\"left\"])\n",
        "        left_class2 = 1 - left_class1\n",
        "        right_class1 = navi[\"right\"].count(1) / len(navi[\"right\"])\n",
        "        right_class2 = 1 - right_class1\n",
        "        gini = (\n",
        "            left_class1 * (1 - left_class1)\n",
        "            + right_class1 * (1 - right_class1)\n",
        "            + left_class2 * (1 - left_class2)\n",
        "            + right_class2 * (1 - right_class2)\n",
        "        )\n",
        "        print(\"gini value {}\".format(gini), navi, sep=\"\\n\")\n",
        "    else:\n",
        "        print(\"\\tgini = 1 \")\n",
        "    return navi\n",
        "\n",
        "\n",
        "for i in range(len(xdata)):\n",
        "    print(\"epoch\", i)\n",
        "    spliter(xdata[:, 0], i, ydata)\n"
      ]
    },
    {
      "cell_type": "markdown",
      "metadata": {
        "id": "7DCRhIFnkctl"
      },
      "source": [
        "# Naive bayes\n",
        "----"
      ]
    },
    {
      "cell_type": "code",
      "execution_count": null,
      "metadata": {
        "id": "gW0Y5wSUkctm",
        "outputId": "c14e10c3-ed85-4683-8182-f0886dadf349",
        "colab": {
          "base_uri": "https://localhost:8080/",
          "height": 245
        }
      },
      "outputs": [
        {
          "output_type": "error",
          "ename": "FileNotFoundError",
          "evalue": "ignored",
          "traceback": [
            "\u001b[0;31m---------------------------------------------------------------------------\u001b[0m",
            "\u001b[0;31mFileNotFoundError\u001b[0m                         Traceback (most recent call last)",
            "\u001b[0;32m<ipython-input-9-f1e16b6af623>\u001b[0m in \u001b[0;36m<module>\u001b[0;34m()\u001b[0m\n\u001b[0;32m----> 1\u001b[0;31m \u001b[0;32mwith\u001b[0m \u001b[0mopen\u001b[0m\u001b[0;34m(\u001b[0m\u001b[0;34m\"naive.txt\"\u001b[0m\u001b[0;34m)\u001b[0m \u001b[0;32mas\u001b[0m \u001b[0mfile\u001b[0m\u001b[0;34m:\u001b[0m\u001b[0;34m\u001b[0m\u001b[0;34m\u001b[0m\u001b[0m\n\u001b[0m\u001b[1;32m      2\u001b[0m     \u001b[0mreaded_data\u001b[0m \u001b[0;34m=\u001b[0m \u001b[0mfile\u001b[0m\u001b[0;34m.\u001b[0m\u001b[0mread\u001b[0m\u001b[0;34m(\u001b[0m\u001b[0;34m)\u001b[0m\u001b[0;34m.\u001b[0m\u001b[0mstrip\u001b[0m\u001b[0;34m(\u001b[0m\u001b[0;34m)\u001b[0m\u001b[0;34m.\u001b[0m\u001b[0msplit\u001b[0m\u001b[0;34m(\u001b[0m\u001b[0;34m\"\\n\"\u001b[0m\u001b[0;34m)\u001b[0m\u001b[0;34m\u001b[0m\u001b[0;34m\u001b[0m\u001b[0m\n\u001b[1;32m      3\u001b[0m     \u001b[0mreaded\u001b[0m \u001b[0;34m=\u001b[0m \u001b[0;34m[\u001b[0m\u001b[0mi\u001b[0m\u001b[0;34m.\u001b[0m\u001b[0msplit\u001b[0m\u001b[0;34m(\u001b[0m\u001b[0;34m\" \"\u001b[0m\u001b[0;34m)\u001b[0m \u001b[0;32mfor\u001b[0m \u001b[0mi\u001b[0m \u001b[0;32min\u001b[0m \u001b[0mreaded_data\u001b[0m\u001b[0;34m]\u001b[0m\u001b[0;34m\u001b[0m\u001b[0;34m\u001b[0m\u001b[0m\n\u001b[1;32m      4\u001b[0m \u001b[0;32mdel\u001b[0m \u001b[0mreaded\u001b[0m\u001b[0;34m[\u001b[0m\u001b[0;36m0\u001b[0m\u001b[0;34m]\u001b[0m\u001b[0;34m\u001b[0m\u001b[0;34m\u001b[0m\u001b[0m\n\u001b[1;32m      5\u001b[0m \u001b[0mb\u001b[0m \u001b[0;34m=\u001b[0m \u001b[0mnp\u001b[0m\u001b[0;34m.\u001b[0m\u001b[0marray\u001b[0m\u001b[0;34m(\u001b[0m\u001b[0mreaded\u001b[0m\u001b[0;34m)\u001b[0m\u001b[0;34m\u001b[0m\u001b[0;34m\u001b[0m\u001b[0m\n",
            "\u001b[0;31mFileNotFoundError\u001b[0m: [Errno 2] No such file or directory: 'naive.txt'"
          ]
        }
      ],
      "source": [
        "with open(\"naive.txt\") as file:\n",
        "    readed_data = file.read().strip().split(\"\\n\")\n",
        "    readed = [i.split(\" \") for i in readed_data]\n",
        "del readed[0]\n",
        "b = np.array(readed)\n",
        "print(\" our data : \\n\", b, end=\"\\n----------\\n\")\n",
        "sto = []\n",
        "for i in range(len(b)):\n",
        "    for j in range(len(b[0])):\n",
        "        if b[i][j] == \"sunny\" or b[i][j] == \"working\" or b[i][j] == \"go-out\":\n",
        "            a = 1\n",
        "            sto.append(a)\n",
        "        elif b[i][j] == \"rainy\" or b[i][j] == \"broken\" or b[i][j] == \"stay-home\":\n",
        "            a = 0\n",
        "            sto.append(a)\n",
        "sto = np.reshape(sto, (10, 3))\n",
        "weather = sto[:, 0]\n",
        "car = sto[:, 1]\n",
        "ydata = sto[:, 2]\n",
        "#  naive Bayes\n",
        "# - - - - - - - - -\n",
        "class NB:\n",
        "    def __init__(self, classes, data1, data2):\n",
        "        self.classes = classes\n",
        "        self.data1 = data1\n",
        "        self.data2 = data2\n",
        "\n",
        "    def be_shart(self, dataa, term1, term2):\n",
        "        \"\"\"\n",
        "        dataa :\n",
        "            car or weather\n",
        "        term 1:\n",
        "            for dataa 0 broken or rainy \n",
        "        term 2:\n",
        "            for y classes 0 stayHome 1 goOut\n",
        "        \n",
        "        \"\"\"\n",
        "        class_probability = list(self.classes).count(term2) / len(self.classes)\n",
        "        sto1 = []\n",
        "        for i in range(len(self.classes)):\n",
        "            if dataa[i] == term1 and self.classes[i] == term2:\n",
        "                sto1.append(i)\n",
        "            # print(self.data1[i],self.data2[i],self.classes[i])\n",
        "        res1 = len(sto1) / (len(self.classes) * class_probability)\n",
        "        return res1\n",
        "\n",
        "    def predict(self, att1, att2, cp):\n",
        "        a1 = (\n",
        "            self.be_shart(self.data1, att1, 0) * self.be_shart(self.data2, att2, 0) * cp\n",
        "        )\n",
        "        a2 = (\n",
        "            self.be_shart(self.data1, att1, 1) * self.be_shart(self.data2, att2, 1) * cp\n",
        "        )\n",
        "        # print('stay home: {} , go out: {}'.format(a1,a2))\n",
        "        res = \"stay home\" if a1 > a2 else \"go out\"\n",
        "        return res\n",
        "\n",
        "\n",
        "# be_shart(car,ydata,1,0)\\\n",
        "sg = NB(ydata, car, weather)\n",
        "print(\" o o o o o \", sg.be_shart(car, 0, 0))\n",
        "sg.predict(1, 1, 0.5)\n",
        "print(\"index  ,  ypredict  , yorg\")\n",
        "for i in range(len(car)):\n",
        "    c = \"--stay home\" if ydata[i] == 0 else \"--go out\"\n",
        "    print(i, sg.predict(car[i], weather[i], 0.5), c, sep=\" , \")\n"
      ]
    },
    {
      "cell_type": "markdown",
      "metadata": {
        "id": "rZTdmMIRkctv"
      },
      "source": [
        "# K NEAREST NEIGHBOR\n",
        "\n",
        "a=(xdata[0][0]-xdata[1][0])**2 \n",
        "<br>\n",
        "b=(xdata[0][1]-xdata[1][1])**2 <br>\n",
        "np.sqrt(a+b)"
      ]
    },
    {
      "cell_type": "code",
      "execution_count": null,
      "metadata": {
        "id": "Rplg0223kctw",
        "outputId": "41d4b99f-b73e-4bdd-a8df-d3476f0984a5",
        "colab": {
          "base_uri": "https://localhost:8080/"
        }
      },
      "outputs": [
        {
          "output_type": "stream",
          "name": "stdout",
          "text": [
            "distance beetwen two input data 1.6415134248003191\n",
            "Guessed class:  1\n"
          ]
        },
        {
          "output_type": "execute_result",
          "data": {
            "text/plain": [
              "{'class': [1, 1, 1],\n",
              " 'distances': [0.9558043593222012, 1.1389811567876926, 1.2687951732547045],\n",
              " 'index': [7, 9, 5]}"
            ]
          },
          "metadata": {},
          "execution_count": 9
        }
      ],
      "source": [
        "from collections import Counter\n",
        "data = [\n",
        "    [2.771244718, 1.784783929, 0],\n",
        "    [1.728571309, 1.169761413, 0],\n",
        "    [3.678319846, 2.81281357, 0],\n",
        "    [3.961043357, 2.61995032, 0],\n",
        "    [2.999208922, 2.209014212, 0],\n",
        "    [7.497545867, 3.162953546, 1],\n",
        "    [9.00220326, 3.339047188, 1],\n",
        "    [7.444542326, 3.476683375, 1],\n",
        "    [10.12493903, 3.234550982, 1],\n",
        "    [6.642287351, 3.319983761, 1],\n",
        "]\n",
        "data = np.array(data)\n",
        "xdata = data[:, :2]\n",
        "ydata = data[:, 2]\n",
        "ydata = [int(i) for i in ydata]\n",
        "\n",
        "def squared_diff2(data1, data2):\n",
        "    a = (data1[0] - data2[0]) ** 2 + (data1[1] - data2[1]) ** 2\n",
        "    return np.sqrt(a)\n",
        "\n",
        "\n",
        "def knn(k, x, y, newx):\n",
        "    a = [squared_diff2(x[i], newx) for i in range(len(x))]\n",
        "    neighbors = {\"distances\": [], \"class\": [], \"index\": []}\n",
        "    b = sorted(a)\n",
        "    for i in range(k):\n",
        "        c = b[i]\n",
        "        neighbors[\"index\"].append(a.index(c))\n",
        "        neighbors[\"distances\"].append(c)\n",
        "        neighbors[\"class\"].append(y[a.index(c)])\n",
        "    print(\"Guessed class: \", max(Counter(neighbors[\"class\"])))\n",
        "    return neighbors\n",
        "\n",
        "\n",
        "print(\"distance beetwen two input data\", squared_diff2(xdata[1], xdata[4]))\n",
        "Xnew = [7.093607318, 4.365731514]\n",
        "Ynew = 1\n",
        "knn(3, xdata, ydata, Xnew)\n"
      ]
    },
    {
      "cell_type": "markdown",
      "metadata": {
        "id": "dpw6M6Xjkctx"
      },
      "source": [
        "----------\n",
        "# learning vector quantizaton \n",
        "-------------"
      ]
    },
    {
      "cell_type": "code",
      "execution_count": null,
      "metadata": {
        "id": "IKa40NAtkctx",
        "outputId": "82170d5e-5bcf-4f4f-b638-51e0229b6073",
        "colab": {
          "base_uri": "https://localhost:8080/"
        }
      },
      "outputs": [
        {
          "output_type": "stream",
          "name": "stdout",
          "text": [
            "[[8.12350316 3.31043745 1.        ]\n",
            " [3.08220292 2.16578381 0.        ]]\n",
            "Guessed class:  0\n"
          ]
        },
        {
          "output_type": "execute_result",
          "data": {
            "text/plain": [
              "{'class': [0], 'distances': [1.3673073659765054], 'index': [2]}"
            ]
          },
          "metadata": {},
          "execution_count": 10
        }
      ],
      "source": [
        "codeBook = np.array([[10, 10, 1], [0, 0, 0.0]])\n",
        "p = print\n",
        "b = []\n",
        "LR = 0.1\n",
        "epoch = 0\n",
        "Mepoch = 500\n",
        "while epoch < Mepoch:\n",
        "    for j in range(len(xdata)):\n",
        "        a = [squared_diff2(xdata[j], codeBook[i]) for i in range(len(codeBook))]\n",
        "        c = a.index(min(a))\n",
        "        d = codeBook[c][2]\n",
        "        e = data[j][2]\n",
        "        # p(e,d, e == d , codeBook[c])\n",
        "        for k in range(len(codeBook[0]) - 1):\n",
        "            if e == d:\n",
        "                codeBook[c][k] = codeBook[c][k] + (LR * (xdata[j][k] - codeBook[c][k]))\n",
        "            elif e != d:\n",
        "                codeBook[c][k] = codeBook[c][k] - (LR * (xdata[j][k] - codeBook[c][k]))\n",
        "    epoch += 1\n",
        "p(codeBook)\n",
        "\n",
        "xnew = [3, 4]\n",
        "knn(1, xdata, ydata, xnew)\n"
      ]
    },
    {
      "cell_type": "code",
      "source": [
        "from sklearn.datasets import make_blobs\n",
        "\n",
        "x2, y2 = make_blobs(n_samples = 50,\n",
        "    n_features = 2,\n",
        "    centers = 3,\n",
        "    cluster_std = 0.5,\n",
        "    shuffle = True,\n",
        "    random_state = 10)\n",
        "def squared_diff2(data1, data2):\n",
        "    a = (data1[0] - data2[0]) ** 2 + (data1[1] - data2[1]) ** 2\n",
        "    return np.sqrt(a)\n",
        "plt.scatter(x2[:,0], x2[:,1],c=y2)\n",
        "codeBook = np.array([[10, 10, 1], [0, 0, 0.0], [5, 0, 2]])\n",
        "b = []\n",
        "LR = 0.1\n",
        "epoch = 0\n",
        "Mepoch = 5000\n",
        "while epoch < Mepoch:\n",
        "    for j in range(len(x2)):\n",
        "        # calculate distance from each codeBook with each x\n",
        "        a = [squared_diff2(x2[j], codeBook[i]) for i in range(len(codeBook))] \n",
        "        c = a.index(min(a)) #found minimum distance for codebook\n",
        "        d = codeBook[c][2] # codeBook y (class)\n",
        "        e = y2[j] #True Y \n",
        "        for k in range(len(codeBook[0]) - 1):  # if nearest CodeBook neighbor has same class with it -> +  else -> - \n",
        "            if e == d: \n",
        "                codeBook[c][k] = codeBook[c][k] + (LR * (x2[j][k] - codeBook[c][k]))\n",
        "            elif e != d:\n",
        "                codeBook[c][k] = codeBook[c][k] - (LR * (x2[j][k] - codeBook[c][k]))\n",
        "    epoch += 1\n",
        "print(codeBook)\n",
        "\n",
        "xnew = [-3, -4]\n",
        "pred = knn(1, x2, y2, xnew)\n",
        "plt.scatter(codeBook[:,0], codeBook[:,1],c = 'red')\n",
        "plt.show()\n",
        "\n",
        "# TO - DO : MAKE FUNCTION and OOP FROM THIS "
      ],
      "metadata": {
        "colab": {
          "base_uri": "https://localhost:8080/",
          "height": 335
        },
        "id": "igJqRyZRywcf",
        "outputId": "b9988b82-dad5-4237-b499-603f4d418eff"
      },
      "execution_count": null,
      "outputs": [
        {
          "output_type": "stream",
          "name": "stdout",
          "text": [
            "[[ 2.77099464  4.9065228   1.        ]\n",
            " [ 5.50612727 -9.33326042  0.        ]\n",
            " [-0.04972765 -5.52853746  2.        ]]\n",
            "Guessed class:  2\n"
          ]
        },
        {
          "output_type": "display_data",
          "data": {
            "text/plain": [
              "<Figure size 432x288 with 1 Axes>"
            ],
            "image/png": "[encoded data removed]"
          },
          "metadata": {
            "needs_background": "light"
          }
        }
      ]
    },
    {
      "cell_type": "markdown",
      "metadata": {
        "id": "pZWOSmHdkcty"
      },
      "source": [
        "# support vector machine\n",
        "SVM"
      ]
    },
    {
      "cell_type": "markdown",
      "source": [
        "# **kmeans**"
      ],
      "metadata": {
        "id": "5YEbIcSYx7w1"
      }
    },
    {
      "cell_type": "code",
      "source": [
        "# first approache\n",
        "def squared_diff2(data1, data2):\n",
        "    a = (data1[0] - data2[0]) ** 2 + (data1[1] - data2[1]) ** 2\n",
        "    return np.sqrt(a)\n",
        "\n",
        "\n",
        "from sklearn.datasets import make_blobs\n",
        "import matplotlib.pyplot as plt\n",
        "import numpy as np\n",
        "\n",
        "# make blob dataset\n",
        "x2, y2 = make_blobs(\n",
        "    n_samples=50, n_features=2, centers=3, cluster_std=1, shuffle=True, random_state=10\n",
        ")\n",
        "\n",
        "\n",
        "# initialize k\n",
        "n_k = 3\n",
        "ks = [i * np.mean(x2[0]) for i in range(n_k)]\n",
        "kss = [[ks[0], ks[0]], [ks[1], ks[1]], [ks[2], ks[2]]]\n",
        "\n",
        "# calculate distance from k to nearest neighbor\n",
        "dis = []\n",
        "for i in range(len(x2)):\n",
        "    a = squared_diff2(kss[0], x2[i])\n",
        "    b = squared_diff2(kss[1], x2[i])\n",
        "    c = squared_diff2(kss[2], x2[i])\n",
        "    dis.append([a, b, c])\n",
        "\n",
        "print(min(dis[0]), min(dis[1]), min(dis[2]))\n",
        "n = 2\n",
        "ki0 = [i[0] for i in kss]\n",
        "ki1 = [i[1] for i in kss]\n",
        "\n",
        "plt.scatter(x2[:, 0], x2[:, 1], c=y2)\n",
        "plt.scatter(ki0, ki1, c=\"red\")\n",
        "\n",
        "\n",
        "kss = initialer(3, x2)\n",
        "print(f\"initialized point : {kss}\")\n",
        "ki0 = [i[0] for i in kss]\n",
        "ki1 = [i[1] for i in kss]\n",
        "\n",
        "plt.scatter(x2[:, 0], x2[:, 1], c=y2)\n",
        "plt.scatter(ki0, ki1, c=\"red\")\n",
        "# to do:\n",
        "# change k1 k2 k3 to nearest neighbor , repeat , --XX if k1 == k2 its Bad XX--\n"
      ],
      "metadata": {
        "colab": {
          "base_uri": "https://localhost:8080/",
          "height": 320
        },
        "id": "9-mzoRaIwHet",
        "outputId": "351fa8b2-71c2-4bbb-fbd2-d22371f2f3ec"
      },
      "execution_count": null,
      "outputs": [
        {
          "output_type": "stream",
          "name": "stdout",
          "text": [
            "4.360153537449529 3.7668171664642087 5.7233622780077065\n",
            "initialized point : [array([  6.91094987, -10.6647659 ]), array([ 4.46134719, -8.55668693]), array([-0.24564965, -4.51499463])]\n"
          ]
        },
        {
          "output_type": "execute_result",
          "data": {
            "text/plain": [
              "<matplotlib.collections.PathCollection at 0x7ff130d0f4d0>"
            ]
          },
          "metadata": {},
          "execution_count": 4
        },
        {
          "output_type": "display_data",
          "data": {
            "text/plain": [
              "<Figure size 432x288 with 1 Axes>"
            ],
            "image/png": "[encoded data removed]"
          },
          "metadata": {
            "needs_background": "light"
          }
        }
      ]
    },
    {
      "cell_type": "code",
      "source": [
        "# SECOND APPROACH\n",
        "x2, y2 = make_blobs(\n",
        "    n_samples=100, n_features=2, centers=3, cluster_std=1, shuffle=True, random_state=10\n",
        ")\n",
        "# ---------------------------------------------------\n",
        "# random point from data\n",
        "import random\n",
        "\n",
        "\n",
        "def initialer(k, data):\n",
        "    K = []\n",
        "    selected_index = []\n",
        "    for i in range(k):\n",
        "        a = random.randint(0, len(data) - 1)\n",
        "        selected_index.append(a)\n",
        "        K.append(data[a])\n",
        "    return list(K)\n",
        "\n",
        "\n",
        "# ==================================================================\n",
        "init_k = initialer(3, x2)\n",
        "plt.scatter(init_k[0][0], init_k[0][1], c=\"g\")\n",
        "print(init_k)\n",
        "\n",
        "\n",
        "def centralize(ik, data, thresh):\n",
        "    inds = []\n",
        "    dist = []\n",
        "    for i, j in enumerate(range(len(data))):\n",
        "        a0 = squared_diff2(ik, data[i])\n",
        "        dist.append(a0)\n",
        "        inds.append(j)\n",
        "    c = sorted(dist)[:thresh]  # seperate 'thresh number' of nearest neighbor\n",
        "    cc = [dist.index(i) for i in c]\n",
        "    sdata = []\n",
        "    for i in range(len(cc)):\n",
        "        sel_data = data[cc[i]]\n",
        "        sdata.append(sel_data)\n",
        "    sdata = np.array(sdata)\n",
        "    t = [sdata[:, 0].mean(), sdata[:, 1].mean()]\n",
        "\n",
        "    return t\n",
        "\n",
        "\n",
        "oo = 10\n",
        "while oo > 0:\n",
        "    init_k[0] = centralize(init_k[0], x2, 30)\n",
        "    oo -= 1\n",
        "oo = 10\n",
        "while oo > 0:\n",
        "    init_k[1] = centralize(init_k[1], x2, 30)\n",
        "    oo -= 1\n",
        "oo = 10\n",
        "while oo > 0:\n",
        "    init_k[2] = centralize(init_k[2], x2, 30)\n",
        "    oo -= 1\n",
        "\n",
        "plt.scatter(x2[:, 0], x2[:, 1], c=y2)\n",
        "plt.scatter(init_k[0][0], init_k[0][1], c=\"r\")\n",
        "plt.scatter(init_k[1][0], init_k[1][1], c=\"k\")\n",
        "plt.scatter(init_k[2][0], init_k[2][1], c=\"m\")\n",
        "print(init_k)\n",
        "# ------------------------- ------------------------- -------------------------\n"
      ],
      "metadata": {
        "colab": {
          "base_uri": "https://localhost:8080/",
          "height": 302
        },
        "id": "JoMdWAaVGqCD",
        "outputId": "01c38fa1-21f9-4dff-8c23-c975f00d9c5b"
      },
      "execution_count": null,
      "outputs": [
        {
          "output_type": "stream",
          "name": "stdout",
          "text": [
            "[array([ 4.88653379, -8.87680099]), array([ 1.95552599, -4.05690149]), array([2.03300209, 5.28990817])]\n",
            "[[5.583713539929246, -9.644997397463776], [0.0800265552994716, -5.369507102797795], [2.739393287434206, 4.624043862049761]]\n"
          ]
        },
        {
          "output_type": "display_data",
          "data": {
            "text/plain": [
              "<Figure size 432x288 with 1 Axes>"
            ],
            "image/png": "[encoded data removed]"
          },
          "metadata": {
            "needs_background": "light"
          }
        }
      ]
    },
    {
      "cell_type": "code",
      "source": [
        "# third APPROACH\n",
        "import copy\n",
        "from sklearn.datasets import make_blobs\n",
        "\n",
        "x2, y2 = make_blobs(\n",
        "    n_samples=100, n_features=2, centers=7, cluster_std=1, shuffle=True, random_state=10\n",
        ")\n",
        "# ---------------------------------------------------\n",
        "# random point from data\n",
        "import random\n",
        "\n",
        "\n",
        "class KMEANS:\n",
        "    def __init__(self, k, data):\n",
        "        self.k = k\n",
        "        self.data = data\n",
        "\n",
        "    def initialer(self):\n",
        "        K = []\n",
        "        selected_index = []\n",
        "        for i in range(self.k):\n",
        "            a = random.randint(0, len(self.data) - 1)\n",
        "            selected_index.append(a)\n",
        "            K.append(self.data[a])\n",
        "        return list(K)\n",
        "\n",
        "    def find_near_index(self, kk, thresh):\n",
        "        dist = []\n",
        "        for i in range(len(self.data)):\n",
        "            a0 = squared_diff2(kk, self.data[i])\n",
        "            dist.append(a0)\n",
        "        c = sorted(dist)[:thresh]\n",
        "        cc = [dist.index(i) for i in c]\n",
        "        return cc\n",
        "\n",
        "    def kmeans(self, O):\n",
        "        init_k = self.initialer()\n",
        "        print(init_k)\n",
        "        self.dddd = copy.copy(self.data)\n",
        "        thresh = int(len(self.data) / self.k)\n",
        "\n",
        "        while O > 0:\n",
        "            indexes = []\n",
        "            sindex = []\n",
        "            for i in range(self.k):\n",
        "                a = self.find_near_index(init_k[i], thresh)\n",
        "                indexes.append(a)\n",
        "            for i in range(0, len(indexes)):\n",
        "                sdata = []\n",
        "\n",
        "                for j in indexes[i]:\n",
        "                    select = self.data[j]\n",
        "                    sdata.append(select)\n",
        "                    sindex.append(j)\n",
        "\n",
        "                sdata = np.array(sdata)\n",
        "\n",
        "                init_k[i] = [sdata[:, 0].mean(), sdata[:, 1].mean()]\n",
        "            sindex = set(sorted(sindex))\n",
        "\n",
        "            for i in range(len(init_k)):\n",
        "                for j in range(i, len(init_k)):\n",
        "                    init_k = np.array(init_k)\n",
        "                    check = (init_k[i] == init_k[j]).all()\n",
        "                    if i == j:\n",
        "                        continue\n",
        "                    elif check:\n",
        "                        # print(f'oh this is gone wrong in index {i} and {j}')\n",
        "                        a = random.randint(0, len(self.data) - 1)\n",
        "                        init_k[i] = self.data[a]\n",
        "                        O += 10\n",
        "\n",
        "            O -= 1\n",
        "        plt.scatter(x2[:, 0], x2[:, 1], c=y2)\n",
        "\n",
        "        for i in range(0, self.k):\n",
        "            plt.scatter(init_k[i][0], init_k[i][1], c=\"r\")\n",
        "\n",
        "        return np.array(init_k)\n",
        "\n",
        "\n",
        "a = KMEANS(7, x2)\n",
        "a.kmeans(100)\n",
        "\n",
        "# - - TO do - -\n",
        "# make it faster, change break of final while loop with init_k(pre) == init_k(now)\n"
      ],
      "metadata": {
        "colab": {
          "base_uri": "https://localhost:8080/",
          "height": 431
        },
        "id": "5pgkLe_bPaOo",
        "outputId": "ac831436-128e-40b0-e51a-9ff3c3e4f3c5"
      },
      "execution_count": null,
      "outputs": [
        {
          "output_type": "stream",
          "name": "stdout",
          "text": [
            "[array([2.64705936, 5.26517185]), array([2.56069223, 4.6138972 ]), array([-6.18310947,  4.81047589]), array([-4.63239752, -6.78603812]), array([-7.25774587, -7.91937319]), array([2.44078244, 4.47434875]), array([  3.44868458, -11.32833331])]\n"
          ]
        },
        {
          "output_type": "execute_result",
          "data": {
            "text/plain": [
              "array([[ 3.57391764,  8.801695  ],\n",
              "       [-9.79695957,  0.1481087 ],\n",
              "       [-5.71354058,  4.83369867],\n",
              "       [-0.07471588, -5.35920982],\n",
              "       [-6.25954101, -8.0402016 ],\n",
              "       [ 2.73050411,  4.73902056],\n",
              "       [ 5.71875105, -9.16349447]])"
            ]
          },
          "metadata": {},
          "execution_count": 5
        },
        {
          "output_type": "display_data",
          "data": {
            "text/plain": [
              "<Figure size 432x288 with 1 Axes>"
            ],
            "image/png": "[encoded data removed]"
          },
          "metadata": {
            "needs_background": "light"
          }
        }
      ]
    },
    {
      "cell_type": "markdown",
      "source": [
        "\n",
        "# ensemble algorithms\n",
        "\n",
        "```\n",
        "bagging \n",
        "boosting\n",
        "stacking\n",
        "```\n",
        "\n",
        "\n"
      ],
      "metadata": {
        "id": "8YP8qNnax_D6"
      }
    },
    {
      "cell_type": "code",
      "execution_count": null,
      "metadata": {
        "id": "vXvtdwjakct2"
      },
      "outputs": [],
      "source": [
        ""
      ]
    }
  ],
  "metadata": {
    "kernelspec": {
      "display_name": "Python 3 (ipykernel)",
      "language": "python",
      "name": "python3"
    },
    "language_info": {
      "codemirror_mode": {
        "name": "ipython",
        "version": 3
      },
      "file_extension": ".py",
      "mimetype": "text/x-python",
      "name": "python",
      "nbconvert_exporter": "python",
      "pygments_lexer": "ipython3",
      "version": "3.9.7"
    },
    "colab": {
      "name": "MLalgorithm.ipynb",
      "provenance": [],
      "collapsed_sections": [],
      "include_colab_link": true
    }
  },
  "nbformat": 4,
  "nbformat_minor": 0
}