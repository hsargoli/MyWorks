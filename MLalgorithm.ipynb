{
 "cells": [
  {
   "cell_type": "code",
   "execution_count": 2,
   "metadata": {},
   "outputs": [],
   "source": [
    "# %load_ext pycodestyle_magic\n",
    "\n",
    "import matplotlib.pyplot as plt\n",
    "import numpy as np"
   ]
  },
  {
   "cell_type": "markdown",
   "metadata": {},
   "source": [
    "# linear regression\n",
    "------"
   ]
  },
  {
   "cell_type": "code",
   "execution_count": 3,
   "metadata": {},
   "outputs": [
    {
     "name": "stdout",
     "output_type": "stream",
     "text": [
      "mean x , mean y \t 3.0 2.8\n"
     ]
    },
    {
     "data": {
      "image/png": "[encoded data removed]",
      "text/plain": [
       "<Figure size 432x288 with 1 Axes>"
      ]
     },
     "metadata": {
      "needs_background": "light"
     },
     "output_type": "display_data"
    },
    {
     "name": "stdout",
     "output_type": "stream",
     "text": [
      "\ty haye pishbini shode:[1.1999999999999995, 1.9999999999999996, 3.5999999999999996, 2.8, 4.3999999999999995]\n",
      "\tyhaye asli:[1, 3, 3, 2, 5]\n",
      "[0.03999999999999981, 1.0000000000000009, 0.3599999999999996, 0.6399999999999997, 0.36000000000000065]\n",
      "+error (mean distance from y ):  0.692820323027551\n"
     ]
    }
   ],
   "source": [
    "xx=[1,2,4,3,5]\n",
    "yy=[1,3,3,2,5]\n",
    "def meang(data):\n",
    "    ins_num=len(data)\n",
    "    ins_sum=sum(data)\n",
    "    res=ins_sum/ins_num\n",
    "    return res\n",
    "meanX=meang(xx)\n",
    "meanY=meang(yy)\n",
    "print('mean x , mean y \\t',meanX,meanY)\n",
    "#  y=b0+ b1*x\n",
    "#  b1=sum((xi-mean) -( yi - mean))/sum ((xi-mean)**2)\n",
    "def simple_linear_regression(x,y):\n",
    "    '''\n",
    "    if y depend on one x\n",
    " Standard deviation is a measure of how much on \n",
    " average the data is spread out from the\n",
    " mean.\n",
    "    '''\n",
    "    meanX=meang(x)\n",
    "    meanY=meang(y)\n",
    "    s0=[]\n",
    "    s1=[]\n",
    "    for i in range(len(x)):\n",
    "        sorat=(x[i]-meanX)*(y[i]-meanY)\n",
    "        makhraj=(x[i]-meanX)**2\n",
    "        s0.append(sorat)\n",
    "        s1.append(makhraj)\n",
    "    b1res=sum(s0)/sum(s1)\n",
    "    b0res=meanY-(b1res*meanX)\n",
    "    resy=[]\n",
    "    for i in range(len(x)):\n",
    "        a=b0res+(b1res*x[i])\n",
    "        resy.append(a)\n",
    "    plt.plot(x,resy)\n",
    "    plt.scatter(x,y,color='r')\n",
    "\n",
    "    plt.show()\n",
    "    return resy\n",
    "yp=simple_linear_regression(xx,yy)\n",
    "print('\\ty haye pishbini shode:{}\\n\\tyhaye asli:{}'.format(yp,yy))\n",
    "def Rmse(yd,yp):\n",
    "    n=len(yp)\n",
    "    b=[]\n",
    "    for i in range(n):\n",
    "        a=(yp[i]-yd[i])**2\n",
    "        b.append(a)\n",
    "    c=sum(b)\n",
    "    print(b)\n",
    "    d=np.sqrt(c/n)\n",
    "    return d\n",
    "\n",
    "#shortcut for find B1\n",
    "#b1=np.corrcoef(xx,yy)[1][0]*(np.std(yy)/np.std(xx))\n",
    "#b1\n",
    "\n",
    "if __name__ == \"__main__\":\n",
    "    print('+error (mean distance from y ): ',Rmse(yy,yp))\n"
   ]
  },
  {
   "cell_type": "markdown",
   "metadata": {},
   "source": [
    "# Gradient descent \n",
    "----------"
   ]
  },
  {
   "cell_type": "code",
   "execution_count": 4,
   "metadata": {
    "tags": []
   },
   "outputs": [
    {
     "name": "stdout",
     "output_type": "stream",
     "text": [
      "0 *- [0.49997948800742736, 0.49997948800742736]\n",
      "1 0.9999589760148547\n",
      "3 1.4999384640222821\n",
      "3 2.4998974400371368\n",
      "2 1.9999179520297095\n",
      "5 2.9998769280445643\n",
      "[1.6829673571995023e-09, 2.2501846117198303, 0.2501025704814092, 6.731869428798009e-09, 4.000492302968449]\n",
      "Rmse :  1.1402437891595398\n",
      " -------- \n",
      "1 *- [0.7999917952007886, 1.1000041023941498]\n",
      "1 1.8999958975949385\n",
      "3 2.9999999999890883\n",
      "3 5.2000082047773875\n",
      "2 4.100004102383238\n",
      "5 6.300012307171538\n",
      "[0.809992615687719, 1.1906554552399986e-22, 4.840036101087823, 4.41001723002643, 1.6900319987974646]\n",
      "Rmse :  1.532976056277425\n",
      " -------- \n",
      "2 *- [0.6705795478609428, 0.5823551130347646]\n",
      "1 1.2529346608957073\n",
      "3 1.835289773930472\n",
      "3 3.0000000000000013\n",
      "2 2.4176448869652365\n",
      "5 3.5823551130347657\n",
      "[0.06397594268242643, 1.356549910710931, 1.7749370367472766e-30, 0.17442725160820516, 2.009717025538672]\n",
      "Rmse :  0.8490783392055452\n",
      " -------- \n",
      "3 *- [0.6288150591644197, 0.4570616469451938]\n",
      "1 1.0858767061096135\n",
      "3 1.5429383530548073\n",
      "3 2.4570616469451947\n",
      "2 2.000000000000001\n",
      "5 2.9141232938903885\n",
      "[0.00737480865223693, 2.123028642998637, 0.29478205521786444, 7.888609052210118e-31, 4.350881633090682]\n",
      "Rmse :  1.1641363442449018\n",
      " -------- \n",
      "4 *- [0.7090410863224821, 0.8581917827355035]\n",
      "1 1.5672328690579855\n",
      "3 2.425424651793489\n",
      "3 4.141808217264495\n",
      "2 3.283616434528992\n",
      "5 5.0\n",
      "[0.3217531277397538, 0.33013683076663336, 1.3037260050127253, 1.6476711509929225, 0.0]\n",
      "Rmse :  0.8489154391942739\n",
      " -------- \n"
     ]
    }
   ],
   "source": [
    "# %%pycodestyle\n",
    "# y=b0+ b1*x\n",
    "# for 1st of yy and xx\n",
    "def GD(initweight,index):\n",
    "    \"\"\"\n",
    "    update weights based on input index to minimize error\n",
    "     initweight :\n",
    "         initial weight, What weight does it start with?\n",
    "     index : \n",
    "         wich index optimized\n",
    "    \"\"\"\n",
    "    init_weight=initweight\n",
    "    yyp=init_weight[0]+init_weight[1]*xx[index]\n",
    "    err=yyp-yy[index]\n",
    "    for i in range(500):  # range ( iteration )\n",
    "        #print(init_weight)\n",
    "        learning_rate=0.01\n",
    "        init_weight[0]=init_weight[0]-(err*learning_rate)\n",
    "        init_weight[1]=init_weight[1]-(err*learning_rate*xx[index])   # error naghsh gradian ro dare \n",
    "                                 # dar asl bayad moshtagh martabe 1 taabe baashe\n",
    "        yyp=init_weight[0]+init_weight[1]*xx[index]\n",
    "        err=yyp-yy[index]\n",
    "        \n",
    "    return init_weight\n",
    "def predictor(x,y,w):\n",
    "    resy=[]\n",
    "    for i in range(len(x)):\n",
    "        yyp=w[0]+w[1]*x[i]\n",
    "        resy.append(yyp)\n",
    "    for i,j in zip(y,resy):\n",
    "        print(i,j)\n",
    "    return resy\n",
    "\n",
    "def present(init_w,xdata,ydata):\n",
    "    for i in range(len(xdata)): \n",
    "        wn=GD(init_w,i)\n",
    "        print(i, wn, sep=' *- ')\n",
    "        basd=predictor(xdata,ydata,wn)\n",
    "        print('Rmse : ', Rmse(ydata,basd))\n",
    "        print(' -------- ')\n",
    "present([0,0],xx,yy)"
   ]
  },
  {
   "cell_type": "markdown",
   "metadata": {},
   "source": [
    "# Logistic regression\n",
    "---------"
   ]
  },
  {
   "cell_type": "code",
   "execution_count": 5,
   "metadata": {},
   "outputs": [
    {
     "name": "stdout",
     "output_type": "stream",
     "text": [
      "[(0, 0), (0, 0), (0, 0), (0, 0), (0, 0), (1, 1), (1, 1), (1, 1), (1, 1), (1, 1)] \n",
      "accuracy : \t 1.0\n",
      "[5.119787225596457, 11.24246005157874, -20.809062905718537]\n"
     ]
    },
    {
     "data": {
      "image/png": "[encoded data removed]",
      "text/plain": [
       "<Figure size 432x288 with 1 Axes>"
      ]
     },
     "metadata": {
      "needs_background": "light"
     },
     "output_type": "display_data"
    }
   ],
   "source": [
    "import random\n",
    "\n",
    "X = np.array([[2.7810836, 2.550537003, 0],\n",
    "              [1.465489372, 2.362125076, 0],\n",
    "              [4.396561688, 4.400293529, 0],\n",
    "              [1.38807019, 1.850220317, 0],\n",
    "              [3.06407232, 3.005305973, 0],\n",
    "              [7.627531214, 2.759262235, 1],\n",
    "              [5.332441248, 2.088626775, 1],\n",
    "              [6.922596716, 1.77106367, 1],\n",
    "              [8.675418651, -0.242068655, 1],\n",
    "              [7.673756466, 3.508563011, 1]])\n",
    "x1, x2, y = X[:, 0],X[:, 1],X[:, 2]\n",
    "a = np.ones(len(x2))\n",
    "Xd = np.array(list(zip(x1, x2)))\n",
    "\n",
    "y = [int(x) for x in y]\n",
    "colormap = np.array(['r', 'g'])\n",
    "plt.scatter(x1, x2, color=colormap[y])\n",
    "class LR:\n",
    "    def __init__(self):\n",
    "        pass\n",
    "    def sigmoid(self,w,x):\n",
    "        res=w[0]+(np.dot(w[1:],x))\n",
    "        out=1/(1+np.exp(-res))\n",
    "        return out\n",
    "    def updater2(self,w,alpha,y,ypred,x):\n",
    "        wnew=[]\n",
    "        for i in range(len(w)):\n",
    "            if i == 0 :\n",
    "                w1  = w[i] + alpha * (y-ypred) * ypred * (1-ypred)* 1 \n",
    "                wnew.append(w1)\n",
    "            elif i >= 1:\n",
    "                w1 = w[i] + alpha * (y-ypred) * x[(i-1)]# (y-ypred) * ypred * (1-ypred)* x[(i-1)]\n",
    "                wnew.append(w1)\n",
    "        return wnew\n",
    "    def updater(self,w,alpha,y,ypred,x):\n",
    "        w1 = w[0] + alpha * (y-ypred) * ypred * (1-ypred)* 1\n",
    "        w2 = w[1] + alpha * (y-ypred) * ypred * (1-ypred)* x[0]\n",
    "        w3 = w[2] + alpha * (y-ypred) * ypred * (1-ypred)* x[1]\n",
    "        wnew=list([w1,w2,w3])\n",
    "        return wnew\n",
    "    def doo(self,inw,x,y,ite,lr):\n",
    "        t=0\n",
    "        w=inw\n",
    "        while t < ite:\n",
    "            random_index = random.randint(0, 9)\n",
    "            res=self.sigmoid(w,x[random_index])\n",
    "            w=self.updater2(w,lr,y[random_index],res,x[random_index])\n",
    "            #print(w,sto)\n",
    "            t+=1\n",
    "        return w\n",
    "    def predicter(self,w,x,y):\n",
    "        sto=[]\n",
    "        for i in x:\n",
    "            a=self.sigmoid(w,i)\n",
    "            sto.append(a)\n",
    "        res=[]\n",
    "        for i in sto:\n",
    "            if i >= 0.5:\n",
    "                i = 1\n",
    "                res.append(i)\n",
    "            elif i < 0.5:\n",
    "                i = 0\n",
    "                res.append(i)\n",
    "        acc = [(i, j) for i, j in zip(y, res)]\n",
    "        score = 0\n",
    "        for i, j in acc:\n",
    "            if i == j :\n",
    "                score += 1\n",
    "        print(acc, '\\naccuracy : \\t', score/len(x))\n",
    "        return res\n",
    "    def present(self,index,initweight,x,y,iteration,LR):\n",
    "        inw=initweight\n",
    "        www=self.doo(initweight,x,y,iteration,LR)\n",
    "        self.predicter(www,x,y)\n",
    "        print('weights : ',www)\n",
    "sg=LR()\n",
    "inw=[0,0,0]\n",
    "#yp=sg.sigmoid(inw,Xd[4])\n",
    "#sg.updater([0,0,0],0.003,y[0],yp,Xd[0])\n",
    "www=sg.doo([5,-6,0],Xd,y,40000,2)\n",
    "#sg.predicter(www,Xd,y)\n",
    "sg.predicter(www,Xd,y)\n",
    "print(www)\n"
   ]
  },
  {
   "cell_type": "code",
   "execution_count": 6,
   "metadata": {},
   "outputs": [
    {
     "name": "stdout",
     "output_type": "stream",
     "text": [
      "[(0, 0), (0, 0), (0, 0), (0, 0), (0, 0), (1, 1), (1, 1), (1, 1), (1, 1), (1, 1)] \n",
      "accuracy : \t 1.0\n",
      "weights :  [10.075294428340976, 6.9814917107380206, -15.395404121472213]\n"
     ]
    }
   ],
   "source": [
    "sg.present(1,[10,0,0],Xd,y,40000,1)"
   ]
  },
  {
   "cell_type": "code",
   "execution_count": 7,
   "metadata": {},
   "outputs": [
    {
     "data": {
      "text/plain": [
       "[<matplotlib.lines.Line2D at 0x1c26060c9d0>]"
      ]
     },
     "execution_count": 7,
     "metadata": {},
     "output_type": "execute_result"
    },
    {
     "data": {
      "image/png": "[encoded data removed]",
      "text/plain": [
       "<Figure size 432x288 with 1 Axes>"
      ]
     },
     "metadata": {
      "needs_background": "light"
     },
     "output_type": "display_data"
    }
   ],
   "source": [
    "xpl=np.arange(-2,5)\n",
    "ypl=lambda a1, a2:www[0]+www[1]*a1+www[2]*a2\n",
    "re=[(x,x) for x in range(-2,5)]\n",
    "b=[]\n",
    "for i,j in re:\n",
    "    a=ypl(i,j)\n",
    "    b.append(a)\n",
    "plt.plot(xpl,b)"
   ]
  },
  {
   "cell_type": "markdown",
   "metadata": {},
   "source": [
    "# Linear Discriminant Analysis\n",
    "---------------\n",
    "calculate mean and variance for each class\n",
    "\n",
    "calculate the class probability \n"
   ]
  },
  {
   "cell_type": "code",
   "execution_count": 8,
   "metadata": {},
   "outputs": [
    {
     "data": {
      "text/plain": [
       "5.677142857142857"
      ]
     },
     "execution_count": 8,
     "metadata": {},
     "output_type": "execute_result"
    }
   ],
   "source": [
    "xx=[[2.95,6.63,1],[2.53,7.79,1],[3.57,5.65,1],[3.16,5.47,1],[2.58,4.46,0],[2.16,6.22,0],[3.27,3.52,0]]\n",
    "x1=[i[0] for i in xx if i[2] == 1]\n",
    "x2=[i for i in xx if i[2] == 0]\n",
    "xxx=[i[1] for i in xx]\n",
    "np.mean(xxx)"
   ]
  },
  {
   "cell_type": "code",
   "execution_count": 9,
   "metadata": {},
   "outputs": [
    {
     "data": {
      "image/png": "[encoded data removed]",
      "text/plain": [
       "<Figure size 432x288 with 1 Axes>"
      ]
     },
     "metadata": {
      "needs_background": "light"
     },
     "output_type": "display_data"
    }
   ],
   "source": [
    "#Load data\n",
    "data=[\n",
    "[4.667797637, 0],\n",
    "[5.509198779, 0],\n",
    "[4.702791608, 0],\n",
    "[5.956706641,0],\n",
    "[10.738622413, 0],\n",
    "[5.027283325, 0],\n",
    "[4.805434058, 0],\n",
    "[4.425689143, 0],\n",
    "[5.009368635, 0],\n",
    "[5.116718815, 0],\n",
    "[6.370917709, 0],\n",
    "[2.895041947, 0],\n",
    "[4.666842365, 0],\n",
    "[5.602154638, 0],\n",
    "[4.902797978, 0],\n",
    "[5.032652964, 0],\n",
    "[4.083972925, 0],\n",
    "[4.875524106, 0],\n",
    "[4.732801047, 0],\n",
    "[5.385993407, 0],\n",
    "[20.74393514, 1],\n",
    "[21.41752855, 1],\n",
    "[20.57924186, 1],\n",
    "[20.7386947 ,1],\n",
    "[19.44605384, 1],\n",
    "[18.36360265, 1],\n",
    "[19.90363232, 1],\n",
    "[19.10870851, 1],\n",
    "[18.18787593, 1],\n",
    "[19.71767611, 1],\n",
    "[19.09629027, 1],\n",
    "[20.52741312, 1],\n",
    "[20.63205608, 1],\n",
    "[19.86218119, 1],\n",
    "[21.34670569, 1],\n",
    "[20.333906 ,1],\n",
    "[21.02714855, 1],\n",
    "[18.27536089, 1],\n",
    "[21.77371156, 1],\n",
    "[20.65953546, 1]]\n",
    "data=np.array(data)\n",
    "xdata=data[:,0]\n",
    "ydata=data[:,1]\n",
    "y=[int(i) for i in ydata]\n",
    "colormap=np.array(['b','k'])\n",
    "plt.scatter(range(len(xdata)),xdata,color=colormap[y])\n",
    "plt.show()\n",
    "class1=[]\n",
    "class2=[]\n",
    "for i in range(len(xdata)):\n",
    "    if ydata[i] == 0:\n",
    "        class1.append(xdata[i])\n",
    "    elif ydata[i] == 1:\n",
    "        class2.append(xdata[i])\n",
    "c1,c2=np.array(class1),np.array(class2)\n",
    "meanC1,meanC2=np.mean(c1),np.mean(c2)\n",
    "\n",
    "classprobability=[y.count(1)/len(y),y.count(0)/len(y)]"
   ]
  },
  {
   "cell_type": "code",
   "execution_count": 10,
   "metadata": {
    "scrolled": true,
    "tags": []
   },
   "outputs": [
    {
     "name": "stdout",
     "output_type": "stream",
     "text": [
      "0 0\n",
      "0 0\n",
      "0 0\n",
      "0 0\n",
      "0 0\n",
      "0 0\n",
      "0 0\n",
      "0 0\n",
      "0 0\n",
      "0 0\n",
      "0 0\n",
      "0 0\n",
      "0 0\n",
      "0 0\n",
      "0 0\n",
      "0 0\n",
      "0 0\n",
      "0 0\n",
      "0 0\n",
      "0 0\n",
      "1 1\n",
      "1 1\n",
      "1 1\n",
      "1 1\n",
      "1 1\n",
      "1 1\n",
      "1 1\n",
      "1 1\n",
      "1 1\n",
      "1 1\n",
      "1 1\n",
      "1 1\n",
      "1 1\n",
      "1 1\n",
      "1 1\n",
      "1 1\n",
      "1 1\n",
      "1 1\n",
      "1 1\n",
      "1 1\n",
      "acc 1.0\n"
     ]
    }
   ],
   "source": [
    "def SquaredDifference(data):\n",
    "    mean=sum(data)/len(data)\n",
    "    a=[(i-mean)**2 for i in data]\n",
    "    a=sum(a)\n",
    "    return a\n",
    "def variance(SD,Nclass,Ninstance):\n",
    "    return 1/(Ninstance-Nclass) * SD\n",
    "    \n",
    "SDC1, SDC2 = SquaredDifference(c1), SquaredDifference(c2)\n",
    "SDT = SDC1 + SDC2\n",
    "var=variance(SDT,2,len(xdata))\n",
    "# ,,,,,,,,,,,,,,,,,,,,,,,,,,,,,,,,,,,,,,,,,,,,,,,,,,,,,,,,,\n",
    "import math\n",
    "def LdA(x,mean,var,classProbability):\n",
    "    a = x * (mean/var)  -  ((mean)**2/(var*2)) + math.log(classProbability)\n",
    "    return a\n",
    "def predict(x,mean,var,classProbability):\n",
    "    sto=[]\n",
    "    for i in xdata:\n",
    "        \n",
    "        a= LdA(i,meanC1,var,classprobability[0])\n",
    "        b= LdA(i,meanC2,var,classprobability[1])\n",
    "        sto.append([a,b])\n",
    "    res=[]\n",
    "    for i,j in sto:\n",
    "        a=0 if i>j else 1\n",
    "        res.append(a)\n",
    "    return res\n",
    "yp=predict(i,meanC1,var,classprobability[0])\n",
    "ss=0\n",
    "for i in range(len(y)):\n",
    "    print(y[i],yp[i])\n",
    "    if y[i]==yp[i]:\n",
    "        ss+=1\n",
    "    \n",
    "print('acc',ss/len(y))"
   ]
  },
  {
   "cell_type": "markdown",
   "metadata": {},
   "source": [
    "# `NonLinear algorithms`\n",
    " nonparametric\n",
    " "
   ]
  },
  {
   "cell_type": "markdown",
   "metadata": {},
   "source": [
    "# CART \n",
    "---------"
   ]
  },
  {
   "cell_type": "code",
   "execution_count": 11,
   "metadata": {},
   "outputs": [
    {
     "data": {
      "text/plain": [
       "<matplotlib.collections.PathCollection at 0x1c260563640>"
      ]
     },
     "execution_count": 11,
     "metadata": {},
     "output_type": "execute_result"
    },
    {
     "data": {
      "image/png": "[encoded data removed]",
      "text/plain": [
       "<Figure size 432x288 with 1 Axes>"
      ]
     },
     "metadata": {
      "needs_background": "light"
     },
     "output_type": "display_data"
    }
   ],
   "source": [
    "data=[\n",
    "[2.771244718, 1.784783929, 0],\n",
    "[1.728571309, 1.169761413 ,0],\n",
    "[3.678319846, 2.81281357 ,0],\n",
    "[3.961043357, 2.61995032 ,0],\n",
    "[2.999208922, 2.209014212, 0],\n",
    "[7.497545867, 3.162953546, 1],\n",
    "[9.00220326 ,3.339047188 ,1],\n",
    "[7.444542326, 3.476683375, 1],\n",
    "[10.12493903, 3.234550982, 1],\n",
    "[6.642287351, 3.319983761 ,1]]\n",
    "data=np.array(data)\n",
    "xdata=data[:,:2]\n",
    "ydata=data[:,2]\n",
    "ydata=[int(i) for i in ydata]\n",
    "colormap=np.array(['r','b'])\n",
    "plt.scatter(xdata[:,0],xdata[:,1],color=colormap[ydata])"
   ]
  },
  {
   "cell_type": "code",
   "execution_count": 12,
   "metadata": {},
   "outputs": [
    {
     "name": "stdout",
     "output_type": "stream",
     "text": [
      "epoch 0\n",
      "\tgini = 1 \n",
      "epoch 1\n",
      "\tgini = 1 \n",
      "epoch 2\n",
      "gini value 0.49382716049382713\n",
      "{'left': [0], 'right': [0, 0, 0, 0, 1, 1, 1, 1, 1]}\n",
      "epoch 3\n",
      "gini value 0.40816326530612246\n",
      "{'left': [0, 0, 0], 'right': [0, 0, 1, 1, 1, 1, 1]}\n",
      "epoch 4\n",
      "gini value 0.0\n",
      "{'left': [0, 0, 0, 0, 0], 'right': [1, 1, 1, 1, 1]}\n",
      "epoch 5\n",
      "gini value 0.0\n",
      "{'left': [0, 0, 0, 0, 0], 'right': [1, 1, 1, 1, 1]}\n",
      "epoch 6\n",
      "gini value 0.0\n",
      "{'left': [0, 0, 0, 0, 0], 'right': [1, 1, 1, 1, 1]}\n",
      "epoch 7\n",
      "gini value 0.2777777777777778\n",
      "{'left': [0, 0, 0, 0, 0, 1], 'right': [1, 1, 1, 1]}\n",
      "epoch 8\n",
      "gini value 0.46875\n",
      "{'left': [0, 0, 0, 0, 0, 1, 1, 1], 'right': [1, 1]}\n",
      "epoch 9\n",
      "gini value 0.46875\n",
      "{'left': [0, 0, 0, 0, 0, 1, 1, 1], 'right': [1, 1]}\n"
     ]
    }
   ],
   "source": [
    "def spliter(data,sp,y):\n",
    "    navi={'left':[] , 'right':[]}\n",
    "    for i in range(len(data)):\n",
    "        if data[i] >= sp :\n",
    "            navi['right'].append(y[i])\n",
    "        elif data[i] < sp:\n",
    "            navi['left'].append(y[i])\n",
    "    if len(navi['left']) != 0 and len(navi['right']) != 0:\n",
    "            left_class1=navi['left'].count(1)/len(navi['left'])\n",
    "            left_class2=1-left_class1\n",
    "            right_class1=navi['right'].count(1)/len(navi['right'])\n",
    "            right_class2=1-right_class1\n",
    "            gini=left_class1 * (1 - left_class1) + right_class1 * (1- right_class1) +\\\n",
    "                            left_class2 * (1 - left_class2) + right_class2 * (1- right_class2)\n",
    "            print('gini value {}'.format(gini),navi,sep='\\n')\n",
    "    else:\n",
    "        print(\"\\tgini = 1 \")\n",
    "    return navi\n",
    "for i in range(len(xdata)):\n",
    "    print('epoch' ,i)\n",
    "    spliter(xdata[:,0],i,ydata)\n",
    "    \n"
   ]
  },
  {
   "cell_type": "markdown",
   "metadata": {},
   "source": [
    "# Naive bayes\n",
    "----"
   ]
  },
  {
   "cell_type": "code",
   "execution_count": 13,
   "metadata": {},
   "outputs": [
    {
     "name": "stdout",
     "output_type": "stream",
     "text": [
      " our data :  [['sunny' 'working' 'go-out']\n",
      " ['rainy' 'broken' 'go-out']\n",
      " ['sunny' 'working' 'go-out']\n",
      " ['sunny' 'working' 'go-out']\n",
      " ['sunny' 'working' 'go-out']\n",
      " ['rainy' 'broken' 'stay-home']\n",
      " ['rainy' 'broken' 'stay-home']\n",
      " ['sunny' 'working' 'stay-home']\n",
      " ['sunny' 'broken' 'stay-home']\n",
      " ['rainy' 'broken' 'stay-home']]\n",
      "----------\n",
      " o o o o o  0.8\n",
      "index  ,  ypredict  , yorg\n",
      "0 , go out , --go out\n",
      "1 , stay home , --go out\n",
      "2 , go out , --go out\n",
      "3 , go out , --go out\n",
      "4 , go out , --go out\n",
      "5 , stay home , --stay home\n",
      "6 , stay home , --stay home\n",
      "7 , go out , --stay home\n",
      "8 , stay home , --stay home\n",
      "9 , stay home , --stay home\n"
     ]
    }
   ],
   "source": [
    "with open('naive.txt') as file:\n",
    "    readed_data=file.read().strip().split('\\n')\n",
    "    readed=[i.split(' ') for i in readed_data]\n",
    "del readed[0]\n",
    "b=np.array(readed)\n",
    "print(' our data : ' , b, end='\\n----------\\n')\n",
    "sto=[]\n",
    "for i in range(len(b)):\n",
    "    for j in range(len(b[0])):\n",
    "        if b[i][j] == 'sunny' or b[i][j] == 'working' or b[i][j] == 'go-out':\n",
    "            a=1\n",
    "            sto.append(a)\n",
    "        elif b[i][j] == 'rainy' or b[i][j] == 'broken' or b[i][j] == 'stay-home':\n",
    "            a=0\n",
    "            sto.append(a)\n",
    "sto=np.reshape(sto,(10,3))\n",
    "weather=sto[:,0]\n",
    "car=sto[:, 1]\n",
    "ydata=sto[:, 2]\n",
    "#  naive Bayes\n",
    "# - - - - - - - - - \n",
    "class NB:\n",
    "    def __init__(self,classes,data1,data2):\n",
    "        self.classes = classes\n",
    "        self.data1 = data1\n",
    "        self.data2 = data2\n",
    "    def be_shart(self,dataa,term1,term2):\n",
    "        '''\n",
    "        dataa :\n",
    "            car or weather\n",
    "        term 1:\n",
    "            for dataa 0 broken or rainy \n",
    "        term 2:\n",
    "            for y classes 0 stayHome 1 goOut\n",
    "        \n",
    "        '''\n",
    "        class_probability=list(self.classes).count(term2)/len(self.classes)\n",
    "        sto1=[]\n",
    "        for i in range(len(self.classes)):\n",
    "            if dataa[i] == term1 and self.classes[i] == term2:\n",
    "                sto1.append(i)\n",
    "            #print(self.data1[i],self.data2[i],self.classes[i])\n",
    "        res1=len(sto1)/(len(self.classes)*class_probability)\n",
    "        return res1\n",
    "    def predict(self,att1,att2,cp):\n",
    "        a1 = self.be_shart(self.data1,att1,0) * self.be_shart(self.data2,att2,0)  * cp\n",
    "        a2 = self.be_shart(self.data1,att1,1) * self.be_shart(self.data2,att2,1)  * cp\n",
    "        #print('stay home: {} , go out: {}'.format(a1,a2))\n",
    "        res='stay home' if a1>a2 else 'go out'\n",
    "        return res\n",
    "#be_shart(car,ydata,1,0)\\\n",
    "sg=NB(ydata,car,weather)\n",
    "print(' o o o o o ',sg.be_shart(car,0,0))  \n",
    "sg.predict(1,1,0.5) \n",
    "print( 'index  ,  ypredict  , yorg')\n",
    "for i in range(len(car)):\n",
    "    c='--stay home' if ydata[i] == 0 else '--go out'\n",
    "    print(i,sg.predict(car[i],weather[i],0.5),c,sep=' , ')"
   ]
  },
  {
   "cell_type": "markdown",
   "metadata": {},
   "source": [
    "--------\n",
    "# dataaaaas\n",
    "gaussian naive bayes\n",
    "-------\n",
    "probability density function -> pdf\n",
    " "
   ]
  },
  {
   "cell_type": "code",
   "execution_count": 14,
   "metadata": {},
   "outputs": [
    {
     "data": {
      "text/plain": [
       "<matplotlib.collections.PathCollection at 0x1c26067e550>"
      ]
     },
     "execution_count": 14,
     "metadata": {},
     "output_type": "execute_result"
    },
    {
     "data": {
      "image/png": "[encoded data removed]",
      "text/plain": [
       "<Figure size 432x288 with 1 Axes>"
      ]
     },
     "metadata": {
      "needs_background": "light"
     },
     "output_type": "display_data"
    }
   ],
   "source": [
    "with open('naive G.txt') as file:\n",
    "    readed=file.read().strip().split('\\n')\n",
    "    readed=[i.split(' ') for i in readed]\n",
    "del readed[0]\n",
    "readed=np.array(readed)\n",
    "xx=[]\n",
    "for i in readed:\n",
    "    x=[float(j) for j in i]\n",
    "    xx.append(x)\n",
    "xx=np.array(xx)\n",
    "xdata = xx[:,:2]\n",
    "ydata = xx[:,2]\n",
    "ydata = [int(i) for i in ydata]\n",
    "colormap=np.array(['r','b','k'])\n",
    "plt.scatter(xdata[:,0],xdata[:,1],color=colormap[ydata])"
   ]
  },
  {
   "cell_type": "code",
   "execution_count": 15,
   "metadata": {
    "tags": []
   },
   "outputs": [
    {
     "data": {
      "text/plain": [
       "Text(0, 0.3989422804014327, '(0,0.3989422804014327)')"
      ]
     },
     "execution_count": 15,
     "metadata": {},
     "output_type": "execute_result"
    },
    {
     "data": {
      "image/png": "[encoded data removed]",
      "text/plain": [
       "<Figure size 432x288 with 1 Axes>"
      ]
     },
     "metadata": {
      "needs_background": "light"
     },
     "output_type": "display_data"
    }
   ],
   "source": [
    "sd=1\n",
    "mean=0\n",
    "def pdf(X,mean,sd):\n",
    "    aa=np.exp(-((X-mean)**2)/(2*(sd**2)))\n",
    "    a=1/(np.sqrt(2*np.pi)*sd)\n",
    "    return a*aa\n",
    "y=[pdf(i,mean,sd) for i in range(-5,5)]\n",
    "maxindex=y.index(max(y))\n",
    "x1=range(-5,5)\n",
    "plt.plot(x1,y)\n",
    "plt.text(x1[maxindex],y[maxindex],'({},{})'.format(x1[maxindex],y[maxindex]))\n"
   ]
  },
  {
   "cell_type": "code",
   "execution_count": 16,
   "metadata": {},
   "outputs": [],
   "source": [
    "m0=np.mean(xx[:5,0])\n",
    "s=np.std(xx[:5,1])\n",
    "# get mean and std to calculate conditional property from each class "
   ]
  },
  {
   "cell_type": "code",
   "execution_count": 17,
   "metadata": {},
   "outputs": [
    {
     "data": {
      "text/plain": [
       "0.36960849581557953"
      ]
     },
     "execution_count": 17,
     "metadata": {},
     "output_type": "execute_result"
    }
   ],
   "source": [
    "pdf(xx[:,1][0],m0,s)\n",
    "# calculate probabiltity of each X\n",
    "# calculate p(0) and p(1) with bayes theorom\n",
    "# p(0) = p((X1) | y=0) * p(pdf(X2) | y=0) * CP"
   ]
  },
  {
   "cell_type": "markdown",
   "metadata": {},
   "source": [
    "# K NEAREST NEIGHBOR\n",
    "\n",
    "a=(xdata[0][0]-xdata[1][0])**2 \n",
    "<br>\n",
    "b=(xdata[0][1]-xdata[1][1])**2 <br>\n",
    "np.sqrt(a+b)"
   ]
  },
  {
   "cell_type": "code",
   "execution_count": 18,
   "metadata": {},
   "outputs": [
    {
     "name": "stdout",
     "output_type": "stream",
     "text": [
      "distance beetwen two input data 1.3662442958155252\n",
      "Guessed class:  1\n"
     ]
    },
    {
     "data": {
      "text/plain": [
       "{'distances': [0.4671300732988768, 1.1728333394789998, 1.5844228373810514],\n",
       " 'class': [1, 1, 1],\n",
       " 'index': [5, 8, 6]}"
      ]
     },
     "execution_count": 18,
     "metadata": {},
     "output_type": "execute_result"
    }
   ],
   "source": [
    "from collections import Counter\n",
    "def squared_diff2(data1,data2):\n",
    "    a=(data1[0]-data2[0])**2 + (data1[1]-data2[1])**2\n",
    "    return np.sqrt(a)\n",
    "def knn(k,x,y,newx):\n",
    "    a=[squared_diff2(xdata[i],newx) for i in range(len(x))]\n",
    "    neighbors={'distances':[],'class':[],'index':[]}\n",
    "    b=sorted(a)\n",
    "    for i in range(k):\n",
    "        c=b[i]\n",
    "        neighbors['index'].append(a.index(c))\n",
    "        neighbors['distances'].append(c)\n",
    "        neighbors['class'].append(y[a.index(c)])\n",
    "    print('Guessed class: ',max(Counter(neighbors['class'])))\n",
    "    return neighbors\n",
    "print('distance beetwen two input data',squared_diff2(xdata[1],xdata[4]))\n",
    "Xnew = [7.093607318,4.365731514]\n",
    "Ynew = 1\n",
    "knn(3,xdata,ydata,Xnew)\n"
   ]
  },
  {
   "cell_type": "markdown",
   "metadata": {},
   "source": [
    "----------\n",
    "# learning vector quantizaton \n",
    "-------------"
   ]
  },
  {
   "cell_type": "code",
   "execution_count": 23,
   "metadata": {},
   "outputs": [
    {
     "name": "stdout",
     "output_type": "stream",
     "text": [
      "[[7.67782042 2.82410108 1.        ]\n",
      " [2.70729724 3.08537391 0.        ]]\n",
      "Guessed class:  0\n"
     ]
    },
    {
     "data": {
      "text/plain": [
       "{'distances': [0.8946231691662638], 'class': [0], 'index': [3]}"
      ]
     },
     "execution_count": 23,
     "metadata": {},
     "output_type": "execute_result"
    }
   ],
   "source": [
    "codeBook=np.array([[10,10,1],[0,0,.0]])\n",
    "p=print\n",
    "b=[]\n",
    "LR = .1\n",
    "epoch = 0\n",
    "Mepoch = 500\n",
    "while epoch < Mepoch:\n",
    "    for j in range(len(xx)):\n",
    "        a=[squared_diff2(xx[j],codeBook[i]) for i in range(len(codeBook))]\n",
    "        c=a.index(min(a))\n",
    "        d=codeBook[c][2]\n",
    "        e=(xx[j][2])\n",
    "        #p(e,d, e == d , codeBook[c])\n",
    "        for k in range(len(codeBook[0]) - 1):\n",
    "            if e == d :\n",
    "                codeBook[c][k] = codeBook[c][k] + (LR * (xx[j][k] - codeBook[c][k]))\n",
    "            elif e != d:\n",
    "                codeBook[c][k] = codeBook[c][k] - (LR * (xx[j][k] - codeBook[c][k]))\n",
    "    epoch += 1\n",
    "p(codeBook)\n",
    "\n",
    "xnew= [3,4]\n",
    "knn(1,xdata,ydata,xnew)"
   ]
  },
  {
   "cell_type": "markdown",
   "metadata": {},
   "source": [
    "# support vector machine\n",
    "SVM"
   ]
  },
  {
   "cell_type": "code",
   "execution_count": null,
   "metadata": {},
   "outputs": [],
   "source": []
  }
 ],
 "metadata": {
  "kernelspec": {
   "display_name": "Python 3 (ipykernel)",
   "language": "python",
   "name": "python3"
  },
  "language_info": {
   "codemirror_mode": {
    "name": "ipython",
    "version": 3
   },
   "file_extension": ".py",
   "mimetype": "text/x-python",
   "name": "python",
   "nbconvert_exporter": "python",
   "pygments_lexer": "ipython3",
   "version": "3.9.7"
  }
 },
 "nbformat": 4,
 "nbformat_minor": 4
}
