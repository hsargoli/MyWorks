{
  "nbformat": 4,
  "nbformat_minor": 0,
  "metadata": {
    "colab": {
      "name": "algorithms_and_simpleCode.ipynb",
      "provenance": [],
      "collapsed_sections": [],
      "authorship_tag": "ABX9TyPJuMKxmtD9rJj6i2LxNAkX",
      "include_colab_link": true
    },
    "kernelspec": {
      "name": "python3",
      "display_name": "Python 3"
    },
    "language_info": {
      "name": "python"
    }
  },
  "cells": [
    {
      "cell_type": "markdown",
      "metadata": {
        "id": "view-in-github",
        "colab_type": "text"
      },
      "source": [
        "<a href=\"https://colab.research.google.com/github/hsargoli/MyWorks/blob/main/algorithms_and_simpleCode.ipynb\" target=\"_parent\"><img src=\"https://colab.research.google.com/assets/colab-badge.svg\" alt=\"Open In Colab\"/></a>"
      ]
    },
    {
      "cell_type": "code",
      "source": [
        "# CHANGE CASH\n",
        "'''Create a program that helps a cashier give adequate change to customers.\n",
        "The program should return the amount of coins for the customer’s change.'''\n",
        "import numpy as np\n",
        "import math\n",
        "\n",
        "def chashier(rv):\n",
        "  money = rv\n",
        "  coins = [500, 100, 20, 5, 2, 1]\n",
        "  d = len(coins)\n",
        "  while money > 0: \n",
        "    for k in range(d): # \n",
        "      ik = int(math.floor(int(money)/int(coins[k])))\n",
        "\n",
        "      money = money - coins[k] * ik\n",
        "      print(f'need {ik} X {coins[k]}$','\\t',f' rest {money}')\n",
        "      if money == 0:\n",
        "        break\n",
        "chashier(44)"
      ],
      "metadata": {
        "colab": {
          "base_uri": "https://localhost:8080/"
        },
        "id": "qsaHo4U7o5gz",
        "outputId": "87101b4b-2df2-4225-c67d-5f3c668108dc"
      },
      "execution_count": 58,
      "outputs": [
        {
          "output_type": "stream",
          "name": "stdout",
          "text": [
            "need 0 X 500$ \t  rest 44\n",
            "need 0 X 100$ \t  rest 44\n",
            "need 2 X 20$ \t  rest 4\n",
            "need 0 X 5$ \t  rest 4\n",
            "need 2 X 2$ \t  rest 0\n"
          ]
        }
      ]
    },
    {
      "cell_type": "code",
      "source": [
        "# reverse Sum\n",
        "a = [3,4,0]\n",
        "b = [0,9,1]\n",
        "c = \"\"\n",
        "d = \"\"\n",
        "for i in range(len(a)-1,-1,-1):\n",
        " c+=str(a[i])\n",
        " d+=str(b[i])\n",
        "print(c, d, sep=' ')\n",
        "z = int(c)+int(d)\n",
        "z"
      ],
      "metadata": {
        "colab": {
          "base_uri": "https://localhost:8080/"
        },
        "id": "t4mY9HdekP21",
        "outputId": "d4b7b185-18f2-426c-e5e9-2a339acdfc9e"
      },
      "execution_count": 118,
      "outputs": [
        {
          "output_type": "stream",
          "name": "stdout",
          "text": [
            "043 190\n"
          ]
        },
        {
          "output_type": "execute_result",
          "data": {
            "text/plain": [
              "233"
            ]
          },
          "metadata": {},
          "execution_count": 118
        }
      ]
    },
    {
      "cell_type": "code",
      "source": [
        "# roman integer\n",
        "# ------------------\n",
        "def roman(a):   #input must string\n",
        "  d=0\n",
        "  b={'I':1,'V':5,'X':10,'L':50,'C':100,'D':500,'M':1000}\n",
        "  for i in range(len(a)):\n",
        "    c = b[a[i]]\n",
        "    d += c\n",
        "  return d\n",
        "roman('DXII')"
      ],
      "metadata": {
        "colab": {
          "base_uri": "https://localhost:8080/"
        },
        "id": "PEZgxANcj7o-",
        "outputId": "5230e05b-c29a-4f11-cb30-a2e842fef3c6"
      },
      "execution_count": 119,
      "outputs": [
        {
          "output_type": "execute_result",
          "data": {
            "text/plain": [
              "512"
            ]
          },
          "metadata": {},
          "execution_count": 119
        }
      ]
    },
    {
      "cell_type": "code",
      "source": [
        "# Palindrome Linked List\n",
        "# ------------------\n",
        "def pll(a):\n",
        "  b = a[-1::-1]\n",
        "  print(b)\n",
        "  return a == b\n",
        "pll([1,2,2,1])"
      ],
      "metadata": {
        "colab": {
          "base_uri": "https://localhost:8080/"
        },
        "id": "3v254Dd-j0Ro",
        "outputId": "d73ade4e-9216-4835-e2d4-b6664abcc9ef"
      },
      "execution_count": 113,
      "outputs": [
        {
          "output_type": "stream",
          "name": "stdout",
          "text": [
            "[1, 2, 2, 1]\n"
          ]
        },
        {
          "output_type": "execute_result",
          "data": {
            "text/plain": [
              "True"
            ]
          },
          "metadata": {},
          "execution_count": 113
        }
      ]
    },
    {
      "cell_type": "code",
      "source": [
        "# Ransom Note return True if a can created from b\n",
        "# ------------------\n",
        "def Rn(a,b):\n",
        "  c, d=list(a), list(b)\n",
        "  e = len(c)\n",
        "  f = 0\n",
        "  for i in c:\n",
        "    if i in d:\n",
        "      f += 1\n",
        "  return f == e\n",
        "Rn('aawe','aabgw easdr')"
      ],
      "metadata": {
        "colab": {
          "base_uri": "https://localhost:8080/",
          "height": 323
        },
        "id": "_0xAvEcQirR5",
        "outputId": "c41094da-593b-4316-939d-1bada78915de"
      },
      "execution_count": 120,
      "outputs": [
        {
          "output_type": "error",
          "ename": "TypeError",
          "evalue": "ignored",
          "traceback": [
            "\u001b[0;31m---------------------------------------------------------------------------\u001b[0m",
            "\u001b[0;31mTypeError\u001b[0m                                 Traceback (most recent call last)",
            "\u001b[0;32m<ipython-input-120-3f8b57505439>\u001b[0m in \u001b[0;36m<module>\u001b[0;34m()\u001b[0m\n\u001b[1;32m      9\u001b[0m       \u001b[0mf\u001b[0m \u001b[0;34m+=\u001b[0m \u001b[0;36m1\u001b[0m\u001b[0;34m\u001b[0m\u001b[0;34m\u001b[0m\u001b[0m\n\u001b[1;32m     10\u001b[0m   \u001b[0;32mreturn\u001b[0m \u001b[0mf\u001b[0m \u001b[0;34m==\u001b[0m \u001b[0me\u001b[0m\u001b[0;34m\u001b[0m\u001b[0;34m\u001b[0m\u001b[0m\n\u001b[0;32m---> 11\u001b[0;31m \u001b[0mRn\u001b[0m\u001b[0;34m(\u001b[0m\u001b[0;34m'aawe'\u001b[0m\u001b[0;34m,\u001b[0m\u001b[0;34m'aabgw easdr'\u001b[0m\u001b[0;34m)\u001b[0m\u001b[0;34m\u001b[0m\u001b[0;34m\u001b[0m\u001b[0m\n\u001b[0m",
            "\u001b[0;32m<ipython-input-120-3f8b57505439>\u001b[0m in \u001b[0;36mRn\u001b[0;34m(a, b)\u001b[0m\n\u001b[1;32m      2\u001b[0m \u001b[0;31m# ------------------\u001b[0m\u001b[0;34m\u001b[0m\u001b[0;34m\u001b[0m\u001b[0;34m\u001b[0m\u001b[0m\n\u001b[1;32m      3\u001b[0m \u001b[0;32mdef\u001b[0m \u001b[0mRn\u001b[0m\u001b[0;34m(\u001b[0m\u001b[0ma\u001b[0m\u001b[0;34m,\u001b[0m\u001b[0mb\u001b[0m\u001b[0;34m)\u001b[0m\u001b[0;34m:\u001b[0m\u001b[0;34m\u001b[0m\u001b[0;34m\u001b[0m\u001b[0m\n\u001b[0;32m----> 4\u001b[0;31m   \u001b[0mc\u001b[0m\u001b[0;34m,\u001b[0m \u001b[0md\u001b[0m\u001b[0;34m=\u001b[0m\u001b[0mlist\u001b[0m\u001b[0;34m(\u001b[0m\u001b[0ma\u001b[0m\u001b[0;34m)\u001b[0m\u001b[0;34m,\u001b[0m \u001b[0mlist\u001b[0m\u001b[0;34m(\u001b[0m\u001b[0mb\u001b[0m\u001b[0;34m)\u001b[0m\u001b[0;34m\u001b[0m\u001b[0;34m\u001b[0m\u001b[0m\n\u001b[0m\u001b[1;32m      5\u001b[0m   \u001b[0me\u001b[0m \u001b[0;34m=\u001b[0m \u001b[0mlen\u001b[0m\u001b[0;34m(\u001b[0m\u001b[0mc\u001b[0m\u001b[0;34m)\u001b[0m\u001b[0;34m\u001b[0m\u001b[0;34m\u001b[0m\u001b[0m\n\u001b[1;32m      6\u001b[0m   \u001b[0mf\u001b[0m \u001b[0;34m=\u001b[0m \u001b[0;36m0\u001b[0m\u001b[0;34m\u001b[0m\u001b[0;34m\u001b[0m\u001b[0m\n",
            "\u001b[0;31mTypeError\u001b[0m: 'list' object is not callable"
          ]
        }
      ]
    },
    {
      "cell_type": "code",
      "source": [
        "# Longest Substring Without Repeating Characters\n",
        "# ------------------\n",
        "def lswrc(a):\n",
        "  d = []\n",
        "  c=''\n",
        "  for i in range(len(a)):\n",
        "    if a[i] not in c:\n",
        "      c += a[i]\n",
        "      # for visualize :  print('-- ',c)\n",
        "    else:\n",
        "      print(c)\n",
        "      d.append(c)\n",
        "      c = ''\n",
        "      c += a[i]\n",
        "    if i == len(a)-1:\n",
        "      d.append(c)\n",
        "  return d\n",
        "lswrc('abcd abcder rgtewroas;jcosan')\n"
      ],
      "metadata": {
        "colab": {
          "base_uri": "https://localhost:8080/"
        },
        "id": "9Z5IxHvviXgz",
        "outputId": "15a3d276-83f6-41f9-f65e-d6ab3f24ca58"
      },
      "execution_count": 116,
      "outputs": [
        {
          "output_type": "stream",
          "name": "stdout",
          "text": [
            "abcd \n",
            "abcder \n",
            "rgtew\n",
            "roas;jc\n",
            "['geasw']\n"
          ]
        }
      ]
    },
    {
      "cell_type": "code",
      "source": [
        "# Number of Pairs of Interchangeable Rectangles\n",
        "# how many unique aspect ratio rectangle we can create from given array \n",
        "# ------------------\n",
        "rectangles = [[4,8],[3,6],[10,20],[14,32],[28,64]]\n",
        "def rec_pair(a):\n",
        "  d = 0\n",
        "  for i,j in enumerate(a):\n",
        "    b = j[0]/j[1] \n",
        "    for k in range(len(a),1 + i,-1):\n",
        "      if a[k-1][0]/a[k-1][1] == b:\n",
        "        d +=1\n",
        "  return d\n",
        "rec_pair(rectangles)"
      ],
      "metadata": {
        "colab": {
          "base_uri": "https://localhost:8080/"
        },
        "id": "VqFddfzJiHVO",
        "outputId": "abd15ea3-8272-4597-eabf-7f7fff5f2e69"
      },
      "execution_count": 103,
      "outputs": [
        {
          "output_type": "execute_result",
          "data": {
            "text/plain": [
              "4"
            ]
          },
          "metadata": {},
          "execution_count": 103
        }
      ]
    },
    {
      "cell_type": "code",
      "source": [
        "# pariy of binary words\n",
        "'''\n",
        "he parity of a binary word is 1 if the word contains an \n",
        "odd number of 1s and 0 if it contains an even number of ones.\n",
        "More generally, any linear operation on a vector of bits is given\n",
        "by multiplication by a binary matrix, where arithmetic is carried out mod 2\n",
        "'''\n",
        "from collections import Counter \n",
        "h='10110001'\n",
        "c=Counter(h)\n",
        "def parity(x):\n",
        "  b=Counter(x)\n",
        "  c=0 if b['1']% 2 ==0 else 1\n",
        "  return c\n",
        "parity(h)"
      ],
      "metadata": {
        "id": "WcfRrUWzR3K9",
        "colab": {
          "base_uri": "https://localhost:8080/"
        },
        "outputId": "8ab50446-0b49-4623-e47d-ce058e9ae20c"
      },
      "execution_count": 60,
      "outputs": [
        {
          "output_type": "execute_result",
          "data": {
            "text/plain": [
              "0"
            ]
          },
          "metadata": {},
          "execution_count": 60
        }
      ]
    },
    {
      "cell_type": "code",
      "source": [
        "# In Python, how do DECORATORS work?\n",
        "# It's like wrapping our function in another function\n",
        "# define decorator functions ->\n",
        "# --------------------------------------------------------\n",
        "def deco(func): # it takes Function as its parameter\n",
        "  print('im decorator')\n",
        "  def wrapp(*args,**kwargs):\n",
        "    print('function operates:')\n",
        "    begin = time.time()\n",
        "    func(*args, **kwargs)\n",
        "    end = time.time()\n",
        "    print(\"Total time taken in : \", func.__name__, end - begin)\n",
        "    return func(*args,**kwargs)\n",
        "  return wrapp\n",
        "def sss():\n",
        "  print(' hiii')\n",
        "sss = deco(sss)\n",
        "sss()\n",
        "# --------------------------------------------------------\n",
        "def create_adder(x):\n",
        "    def adder(y):\n",
        "        return x+y\n",
        " \n",
        "    return adder\n",
        "add_15 = create_adder(15)\n",
        "print(add_15(10))\n",
        "# --------------------------------------------------------\n",
        "@deco\n",
        "def aaa(a):\n",
        "  return a + 1\n",
        "aaa(9)\n",
        "# --------------------------------------------------------\n",
        "def calculate_time(func):\n",
        "     \n",
        "    # added arguments inside the inner1,\n",
        "    # if function takes any arguments,\n",
        "    # can be added like this.\n",
        "    def inner1(*args, **kwargs):\n",
        " \n",
        "        # storing time before function execution\n",
        "        begin = time.time()\n",
        "         \n",
        "        func(*args, **kwargs)\n",
        " \n",
        "        # storing time after function execution\n",
        "        end = time.time()\n",
        "        print(\"Total time taken in : \", func.__name__, end - begin)\n",
        " \n",
        "    return inner1\n"
      ],
      "metadata": {
        "colab": {
          "base_uri": "https://localhost:8080/"
        },
        "id": "LHGj5-bV644U",
        "outputId": "4681f110-755f-467c-ce03-fc3b05b172d2"
      },
      "execution_count": 86,
      "outputs": [
        {
          "output_type": "stream",
          "name": "stdout",
          "text": [
            "im decorator\n",
            "function operates:\n",
            " hiii\n",
            "Total time taken in :  sss 2.6941299438476562e-05\n",
            " hiii\n",
            "25\n",
            "im decorator\n",
            "function operates:\n",
            "Total time taken in :  aaa 1.430511474609375e-06\n"
          ]
        }
      ]
    },
    {
      "cell_type": "code",
      "source": [
        "#===============================\n",
        "# reduce  function    =========\n",
        "# ==============================\n",
        "'''\n",
        "The reduce(fun,seq) function is used to apply a particular function passed in \n",
        "its argument to all of the list elements mentioned in the sequence passed along.\n",
        "This function is defined in “functools” module.\n",
        "'''\n",
        "from functools import reduce\n",
        "a=[1,4,2]\n",
        "print(reduce(lambda x,y : x/y,a))\n",
        "reduce(lambda x,y: x if x<y else y,[5,1,2,3,7]) # return min\n"
      ],
      "metadata": {
        "colab": {
          "base_uri": "https://localhost:8080/"
        },
        "id": "dyU91cdiIngC",
        "outputId": "4d45b410-bbdb-4622-be49-edd228c7ff05"
      },
      "execution_count": 89,
      "outputs": [
        {
          "output_type": "stream",
          "name": "stdout",
          "text": [
            "0.125\n"
          ]
        },
        {
          "output_type": "execute_result",
          "data": {
            "text/plain": [
              "1"
            ]
          },
          "metadata": {},
          "execution_count": 89
        }
      ]
    },
    {
      "cell_type": "code",
      "source": [
        "#===============================\n",
        "# RECURSION   ==================\n",
        "# ==============================\n",
        "def recursive_factorial(n):  \n",
        "   if n == 1:  \n",
        "       return n  \n",
        "   else:\n",
        "       return n * recursive_factorial(n-1) \n",
        "def fibo(n):\n",
        "  if n <= 1:\n",
        "    return 1\n",
        "  else:\n",
        "    return fibo(n-1) + fibo(n-2)\n",
        "#===============================\n",
        "for i in range(8):\n",
        "  print(f'index {i}   fibo number: {fibo(i)}, )')\n",
        "print('factoriel',recursive_factorial(5))"
      ],
      "metadata": {
        "id": "VrdLubRdJY18",
        "colab": {
          "base_uri": "https://localhost:8080/"
        },
        "outputId": "a2cbc8ed-81e9-4196-ba7d-5b39b72f2b21"
      },
      "execution_count": 93,
      "outputs": [
        {
          "output_type": "stream",
          "name": "stdout",
          "text": [
            "index 0   fibo number: 1, )\n",
            "index 1   fibo number: 1, )\n",
            "index 2   fibo number: 2, )\n",
            "index 3   fibo number: 3, )\n",
            "index 4   fibo number: 5, )\n",
            "index 5   fibo number: 8, )\n",
            "index 6   fibo number: 13, )\n",
            "index 7   fibo number: 21, )\n",
            "factoriel 120\n"
          ]
        }
      ]
    },
    {
      "cell_type": "code",
      "source": [
        "# -----------------------------------------------------\n",
        "#min sum                            -------------------\n",
        "# -----------------------------------------------------\n",
        "data = [3,5,1,6,10,3,8,4]\n",
        "dataa= np.random.randint(2,10,50)\n",
        "\n",
        "# -----------------------------------------------\n",
        "def sm(dat):\n",
        "  a=0\n",
        "  for i in dat:\n",
        "    a += i\n",
        "  return a\n",
        "\n",
        "def miin(dat):\n",
        "  d=dat[0]\n",
        "  for i in range(len(dat)-1,-1,-1):\n",
        "    a=dat[i];b=dat[i-1]\n",
        "    if a <= b:\n",
        "      if a <=d :\n",
        "        d = a \n",
        "  return d\n",
        "# -----------------------------------------------\n",
        "print('sum data',sm(data),'\\tmin ',miin(dataa))"
      ],
      "metadata": {
        "colab": {
          "base_uri": "https://localhost:8080/"
        },
        "id": "NMBFltFsZN8z",
        "outputId": "6669df4c-6c4e-462b-b3db-0f51db2295a3"
      },
      "execution_count": null,
      "outputs": [
        {
          "output_type": "stream",
          "name": "stdout",
          "text": [
            "sum data 40 \tmin  2\n"
          ]
        }
      ]
    },
    {
      "cell_type": "code",
      "source": [
        "# ooooooooooooooooo ooooooooooooooooooooooooooooooooooo\n",
        "# binary search                     -------------------\n",
        "# -----------------------------------------------------\n",
        "import numpy as np\n",
        "data = np.arange(20,2100,3)\n",
        "from time import time\n",
        "sss=time()\n",
        "b=[]\n",
        "def BS(da,valu):\n",
        "  data=np.copy(da)\n",
        "  a = int(len(da)/2)\n",
        "  #print(a,da)\n",
        "  if valu > da[a]:\n",
        "    b.append(a)\n",
        "    for i in range(a):\n",
        "      da=np.delete(da,0)\n",
        "    BS(da,valu)\n",
        "  elif valu < da[a]:\n",
        "    for i in range(len(da),-a+len(da),-1):\n",
        "      da=np.delete(da,-1)\n",
        "    BS(da,valu)\n",
        "  elif valu == da[a]:\n",
        "    print('succes')\n",
        "    b.append(a)\n",
        "    c = sum(b)\n",
        "    print('-we need the -',data[a],'== founded index ==',c)\n",
        "\n",
        "if __name__ == '__main__':\n",
        "  v=BS(data,1001)\n",
        "  print(time()-sss)"
      ],
      "metadata": {
        "colab": {
          "base_uri": "https://localhost:8080/"
        },
        "id": "iPLWbSmT579h",
        "outputId": "73513270-4554-4de5-fc90-ca43f03eff95"
      },
      "execution_count": null,
      "outputs": [
        {
          "output_type": "stream",
          "name": "stdout",
          "text": [
            "succes\n",
            "-we need - 1001 == founded index == 327\n",
            "0.009794473648071289\n"
          ]
        }
      ]
    },
    {
      "cell_type": "code",
      "source": [
        "# ----------------------------------------------------\n",
        "# my sort algorithm        - - - > sg < -------------------\n",
        "#-----------------------------------------------------\n",
        "data0=np.random.randint(1,100,500)\n",
        "print(data0)\n",
        "st= time.time()\n",
        "def tek(data):\n",
        "  for i in range(len(data)-1,0,-1):\n",
        "    if data[i] < data[i-1]:\n",
        "      data[i] , data[i-1]=data[i-1], data[i]\n",
        "  return data\n",
        "def do(data):\n",
        "  t=0\n",
        "  while t <  len(data):\n",
        "    data=tek(data)\n",
        "    t +=1\n",
        "  return data\n",
        "\n",
        "print(do(data0))\n",
        "el=time.time() - st\n",
        "el"
      ],
      "metadata": {
        "colab": {
          "base_uri": "https://localhost:8080/"
        },
        "id": "SlgkfsBXvUmY",
        "outputId": "1b1408d8-be9c-475b-92cb-e31bbebd1fdc"
      },
      "execution_count": null,
      "outputs": [
        {
          "output_type": "stream",
          "name": "stdout",
          "text": [
            "[88 73 85 88 21 47 51 21 76 84  7 61 57 42 87 40 25 40 14 44 97 12  3 61\n",
            " 60 52 71 92 91 99 51 47 66 18 52  1 77 11  4 32 61 42 68 62 94 97 50  8\n",
            "  4 58 82 86 55 90 19 30 14 84 52 45 87 91 62 59 42  7 53  8 44 57 16 87\n",
            " 22  9 91  7 18 60 13  6 59 72 73 17 61  5 89 85 41 78 96 99 76 96 35 23\n",
            " 19  2 31 74 80  4 71 51 95 59 92 10 77 80 48 16 60 63  5 58 35 78 82  3\n",
            " 31 52 81 40 41 72 38 76 49 21 11 97 66  9 86 30 12 21 63 75  5 16 91 96\n",
            " 60 73 27  8 50 59 85 30 68 33 27 94 74 71 85 60 40 33  4 89 67 23 81 10\n",
            " 92 70 85 49 68 32 88 27 49 84 17 38 24 28 50 94 75 41 92 39 34 29 13 56\n",
            " 58 48 32 93 66 79 65 36 46 23 18 62 97 52 40 25 80 90 91 79 53 86 21 61\n",
            " 17 30 14 22 32  4 16 37 11 78 32 24 86 29 36  8 30 18 99  5 96 27 42 92\n",
            " 91 61 58 72 33 55 70 40 77 96  5 77 27 11  3 48 24 39 56 71 90  2 68 86\n",
            " 51 13 20  3 21 65  8 91 78 80 54 55 71 85 17 58 81 26 93 62 86 52 30 84\n",
            " 24 64 66 45 83  3 28 33 64 61 18 30 27 99 41  3 29  9 90  7 83 22 21  8\n",
            "  1 64 79 74 79 32 92 89 63 77 40 75 52 27 87 72 43 77 92 99 41  5 18 90\n",
            "  4  7 26 26 83 35 66 83 21 21 73 47  1 69 36 13 83 19 90 22 30 30 93  2\n",
            " 64 11 10 24 69 20 99 48 77 16 60 10 91 36 67 85 61 40 49 99 39 88 37 86\n",
            " 26 37 80 13 27 48 93 52  5 85 94 35 16 35 50 58  6 26 35 22 24 76 90 95\n",
            "  2 66 54 18 48 46 42 39 77 61 42 73 40 99 46 80 34 26 80 84 58 31 94 70\n",
            "  9 49 76 41  6 11 48 34 54 59 67 89 55 77 64 56 43 90 86 68  2 66 89  7\n",
            " 74 76 87 23 44 32 83  3 45 51 65 42  7 52 99 41 88 55 34 55 32 84 28 84\n",
            " 21 51 96 58  4 68 87 30 18 50  8 69 89 28 46 84 53 29  8 70]\n",
            "[ 1  1  1  2  2  2  2  2  3  3  3  3  3  3  3  4  4  4  4  4  4  4  5  5\n",
            "  5  5  5  5  5  6  6  6  7  7  7  7  7  7  7  8  8  8  8  8  8  8  8  9\n",
            "  9  9  9 10 10 10 10 11 11 11 11 11 11 12 12 13 13 13 13 13 14 14 14 16\n",
            " 16 16 16 16 16 17 17 17 17 18 18 18 18 18 18 18 18 19 19 19 20 20 21 21\n",
            " 21 21 21 21 21 21 21 21 22 22 22 22 22 23 23 23 23 24 24 24 24 24 24 25\n",
            " 25 26 26 26 26 26 26 27 27 27 27 27 27 27 27 28 28 28 28 29 29 29 29 30\n",
            " 30 30 30 30 30 30 30 30 30 31 31 31 32 32 32 32 32 32 32 32 33 33 33 33\n",
            " 34 34 34 34 35 35 35 35 35 35 36 36 36 36 37 37 37 38 38 39 39 39 39 40\n",
            " 40 40 40 40 40 40 40 40 41 41 41 41 41 41 41 42 42 42 42 42 42 42 43 43\n",
            " 44 44 44 45 45 45 46 46 46 46 47 47 47 48 48 48 48 48 48 48 49 49 49 49\n",
            " 49 50 50 50 50 50 51 51 51 51 51 51 52 52 52 52 52 52 52 52 52 53 53 53\n",
            " 54 54 54 55 55 55 55 55 55 56 56 56 57 57 58 58 58 58 58 58 58 58 59 59\n",
            " 59 59 59 60 60 60 60 60 60 61 61 61 61 61 61 61 61 61 62 62 62 62 63 63\n",
            " 63 64 64 64 64 64 65 65 65 66 66 66 66 66 66 66 67 67 67 68 68 68 68 68\n",
            " 68 69 69 69 70 70 70 70 71 71 71 71 71 72 72 72 72 73 73 73 73 73 74 74\n",
            " 74 74 75 75 75 76 76 76 76 76 76 77 77 77 77 77 77 77 77 77 78 78 78 78\n",
            " 79 79 79 79 80 80 80 80 80 80 80 81 81 81 82 82 83 83 83 83 83 83 84 84\n",
            " 84 84 84 84 84 84 85 85 85 85 85 85 85 85 86 86 86 86 86 86 86 86 87 87\n",
            " 87 87 87 87 88 88 88 88 88 89 89 89 89 89 89 90 90 90 90 90 90 90 90 91\n",
            " 91 91 91 91 91 91 91 92 92 92 92 92 92 92 93 93 93 93 94 94 94 94 94 95\n",
            " 95 96 96 96 96 96 96 97 97 97 97 99 99 99 99 99 99 99 99 99]\n"
          ]
        },
        {
          "output_type": "execute_result",
          "data": {
            "text/plain": [
              "0.0853426456451416"
            ]
          },
          "metadata": {},
          "execution_count": 15
        }
      ]
    },
    {
      "cell_type": "code",
      "source": [
        "#===============================\n",
        "# buuble sort\n",
        "# ==============================\n",
        "import numpy as np\n",
        "import copy\n",
        "data0 = np.random.randint(1,100,5)\n",
        "import time\n",
        "st=time.time()\n",
        "list = copy.copy(data0)\n",
        "for iter_num in range(len(list)-1,0,-1):\n",
        "      for idx in range(iter_num):\n",
        "         if list[idx]>list[idx+1]:\n",
        "            temp = list[idx]\n",
        "            list[idx] = list[idx+1]\n",
        "            list[idx+1] = temp\n",
        "      print(list,temp)\n",
        "\n",
        "print(f'from this {data0} \\tto this {list}')\n",
        "print(any(sorted(data0) == list))\n",
        "el=time.time()-st\n",
        "print(el)"
      ],
      "metadata": {
        "colab": {
          "base_uri": "https://localhost:8080/"
        },
        "id": "f6cVhpZ0tPC4",
        "outputId": "484b984f-4a87-412f-80d1-92eb747ea080"
      },
      "execution_count": 45,
      "outputs": [
        {
          "output_type": "stream",
          "name": "stdout",
          "text": [
            "[46 90 87 11 93] 93\n",
            "[46 87 11 90 93] 90\n",
            "[46 11 87 90 93] 87\n",
            "[11 46 87 90 93] 46\n",
            "from this [90 46 93 87 11] \tto this [11 46 87 90 93]\n",
            "True\n",
            "0.0051038265228271484\n"
          ]
        }
      ]
    },
    {
      "cell_type": "code",
      "source": [
        "import numpy as np \n",
        "q=np.array([[1,2,3],[0,0,6],[7,8,9]])\n",
        "np.linalg.det(q)\n",
        "np.linalg.matrix_rank(q)"
      ],
      "metadata": {
        "colab": {
          "base_uri": "https://localhost:8080/"
        },
        "id": "BGiYzsepGzVE",
        "outputId": "5ed6cf74-8e9d-432e-c377-7faee05d68be"
      },
      "execution_count": 71,
      "outputs": [
        {
          "output_type": "execute_result",
          "data": {
            "text/plain": [
              "3"
            ]
          },
          "metadata": {},
          "execution_count": 71
        }
      ]
    },
    {
      "cell_type": "code",
      "source": [
        "#A naive recursive implementation of 0-1 Knapsack Problem \n",
        "# Returns the maximum value that can be put in a knapsack of \n",
        "# This code is contributed by Nikhil Kumar Singh\n",
        "# capacity W \n",
        "def knapSack(W , wt , val , n): \n",
        "    i=0\n",
        "    i +=1\n",
        "    # Base Case \n",
        "    if n == 0 or W == 0 : \n",
        "        return 0\n",
        "  \n",
        "    # If weight of the nth item is more than Knapsack of capacity \n",
        "    # W, then this item cannot be included in the optimal solution \n",
        "    if (wt[n-1] > W): \n",
        "        return knapSack(W , wt , val , n-1) \n",
        "  \n",
        "    # return the maximum of two cases: \n",
        "    # (1) nth item included \n",
        "    # (2) not included \n",
        "    else: \n",
        "        return max(val[n-1] + knapSack(W-wt[n-1] , wt , val , n-1), \n",
        "                   knapSack(W , wt , val , n-1)) \n",
        "# end of function knapSack \n",
        "  \n",
        "# To test above function \n",
        "val = [60, 100, 120, 140] \n",
        "wt = [10, 60, 40, 60] \n",
        "W = 130\n",
        "n = len(val) \n",
        "print(len(val))\n",
        "print (knapSack(W , wt , val , n))\n",
        "  \n"
      ],
      "metadata": {
        "colab": {
          "base_uri": "https://localhost:8080/"
        },
        "id": "ngEmC6mXmsws",
        "outputId": "fe4fad5b-2023-4c4e-9947-756a8fc9ac9e"
      },
      "execution_count": 78,
      "outputs": [
        {
          "output_type": "stream",
          "name": "stdout",
          "text": [
            "4\n",
            "320\n"
          ]
        }
      ]
    },
    {
      "cell_type": "code",
      "source": [
        "# Python program for implementation of MergeSort\n",
        "def mergeSort(arr):\n",
        "\tif len(arr) > 1:\n",
        "\n",
        "\t\t# Finding the mid of the array\n",
        "\t\tmid = len(arr)//2\n",
        "\n",
        "\t\t# Dividing the array elements\n",
        "\t\tL = arr[:mid]\n",
        "\n",
        "\t\t# into 2 halves\n",
        "\t\tR = arr[mid:]\n",
        "\n",
        "\t\t# Sorting the first half\n",
        "\t\tmergeSort(L)\n",
        "\n",
        "\n",
        "\t\t# Sorting the second half\n",
        "\t\tmergeSort(R)\n",
        "\t\ti = j = k = 0\n",
        "\t\tprint('\\n---',L,R,sep=' ',end='---\\n')\n",
        "\t\t# Copy data to temp arrays L[] and R[]\n",
        "\t\twhile i < len(L) and j < len(R):\n",
        "\t\t\tif L[i] < R[j]:\n",
        "\t\t\t\tprint('left',L[i],R[j])\n",
        "\t\t\t\tarr[k] = L[i]\n",
        "\t\t\t\ti += 1\n",
        "\t\t\telse:\n",
        "\t\t\t\tprint('right',R[j],L[i])\n",
        "\t\t\t\tarr[k] = R[j]\n",
        "\t\t\t\tj += 1\n",
        "\t\t\tk += 1\n",
        "\t\tprint(arr,'k',k,i,j,sep='  ')\n",
        "\t\t# Checking if any element was left\n",
        "\t\twhile i < len(L):\n",
        "\t\t\t\n",
        "\t\t\tarr[k] = L[i]\n",
        "\t\t\ti += 1\n",
        "\t\t\tk += 1\n",
        "\n",
        "\t\twhile j < len(R):\n",
        "\t\t\tarr[k] = R[j]\n",
        "\t\t\tj += 1\n",
        "\t\t\tk += 1\n",
        "\t\tprint(arr,'k',k)\n",
        "\n",
        "# Code to print the list\n",
        "\n",
        "\n",
        "def printList(arr):\n",
        "\tfor i in range(len(arr)):\n",
        "\t\tprint(arr[i], end=\" \")\n",
        "\tprint()\n",
        "\n",
        "\n",
        "# Driver Code\n",
        "if __name__ == '__main__':\n",
        "\tarr = [12, 11, 13, 5, 10, 7]\n",
        "\tprint(\"Given array is\", end=\"\\n\")\n",
        "\tprintList(arr)\n",
        "\tmergeSort(arr)\n",
        "\tprint(\"Sorted array is: \", end=\"\\n\")\n",
        "\tprintList(arr)\n",
        "\n",
        "# This code is contributed by Mayank Khanna\n"
      ],
      "metadata": {
        "id": "U5hsCQWUzEPg",
        "outputId": "b82ec4df-9e9e-4b53-96cc-cfaa62c9188c",
        "colab": {
          "base_uri": "https://localhost:8080/"
        }
      },
      "execution_count": null,
      "outputs": [
        {
          "output_type": "stream",
          "name": "stdout",
          "text": [
            "Given array is\n",
            "12 11 13 5 10 7 \n",
            "\n",
            "--- [11] [13]---\n",
            "left 11 13\n",
            "[11, 13]  k  1  1  0\n",
            "[11, 13] k 2\n",
            "\n",
            "--- [12] [11, 13]---\n",
            "right 11 12\n",
            "left 12 13\n",
            "[11, 12, 13]  k  2  1  1\n",
            "[11, 12, 13] k 3\n",
            "\n",
            "--- [10] [7]---\n",
            "right 7 10\n",
            "[7, 7]  k  1  0  1\n",
            "[7, 10] k 2\n",
            "\n",
            "--- [5] [7, 10]---\n",
            "left 5 7\n",
            "[5, 10, 7]  k  1  1  0\n",
            "[5, 7, 10] k 3\n",
            "\n",
            "--- [11, 12, 13] [5, 7, 10]---\n",
            "right 5 11\n",
            "right 7 11\n",
            "right 10 11\n",
            "[5, 7, 10, 5, 10, 7]  k  3  0  3\n",
            "[5, 7, 10, 11, 12, 13] k 6\n",
            "Sorted array is: \n",
            "5 7 10 11 12 13 \n"
          ]
        }
      ]
    },
    {
      "cell_type": "code",
      "source": [
        "# Python program for KMP Algorithm\n",
        "# This code is contributed by Bhavya Jain\n",
        "\n",
        "'''\n",
        "KMP Algorithm for Pattern Searching\n",
        "'''\n",
        "def KMPSearch(pat, txt):\n",
        "\tM = len(pat)\n",
        "\tN = len(txt)\n",
        "\n",
        "\t# create lps[] that will hold the longest prefix suffix\n",
        "\t# values for pattern\n",
        "\tlps = [0]*M\n",
        "\tj = 0 # index for pat[]\n",
        "\n",
        "\t# Preprocess the pattern (calculate lps[] array)\n",
        "\tcomputeLPSArray(pat, M, lps)\n",
        "\n",
        "\ti = 0 # index for txt[]\n",
        "\twhile i < N:\n",
        "\t\tif pat[j] == txt[i]:\n",
        "\t\t\ti += 1\n",
        "\t\t\tj += 1\n",
        "\n",
        "\t\tif j == M:\n",
        "\t\t\tprint (\"Found pattern at index \" + str(i-j))\n",
        "\t\t\tj = lps[j-1]\n",
        "\n",
        "\t\t# mismatch after j matches\n",
        "\t\telif i < N and pat[j] != txt[i]:\n",
        "\t\t\t# Do not match lps[0..lps[j-1]] characters,\n",
        "\t\t\t# they will match anyway\n",
        "\t\t\tif j != 0:\n",
        "\t\t\t\tj = lps[j-1]\n",
        "\t\t\telse:\n",
        "\t\t\t\ti += 1\n",
        "\n",
        "def computeLPSArray(pat, M, lps):\n",
        "\tlen = 0 # length of the previous longest prefix suffix\n",
        "\n",
        "\tlps[0] # lps[0] is always 0\n",
        "\ti = 1\n",
        "\n",
        "\t# the loop calculates lps[i] for i = 1 to M-1\n",
        "\twhile i < M:\n",
        "\t\tif pat[i]== pat[len]:\n",
        "\t\t\tlen += 1\n",
        "\t\t\tlps[i] = len\n",
        "\t\t\ti += 1\n",
        "\t\telse:\n",
        "\t\t\t# This is tricky. Consider the example.\n",
        "\t\t\t# AAACAAAA and i = 7. The idea is similar\n",
        "\t\t\t# to search step.\n",
        "\t\t\tif len != 0:\n",
        "\t\t\t\tlen = lps[len-1]\n",
        "\n",
        "\t\t\t\t# Also, note that we do not increment i here\n",
        "\t\t\telse:\n",
        "\t\t\t\tlps[i] = 0\n",
        "\t\t\t\ti += 1\n",
        "\n",
        "txt = \"ABABDABACDABABCABAB\"\n",
        "pat = \"ABAB\"\n",
        "KMPSearch(pat, txt)\n",
        "\n"
      ],
      "metadata": {
        "colab": {
          "base_uri": "https://localhost:8080/"
        },
        "id": "4JEnyTCEn02g",
        "outputId": "1f6afa86-344c-424a-c26a-fa1bd8266e0c"
      },
      "execution_count": null,
      "outputs": [
        {
          "output_type": "stream",
          "name": "stdout",
          "text": [
            "Found pattern at index 0\n",
            "Found pattern at index 10\n",
            "Found pattern at index 15\n"
          ]
        }
      ]
    },
    {
      "cell_type": "code",
      "source": [
        "import cProfile\n",
        "#cProfile.run('do(data0)')\n",
        "import random"
      ],
      "metadata": {
        "id": "dyPbuawcFslo"
      },
      "execution_count": null,
      "outputs": []
    }
  ]
}