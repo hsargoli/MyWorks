{
  "nbformat": 4,
  "nbformat_minor": 0,
  "metadata": {
    "colab": {
      "name": "algorithms_and_simpleCode.ipynb",
      "provenance": [],
      "collapsed_sections": [],
      "authorship_tag": "ABX9TyMLc/rMBGOGANwTPL5a3PBb",
      "include_colab_link": true
    },
    "kernelspec": {
      "name": "python3",
      "display_name": "Python 3"
    },
    "language_info": {
      "name": "python"
    }
  },
  "cells": [
    {
      "cell_type": "markdown",
      "metadata": {
        "id": "view-in-github",
        "colab_type": "text"
      },
      "source": [
        "<a href=\"https://colab.research.google.com/github/hsargoli/MyWorks/blob/main/algorithms_and_simpleCode.ipynb\" target=\"_parent\"><img src=\"https://colab.research.google.com/assets/colab-badge.svg\" alt=\"Open In Colab\"/></a>"
      ]
    },
    {
      "cell_type": "code",
      "source": [
        "# CHANGE CASH\n",
        "import numpy as np\n",
        "import math\n",
        "\n",
        "\n",
        "# we must return x as coin and i for Number of coins required to pay\n",
        "def chashier(rv):\n",
        "  money = rv\n",
        "  coins = [500, 100, 20, 5, 2, 1]\n",
        "  d = len(coins)\n",
        "  while money > 0:\n",
        "    for k in range(d):\n",
        "      ik = int(math.floor(int(money)/int(coins[k])))\n",
        "\n",
        "      money = money - coins[k] * ik\n",
        "      print(f'need {ik} X {coins[k]}$','\\t',f'The rest of the money {money}')\n",
        "      if money == 0:\n",
        "        break\n",
        "chashier(1433)"
      ],
      "metadata": {
        "colab": {
          "base_uri": "https://localhost:8080/"
        },
        "id": "qsaHo4U7o5gz",
        "outputId": "a7eb4d96-7b03-47e7-cfc1-a17730b01890"
      },
      "execution_count": 1,
      "outputs": [
        {
          "output_type": "stream",
          "name": "stdout",
          "text": [
            "need 2 X 500$ \t The rest of the money 433\n",
            "need 4 X 100$ \t The rest of the money 33\n",
            "need 1 X 20$ \t The rest of the money 13\n",
            "need 2 X 5$ \t The rest of the money 3\n",
            "need 1 X 2$ \t The rest of the money 1\n",
            "need 1 X 1$ \t The rest of the money 0\n"
          ]
        }
      ]
    },
    {
      "cell_type": "code",
      "source": [
        "# pariy of binary words\n",
        "from collections import Counter \n",
        "h='1010'\n",
        "c=Counter(a)\n",
        "def parity(x):\n",
        "  b=Counter(x)\n",
        "  c=0 if b['1']% 2 ==0 else 1\n",
        "  return c\n",
        "parity(h)"
      ],
      "metadata": {
        "id": "WcfRrUWzR3K9",
        "colab": {
          "base_uri": "https://localhost:8080/"
        },
        "outputId": "c4ba3ead-9594-40bf-9bdd-d47ecc50989d"
      },
      "execution_count": 7,
      "outputs": [
        {
          "output_type": "execute_result",
          "data": {
            "text/plain": [
              "0"
            ]
          },
          "metadata": {},
          "execution_count": 7
        }
      ]
    },
    {
      "cell_type": "code",
      "source": [
        "import numpy as np \n",
        "q=np.array([[1,2,3],[0,0,6],[7,8,9]])\n",
        "np.linalg.det(q)\n",
        "np.linalg.matrix_rank(q)"
      ],
      "metadata": {
        "colab": {
          "base_uri": "https://localhost:8080/"
        },
        "id": "BGiYzsepGzVE",
        "outputId": "f4f6bbab-7d8a-45f0-ac6d-83dd2d1fd430"
      },
      "execution_count": 2,
      "outputs": [
        {
          "output_type": "execute_result",
          "data": {
            "text/plain": [
              "3"
            ]
          },
          "metadata": {},
          "execution_count": 2
        }
      ]
    },
    {
      "cell_type": "code",
      "source": [
        "import numpy as np\n",
        "import pandas as pd\n",
        "np.random.seed(12345)\n",
        "import matplotlib.pyplot as plt\n",
        "plt.rc('figure', figsize=(10, 6))\n",
        "PREVIOUS_MAX_ROWS = pd.options.display.max_rows\n",
        "pd.options.display.max_rows = 20\n",
        "np.set_printoptions(precision=4, suppress=True)\n",
        "np.ones((3, 4, 5), dtype=np.float64).strides\n",
        "arr = np.arange(15)\n",
        "arr.reshape((5, -1))"
      ],
      "metadata": {
        "id": "oT2PwI4ujFq9",
        "colab": {
          "base_uri": "https://localhost:8080/"
        },
        "outputId": "c5a43bd3-497a-4cc5-8f74-25e5228113b1"
      },
      "execution_count": 3,
      "outputs": [
        {
          "output_type": "execute_result",
          "data": {
            "text/plain": [
              "array([[ 0,  1,  2],\n",
              "       [ 3,  4,  5],\n",
              "       [ 6,  7,  8],\n",
              "       [ 9, 10, 11],\n",
              "       [12, 13, 14]])"
            ]
          },
          "metadata": {},
          "execution_count": 3
        }
      ]
    },
    {
      "cell_type": "code",
      "source": [
        "#A naive recursive implementation of 0-1 Knapsack Problem \n",
        "  \n",
        "# Returns the maximum value that can be put in a knapsack of \n",
        "# capacity W \n",
        "def knapSack(W , wt , val , n): \n",
        "    i=0\n",
        "    i +=1\n",
        "    # Base Case \n",
        "    if n == 0 or W == 0 : \n",
        "        return 0\n",
        "  \n",
        "    # If weight of the nth item is more than Knapsack of capacity \n",
        "    # W, then this item cannot be included in the optimal solution \n",
        "    if (wt[n-1] > W): \n",
        "        return knapSack(W , wt , val , n-1) \n",
        "  \n",
        "    # return the maximum of two cases: \n",
        "    # (1) nth item included \n",
        "    # (2) not included \n",
        "    else: \n",
        "        return max(val[n-1] + knapSack(W-wt[n-1] , wt , val , n-1), \n",
        "                   knapSack(W , wt , val , n-1)) \n",
        "# end of function knapSack \n",
        "  \n",
        "# To test above function \n",
        "val = [60, 100, 120, 140] \n",
        "wt = [10, 60, 40, 60] \n",
        "W = 130\n",
        "n = len(val) \n",
        "print(len(val))\n",
        "print (knapSack(W , wt , val , n))\n",
        "  \n",
        "# This code is contributed by Nikhil Kumar Singh"
      ],
      "metadata": {
        "colab": {
          "base_uri": "https://localhost:8080/"
        },
        "id": "ngEmC6mXmsws",
        "outputId": "d693dd8a-7233-4841-f234-e50f550afc46"
      },
      "execution_count": null,
      "outputs": [
        {
          "output_type": "stream",
          "name": "stdout",
          "text": [
            "4\n",
            "320\n"
          ]
        }
      ]
    },
    {
      "cell_type": "code",
      "source": [
        "# DECORATORS \n",
        "def deco(func):\n",
        "  print('see me?')\n",
        "  def wrapp(*args,**kwargs):\n",
        "    print('this')\n",
        "    func(*args,**kwargs)\n",
        "    return func(*args,**kwargs)\n",
        "  return wrapp\n",
        "def sss():\n",
        "  print('hiii')\n",
        "sss=deco(sss)\n",
        "sss()\n",
        "@deco\n",
        "def aaa(a):\n",
        "  return a\n",
        "aaa(9)\n"
      ],
      "metadata": {
        "colab": {
          "base_uri": "https://localhost:8080/"
        },
        "id": "LHGj5-bV644U",
        "outputId": "bf1aa4f1-63b2-42e9-c720-162174572fd7"
      },
      "execution_count": null,
      "outputs": [
        {
          "output_type": "stream",
          "name": "stdout",
          "text": [
            "see me?\n",
            "this\n",
            "hiii\n",
            "hiii\n",
            "see me?\n",
            "this\n"
          ]
        },
        {
          "output_type": "execute_result",
          "data": {
            "text/plain": [
              "9"
            ]
          },
          "metadata": {},
          "execution_count": 12
        }
      ]
    },
    {
      "cell_type": "code",
      "source": [
        "#===============================\n",
        "# reduce  function    =========\n",
        "# ==============================\n",
        "'''\n",
        "The reduce(fun,seq) function is used to apply a particular function passed in \n",
        "its argument to all of the list elements mentioned in the sequence passed along.\n",
        "This function is defined in “functools” module.\n",
        "'''\n",
        "from functools import reduce\n",
        "a=[2,4,2]\n",
        "print(reduce(lambda x,y : x/y,a))\n",
        "reduce(lambda x,y: x if x<y else y,[5,1,2,3,7])\n"
      ],
      "metadata": {
        "colab": {
          "base_uri": "https://localhost:8080/"
        },
        "id": "dyU91cdiIngC",
        "outputId": "96508bae-8b70-4014-cba6-432ef9e75f37"
      },
      "execution_count": 10,
      "outputs": [
        {
          "output_type": "stream",
          "name": "stdout",
          "text": [
            "0.25\n"
          ]
        },
        {
          "output_type": "execute_result",
          "data": {
            "text/plain": [
              "1"
            ]
          },
          "metadata": {},
          "execution_count": 10
        }
      ]
    },
    {
      "cell_type": "code",
      "source": [
        "#===============================\n",
        "# RECURSION   ==================\n",
        "# ==============================\n",
        "def recursive_factorial(n):  \n",
        "   if n == 1:  \n",
        "       return n  \n",
        "   else:\n",
        "       return n * recursive_factorial(n-1) \n",
        "def fibo(n):\n",
        "  if n <= 1:\n",
        "    return 1\n",
        "  else:\n",
        "    return fibo(n-1) + fibo(n-2)\n",
        "#===============================\n",
        "for i in range(8):\n",
        "  print(fibo(i),i)\n",
        "print(recursive_factorial(5))"
      ],
      "metadata": {
        "id": "VrdLubRdJY18"
      },
      "execution_count": null,
      "outputs": []
    },
    {
      "cell_type": "code",
      "source": [
        "#===============================\n",
        "# buuble sort? this is iterative func ?\n",
        "# it takes uncertainty to solve \n",
        "# ==============================\n",
        "import numpy as np\n",
        "data0=np.random.randint(1,100,500)\n",
        "import time\n",
        "st=time.time()\n",
        "list=data0\n",
        "for iter_num in range(len(list)-1,0,-1):\n",
        "      for idx in range(iter_num):\n",
        "         if list[idx]>list[idx+1]:\n",
        "            temp = list[idx]\n",
        "            list[idx] = list[idx+1]\n",
        "            list[idx+1] = temp\n",
        "print(list)\n",
        "el=time.time()-st\n",
        "print(el)"
      ],
      "metadata": {
        "cellView": "code",
        "id": "LIK8VA_PMVl5"
      },
      "execution_count": null,
      "outputs": []
    },
    {
      "cell_type": "code",
      "source": [
        "# -----------------------------------------------------\n",
        "#min sum                            -------------------\n",
        "# -----------------------------------------------------\n",
        "data = [3,5,1,6,10,3,8,4]\n",
        "dataa= np.random.randint(2,10,50)\n",
        "# -----------------------------------------------\n",
        "def sm(dat):\n",
        "  a=0\n",
        "  for i in dat:\n",
        "    a += i\n",
        "  return a\n",
        "\n",
        "def miin(dat):\n",
        "  d=dat[0]\n",
        "  for i in range(len(dat)-1,-1,-1):\n",
        "    a=dat[i];b=dat[i-1]\n",
        "    if a <= b:\n",
        "      if a <=d :\n",
        "        d = a \n",
        "  return d\n",
        "# -----------------------------------------------\n",
        "print('sum data',sm(data),'\\tmin ',miin(dataa))"
      ],
      "metadata": {
        "colab": {
          "base_uri": "https://localhost:8080/"
        },
        "id": "NMBFltFsZN8z",
        "outputId": "6669df4c-6c4e-462b-b3db-0f51db2295a3"
      },
      "execution_count": null,
      "outputs": [
        {
          "output_type": "stream",
          "name": "stdout",
          "text": [
            "sum data 40 \tmin  2\n"
          ]
        }
      ]
    },
    {
      "cell_type": "code",
      "source": [
        "# ooooooooooooooooo ooooooooooooooooooooooooooooooooooo\n",
        "# binary search                     -------------------\n",
        "# -----------------------------------------------------\n",
        "import numpy as np\n",
        "data = np.arange(20,2100,3)\n",
        "from time import time\n",
        "sss=time()\n",
        "b=[]\n",
        "def BS(da,valu):\n",
        "  data=np.copy(da)\n",
        "  a = int(len(da)/2)\n",
        "  #print(a,da)\n",
        "  if valu > da[a]:\n",
        "    b.append(a)\n",
        "    for i in range(a):\n",
        "      da=np.delete(da,0)\n",
        "    BS(da,valu)\n",
        "  elif valu < da[a]:\n",
        "    for i in range(len(da),-a+len(da),-1):\n",
        "      da=np.delete(da,-1)\n",
        "    BS(da,valu)\n",
        "  elif valu == da[a]:\n",
        "    print('succes')\n",
        "    b.append(a)\n",
        "    c = sum(b)\n",
        "    print('-we need the -',data[a],'== founded index ==',c)\n",
        "\n",
        "if __name__ == '__main__':\n",
        "  v=BS(data,1001)\n",
        "  print(time()-sss)"
      ],
      "metadata": {
        "colab": {
          "base_uri": "https://localhost:8080/"
        },
        "id": "iPLWbSmT579h",
        "outputId": "73513270-4554-4de5-fc90-ca43f03eff95"
      },
      "execution_count": null,
      "outputs": [
        {
          "output_type": "stream",
          "name": "stdout",
          "text": [
            "succes\n",
            "-we need - 1001 == founded index == 327\n",
            "0.009794473648071289\n"
          ]
        }
      ]
    },
    {
      "cell_type": "code",
      "source": [
        "# ----------------------------------------------------\n",
        "# my sort algorithm        - - - > sg < -------------------\n",
        "#-----------------------------------------------------\n",
        "data0=np.random.randint(1,100,500)\n",
        "print(data0)\n",
        "st= time.time()\n",
        "def tek(data):\n",
        "  for i in range(len(data)-1,0,-1):\n",
        "    if data[i] < data[i-1]:\n",
        "      data[i] , data[i-1]=data[i-1], data[i]\n",
        "  return data\n",
        "def do(data):\n",
        "  t=0\n",
        "  while t <  len(data):\n",
        "    data=tek(data)\n",
        "    t +=1\n",
        "  return data\n",
        "\n",
        "print(do(data0))\n",
        "el=time.time() - st\n",
        "el"
      ],
      "metadata": {
        "colab": {
          "base_uri": "https://localhost:8080/"
        },
        "id": "SlgkfsBXvUmY",
        "outputId": "1b1408d8-be9c-475b-92cb-e31bbebd1fdc"
      },
      "execution_count": null,
      "outputs": [
        {
          "output_type": "stream",
          "name": "stdout",
          "text": [
            "[88 73 85 88 21 47 51 21 76 84  7 61 57 42 87 40 25 40 14 44 97 12  3 61\n",
            " 60 52 71 92 91 99 51 47 66 18 52  1 77 11  4 32 61 42 68 62 94 97 50  8\n",
            "  4 58 82 86 55 90 19 30 14 84 52 45 87 91 62 59 42  7 53  8 44 57 16 87\n",
            " 22  9 91  7 18 60 13  6 59 72 73 17 61  5 89 85 41 78 96 99 76 96 35 23\n",
            " 19  2 31 74 80  4 71 51 95 59 92 10 77 80 48 16 60 63  5 58 35 78 82  3\n",
            " 31 52 81 40 41 72 38 76 49 21 11 97 66  9 86 30 12 21 63 75  5 16 91 96\n",
            " 60 73 27  8 50 59 85 30 68 33 27 94 74 71 85 60 40 33  4 89 67 23 81 10\n",
            " 92 70 85 49 68 32 88 27 49 84 17 38 24 28 50 94 75 41 92 39 34 29 13 56\n",
            " 58 48 32 93 66 79 65 36 46 23 18 62 97 52 40 25 80 90 91 79 53 86 21 61\n",
            " 17 30 14 22 32  4 16 37 11 78 32 24 86 29 36  8 30 18 99  5 96 27 42 92\n",
            " 91 61 58 72 33 55 70 40 77 96  5 77 27 11  3 48 24 39 56 71 90  2 68 86\n",
            " 51 13 20  3 21 65  8 91 78 80 54 55 71 85 17 58 81 26 93 62 86 52 30 84\n",
            " 24 64 66 45 83  3 28 33 64 61 18 30 27 99 41  3 29  9 90  7 83 22 21  8\n",
            "  1 64 79 74 79 32 92 89 63 77 40 75 52 27 87 72 43 77 92 99 41  5 18 90\n",
            "  4  7 26 26 83 35 66 83 21 21 73 47  1 69 36 13 83 19 90 22 30 30 93  2\n",
            " 64 11 10 24 69 20 99 48 77 16 60 10 91 36 67 85 61 40 49 99 39 88 37 86\n",
            " 26 37 80 13 27 48 93 52  5 85 94 35 16 35 50 58  6 26 35 22 24 76 90 95\n",
            "  2 66 54 18 48 46 42 39 77 61 42 73 40 99 46 80 34 26 80 84 58 31 94 70\n",
            "  9 49 76 41  6 11 48 34 54 59 67 89 55 77 64 56 43 90 86 68  2 66 89  7\n",
            " 74 76 87 23 44 32 83  3 45 51 65 42  7 52 99 41 88 55 34 55 32 84 28 84\n",
            " 21 51 96 58  4 68 87 30 18 50  8 69 89 28 46 84 53 29  8 70]\n",
            "[ 1  1  1  2  2  2  2  2  3  3  3  3  3  3  3  4  4  4  4  4  4  4  5  5\n",
            "  5  5  5  5  5  6  6  6  7  7  7  7  7  7  7  8  8  8  8  8  8  8  8  9\n",
            "  9  9  9 10 10 10 10 11 11 11 11 11 11 12 12 13 13 13 13 13 14 14 14 16\n",
            " 16 16 16 16 16 17 17 17 17 18 18 18 18 18 18 18 18 19 19 19 20 20 21 21\n",
            " 21 21 21 21 21 21 21 21 22 22 22 22 22 23 23 23 23 24 24 24 24 24 24 25\n",
            " 25 26 26 26 26 26 26 27 27 27 27 27 27 27 27 28 28 28 28 29 29 29 29 30\n",
            " 30 30 30 30 30 30 30 30 30 31 31 31 32 32 32 32 32 32 32 32 33 33 33 33\n",
            " 34 34 34 34 35 35 35 35 35 35 36 36 36 36 37 37 37 38 38 39 39 39 39 40\n",
            " 40 40 40 40 40 40 40 40 41 41 41 41 41 41 41 42 42 42 42 42 42 42 43 43\n",
            " 44 44 44 45 45 45 46 46 46 46 47 47 47 48 48 48 48 48 48 48 49 49 49 49\n",
            " 49 50 50 50 50 50 51 51 51 51 51 51 52 52 52 52 52 52 52 52 52 53 53 53\n",
            " 54 54 54 55 55 55 55 55 55 56 56 56 57 57 58 58 58 58 58 58 58 58 59 59\n",
            " 59 59 59 60 60 60 60 60 60 61 61 61 61 61 61 61 61 61 62 62 62 62 63 63\n",
            " 63 64 64 64 64 64 65 65 65 66 66 66 66 66 66 66 67 67 67 68 68 68 68 68\n",
            " 68 69 69 69 70 70 70 70 71 71 71 71 71 72 72 72 72 73 73 73 73 73 74 74\n",
            " 74 74 75 75 75 76 76 76 76 76 76 77 77 77 77 77 77 77 77 77 78 78 78 78\n",
            " 79 79 79 79 80 80 80 80 80 80 80 81 81 81 82 82 83 83 83 83 83 83 84 84\n",
            " 84 84 84 84 84 84 85 85 85 85 85 85 85 85 86 86 86 86 86 86 86 86 87 87\n",
            " 87 87 87 87 88 88 88 88 88 89 89 89 89 89 89 90 90 90 90 90 90 90 90 91\n",
            " 91 91 91 91 91 91 91 92 92 92 92 92 92 92 93 93 93 93 94 94 94 94 94 95\n",
            " 95 96 96 96 96 96 96 97 97 97 97 99 99 99 99 99 99 99 99 99]\n"
          ]
        },
        {
          "output_type": "execute_result",
          "data": {
            "text/plain": [
              "0.0853426456451416"
            ]
          },
          "metadata": {},
          "execution_count": 15
        }
      ]
    },
    {
      "cell_type": "code",
      "source": [
        "# Python program for implementation of MergeSort\n",
        "def mergeSort(arr):\n",
        "\tif len(arr) > 1:\n",
        "\n",
        "\t\t# Finding the mid of the array\n",
        "\t\tmid = len(arr)//2\n",
        "\n",
        "\t\t# Dividing the array elements\n",
        "\t\tL = arr[:mid]\n",
        "\n",
        "\t\t# into 2 halves\n",
        "\t\tR = arr[mid:]\n",
        "\n",
        "\t\t# Sorting the first half\n",
        "\t\tmergeSort(L)\n",
        "\n",
        "\n",
        "\t\t# Sorting the second half\n",
        "\t\tmergeSort(R)\n",
        "\t\ti = j = k = 0\n",
        "\t\tprint('\\n---',L,R,sep=' ',end='---\\n')\n",
        "\t\t# Copy data to temp arrays L[] and R[]\n",
        "\t\twhile i < len(L) and j < len(R):\n",
        "\t\t\tif L[i] < R[j]:\n",
        "\t\t\t\tprint('left',L[i],R[j])\n",
        "\t\t\t\tarr[k] = L[i]\n",
        "\t\t\t\ti += 1\n",
        "\t\t\telse:\n",
        "\t\t\t\tprint('right',R[j],L[i])\n",
        "\t\t\t\tarr[k] = R[j]\n",
        "\t\t\t\tj += 1\n",
        "\t\t\tk += 1\n",
        "\t\tprint(arr,'k',k,i,j,sep='  ')\n",
        "\t\t# Checking if any element was left\n",
        "\t\twhile i < len(L):\n",
        "\t\t\t\n",
        "\t\t\tarr[k] = L[i]\n",
        "\t\t\ti += 1\n",
        "\t\t\tk += 1\n",
        "\n",
        "\t\twhile j < len(R):\n",
        "\t\t\tarr[k] = R[j]\n",
        "\t\t\tj += 1\n",
        "\t\t\tk += 1\n",
        "\t\tprint(arr,'k',k)\n",
        "\n",
        "# Code to print the list\n",
        "\n",
        "\n",
        "def printList(arr):\n",
        "\tfor i in range(len(arr)):\n",
        "\t\tprint(arr[i], end=\" \")\n",
        "\tprint()\n",
        "\n",
        "\n",
        "# Driver Code\n",
        "if __name__ == '__main__':\n",
        "\tarr = [12, 11, 13, 5, 10, 7]\n",
        "\tprint(\"Given array is\", end=\"\\n\")\n",
        "\tprintList(arr)\n",
        "\tmergeSort(arr)\n",
        "\tprint(\"Sorted array is: \", end=\"\\n\")\n",
        "\tprintList(arr)\n",
        "\n",
        "# This code is contributed by Mayank Khanna\n"
      ],
      "metadata": {
        "id": "U5hsCQWUzEPg",
        "outputId": "b82ec4df-9e9e-4b53-96cc-cfaa62c9188c",
        "colab": {
          "base_uri": "https://localhost:8080/"
        }
      },
      "execution_count": null,
      "outputs": [
        {
          "output_type": "stream",
          "name": "stdout",
          "text": [
            "Given array is\n",
            "12 11 13 5 10 7 \n",
            "\n",
            "--- [11] [13]---\n",
            "left 11 13\n",
            "[11, 13]  k  1  1  0\n",
            "[11, 13] k 2\n",
            "\n",
            "--- [12] [11, 13]---\n",
            "right 11 12\n",
            "left 12 13\n",
            "[11, 12, 13]  k  2  1  1\n",
            "[11, 12, 13] k 3\n",
            "\n",
            "--- [10] [7]---\n",
            "right 7 10\n",
            "[7, 7]  k  1  0  1\n",
            "[7, 10] k 2\n",
            "\n",
            "--- [5] [7, 10]---\n",
            "left 5 7\n",
            "[5, 10, 7]  k  1  1  0\n",
            "[5, 7, 10] k 3\n",
            "\n",
            "--- [11, 12, 13] [5, 7, 10]---\n",
            "right 5 11\n",
            "right 7 11\n",
            "right 10 11\n",
            "[5, 7, 10, 5, 10, 7]  k  3  0  3\n",
            "[5, 7, 10, 11, 12, 13] k 6\n",
            "Sorted array is: \n",
            "5 7 10 11 12 13 \n"
          ]
        }
      ]
    },
    {
      "cell_type": "code",
      "source": [
        "# Python program for KMP Algorithm\n",
        "# This code is contributed by Bhavya Jain\n",
        "\n",
        "'''\n",
        "KMP Algorithm for Pattern Searching\n",
        "'''\n",
        "def KMPSearch(pat, txt):\n",
        "\tM = len(pat)\n",
        "\tN = len(txt)\n",
        "\n",
        "\t# create lps[] that will hold the longest prefix suffix\n",
        "\t# values for pattern\n",
        "\tlps = [0]*M\n",
        "\tj = 0 # index for pat[]\n",
        "\n",
        "\t# Preprocess the pattern (calculate lps[] array)\n",
        "\tcomputeLPSArray(pat, M, lps)\n",
        "\n",
        "\ti = 0 # index for txt[]\n",
        "\twhile i < N:\n",
        "\t\tif pat[j] == txt[i]:\n",
        "\t\t\ti += 1\n",
        "\t\t\tj += 1\n",
        "\n",
        "\t\tif j == M:\n",
        "\t\t\tprint (\"Found pattern at index \" + str(i-j))\n",
        "\t\t\tj = lps[j-1]\n",
        "\n",
        "\t\t# mismatch after j matches\n",
        "\t\telif i < N and pat[j] != txt[i]:\n",
        "\t\t\t# Do not match lps[0..lps[j-1]] characters,\n",
        "\t\t\t# they will match anyway\n",
        "\t\t\tif j != 0:\n",
        "\t\t\t\tj = lps[j-1]\n",
        "\t\t\telse:\n",
        "\t\t\t\ti += 1\n",
        "\n",
        "def computeLPSArray(pat, M, lps):\n",
        "\tlen = 0 # length of the previous longest prefix suffix\n",
        "\n",
        "\tlps[0] # lps[0] is always 0\n",
        "\ti = 1\n",
        "\n",
        "\t# the loop calculates lps[i] for i = 1 to M-1\n",
        "\twhile i < M:\n",
        "\t\tif pat[i]== pat[len]:\n",
        "\t\t\tlen += 1\n",
        "\t\t\tlps[i] = len\n",
        "\t\t\ti += 1\n",
        "\t\telse:\n",
        "\t\t\t# This is tricky. Consider the example.\n",
        "\t\t\t# AAACAAAA and i = 7. The idea is similar\n",
        "\t\t\t# to search step.\n",
        "\t\t\tif len != 0:\n",
        "\t\t\t\tlen = lps[len-1]\n",
        "\n",
        "\t\t\t\t# Also, note that we do not increment i here\n",
        "\t\t\telse:\n",
        "\t\t\t\tlps[i] = 0\n",
        "\t\t\t\ti += 1\n",
        "\n",
        "txt = \"ABABDABACDABABCABAB\"\n",
        "pat = \"ABAB\"\n",
        "KMPSearch(pat, txt)\n",
        "\n"
      ],
      "metadata": {
        "colab": {
          "base_uri": "https://localhost:8080/"
        },
        "id": "4JEnyTCEn02g",
        "outputId": "1f6afa86-344c-424a-c26a-fa1bd8266e0c"
      },
      "execution_count": null,
      "outputs": [
        {
          "output_type": "stream",
          "name": "stdout",
          "text": [
            "Found pattern at index 0\n",
            "Found pattern at index 10\n",
            "Found pattern at index 15\n"
          ]
        }
      ]
    },
    {
      "cell_type": "code",
      "source": [
        "def insertion_sort(InputList):\n",
        "   for i in range(1, len(InputList)):\n",
        "      j = i-1\n",
        "      nxt_element = InputList[i]\n",
        "# Compare the current element with next one\n",
        "   while (InputList[j] > nxt_element) and (j >= 0):\n",
        "      InputList[j+1] = InputList[j]\n",
        "      j=j-1\n",
        "   InputList[j+1] = nxt_element\n",
        "   return InputList\n",
        "\n",
        "list = [19,2,31,45,30,11,121,27]\n",
        "insertion_sort(list)"
      ],
      "metadata": {
        "colab": {
          "base_uri": "https://localhost:8080/"
        },
        "id": "71UkzjuAAqRs",
        "outputId": "8dd8a4de-e16c-40b0-fd0f-91a9433e69d8"
      },
      "execution_count": null,
      "outputs": [
        {
          "output_type": "execute_result",
          "data": {
            "text/plain": [
              "[19, 2, 31, 45, 30, 11, 27, 121]"
            ]
          },
          "metadata": {},
          "execution_count": 20
        }
      ]
    },
    {
      "cell_type": "code",
      "source": [
        "import numpy as np\n",
        "d=np.random.shuffle(data)\n",
        "print(data)\n",
        "t=0\n",
        "l=[]\n",
        "while t<150:\n",
        "  data=np.arange(12)\n",
        "  for i in data:\n",
        "    g=min(data)\n",
        "    l.append(g)\n",
        "\n",
        "    print(g)\n",
        "  t +=1"
      ],
      "metadata": {
        "colab": {
          "base_uri": "https://localhost:8080/",
          "height": 245
        },
        "id": "_t2QF2U8Fnqd",
        "outputId": "277567f4-6c10-4ca4-90dc-72cf7b66e78b"
      },
      "execution_count": null,
      "outputs": [
        {
          "output_type": "error",
          "ename": "NameError",
          "evalue": "ignored",
          "traceback": [
            "\u001b[0;31m---------------------------------------------------------------------------\u001b[0m",
            "\u001b[0;31mNameError\u001b[0m                                 Traceback (most recent call last)",
            "\u001b[0;32m<ipython-input-4-25ac403f82f8>\u001b[0m in \u001b[0;36m<module>\u001b[0;34m()\u001b[0m\n\u001b[1;32m      1\u001b[0m \u001b[0;32mimport\u001b[0m \u001b[0mnumpy\u001b[0m \u001b[0;32mas\u001b[0m \u001b[0mnp\u001b[0m\u001b[0;34m\u001b[0m\u001b[0;34m\u001b[0m\u001b[0m\n\u001b[0;32m----> 2\u001b[0;31m \u001b[0md\u001b[0m\u001b[0;34m=\u001b[0m\u001b[0mnp\u001b[0m\u001b[0;34m.\u001b[0m\u001b[0mrandom\u001b[0m\u001b[0;34m.\u001b[0m\u001b[0mshuffle\u001b[0m\u001b[0;34m(\u001b[0m\u001b[0mdata\u001b[0m\u001b[0;34m)\u001b[0m\u001b[0;34m\u001b[0m\u001b[0;34m\u001b[0m\u001b[0m\n\u001b[0m\u001b[1;32m      3\u001b[0m \u001b[0mprint\u001b[0m\u001b[0;34m(\u001b[0m\u001b[0mdata\u001b[0m\u001b[0;34m)\u001b[0m\u001b[0;34m\u001b[0m\u001b[0;34m\u001b[0m\u001b[0m\n\u001b[1;32m      4\u001b[0m \u001b[0mt\u001b[0m\u001b[0;34m=\u001b[0m\u001b[0;36m0\u001b[0m\u001b[0;34m\u001b[0m\u001b[0;34m\u001b[0m\u001b[0m\n\u001b[1;32m      5\u001b[0m \u001b[0ml\u001b[0m\u001b[0;34m=\u001b[0m\u001b[0;34m[\u001b[0m\u001b[0;34m]\u001b[0m\u001b[0;34m\u001b[0m\u001b[0;34m\u001b[0m\u001b[0m\n",
            "\u001b[0;31mNameError\u001b[0m: name 'data' is not defined"
          ]
        }
      ]
    },
    {
      "cell_type": "code",
      "source": [
        "import cProfile\n",
        "#cProfile.run('do(data0)')\n",
        "import random"
      ],
      "metadata": {
        "id": "dyPbuawcFslo"
      },
      "execution_count": null,
      "outputs": []
    },
    {
      "cell_type": "code",
      "source": [
        "\"\"\"THE TOWER OF HANOI, by Al Sweigart al@inventwithpython.com\n",
        "A stack-moving puzzle game.\"\"\"\n",
        "import copy\n",
        "import sys\n",
        "TOTAL_DISKS = 5 # More disks means a more difficult puzzle.\n",
        "# Start with all disks on tower A:\n",
        "SOLVED_TOWER = list(range(TOTAL_DISKS, 0, -1))\n",
        "def main():\n",
        " \"\"\"Runs a single game of The Tower of Hanoi.\"\"\"\n",
        " print(\n",
        " \"\"\"THE TOWER OF HANOI, by Al Sweigart al@inventwithpython.com\n",
        "Move the tower of disks, one disk at a time, to another tower. Larger\n",
        "disks cannot rest on top of a smaller disk.\n",
        "More info at https://en.wikipedia.org/wiki/Tower_of_Hanoi\n",
        "\"\"\"\n",
        " )\n",
        " \"\"\"The towers dictionary has keys \"A\", \"B\", and \"C\" and values\n",
        " that are lists representing a tower of disks. The list contains\n",
        " integers representing disks of different sizes, and the start of\n",
        " the list is the bottom of the tower. For a game with 5 disks,\n",
        " the list [5, 4, 3, 2, 1] represents a completed tower. The blank\n",
        " list [] represents a tower of no disks. The list [1, 3] has a\n",
        " larger disk on top of a smaller disk and is an invalid\n",
        " configuration. The list [3, 1] is allowed since smaller disks\n",
        " can go on top of larger ones.\"\"\"\n",
        " towers = {\"A\": copy.copy(SOLVED_TOWER), \"B\": [], \"C\": []}\n",
        " while True: # Run a single turn on each iteration of this loop.\n",
        " # Display the towers and disks:\n",
        "  displayTowers(towers)\n",
        "  # Ask the user for a move:\n",
        "  fromTower, toTower = getPlayerMove(towers)\n",
        "  # Move the top disk from fromTower to toTower:\n",
        "  disk = towers[fromTower].pop()\n",
        "  towers[toTower].append(disk)\n",
        "  # Check if the user has solved the puzzle:\n",
        "  if SOLVED_TOWER in (towers[\"B\"], towers[\"C\"]):\n",
        "    displayTowers(towers) # Display the towers one last time.\n",
        "    print(\"You have solved the puzzle! Well done!\")\n",
        "    sys.exit()\n",
        "def getPlayerMove(towers):\n",
        " \"\"\"Asks the player for a move. Returns (fromTower, toTower).\"\"\"\n",
        " while True: # Keep asking player until they enter a valid move.\n",
        "  print('Enter the letters of \"from\" and \"to\" towers, or QUIT.')\n",
        "  print(\"(e.g., AB to moves a disk from tower A to tower B.)\")\n",
        "  print()\n",
        "  response = input(\"> \").upper().strip()\n",
        "  if response == \"QUIT\":\n",
        "    print(\"Thanks for playing!\")\n",
        "    sys.exit()\n",
        "  # Make sure the user entered valid tower letters:\n",
        "  if response not in (\"AB\", \"AC\", \"BA\", \"BC\", \"CA\", \"CB\"):\n",
        "    print(\"Enter one of AB, AC, BA, BC, CA, or CB.\")\n",
        "    continue # Ask player again for their move.\n",
        "  # Use more descriptive variable names:\n",
        "    fromTower, toTower = response[0], response[1]\n",
        "  if len(towers[fromTower]) == 0:\n",
        "  # The \"from\" tower cannot be an empty tower:\n",
        "  print(\"You selected a tower with no disks.\")\n",
        "  continue # Ask player again for their move.\n",
        "  elif len(towers[toTower]) == 0:\n",
        "  # Any disk can be moved onto an empty \"to\" tower:\n",
        "  return fromTower, toTower\n",
        "  elif towers[toTower][-1] < towers[fromTower][-1]:\n",
        "  print(\"Can't put larger disks on top of smaller ones.\")\n",
        "  continue # Ask player again for their move.\n",
        "  else:\n",
        "  # This is a valid move, so return the selected towers:\n",
        " return fromTower, toTower\n",
        "def displayTowers(towers):\n",
        " \"\"\"Display the three towers with their disks.\"\"\"\n",
        " # Display the three towers:\n",
        " for level in range(TOTAL_DISKS, -1, -1):\n",
        " for tower in (towers[\"A\"], towers[\"B\"], towers[\"C\"]):\n",
        " if level >= len(tower):\n",
        " displayDisk(0) # Display the bare pole with no disk.\n",
        " else:\n",
        " displayDisk(tower[level]) # Display the disk.\n",
        " print()\n",
        "252   Chapter 14\n",
        " # Display the tower labels A, B, and C:\n",
        " emptySpace = \" \" * (TOTAL_DISKS)\n",
        " print(\"{0} A{0}{0} B{0}{0} C\\n\".format(emptySpace))\n",
        "def displayDisk(width):\n",
        " \"\"\"Display a disk of the given width. A width of 0 means no disk.\"\"\"\n",
        " emptySpace = \" \" * (TOTAL_DISKS - width)\n",
        " if width == 0:\n",
        " # Display a pole segment without a disk:\n",
        " print(f\"{emptySpace}||{emptySpace}\", end=\"\")\n",
        " else:\n",
        " # Display the disk:\n",
        " disk = \"@\" * width\n",
        " numLabel = str(width).rjust(2, \"_\")\n",
        " print(f\"{emptySpace}{disk}{numLabel}{disk}{emptySpace}\", end=\"\")\n",
        "# If this program was run (instead of imported), run the game:\n",
        "if __name__ == \"__main__\":\n",
        " main()"
      ],
      "metadata": {
        "colab": {
          "base_uri": "https://localhost:8080/",
          "height": 132
        },
        "id": "vWduoswiNCVF",
        "outputId": "08787666-bbcc-4b02-dfb5-513e80131006"
      },
      "execution_count": null,
      "outputs": [
        {
          "output_type": "error",
          "ename": "IndentationError",
          "evalue": "ignored",
          "traceback": [
            "\u001b[0;36m  File \u001b[0;32m\"<ipython-input-4-520ba7b19be5>\"\u001b[0;36m, line \u001b[0;32m48\u001b[0m\n\u001b[0;31m    print(\"Thanks for playing!\")\u001b[0m\n\u001b[0m        ^\u001b[0m\n\u001b[0;31mIndentationError\u001b[0m\u001b[0;31m:\u001b[0m expected an indented block\n"
          ]
        }
      ]
    }
  ]
}