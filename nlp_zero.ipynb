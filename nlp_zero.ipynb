{
  "nbformat": 4,
  "nbformat_minor": 0,
  "metadata": {
    "colab": {
      "name": "nlp_zero.ipynb",
      "provenance": [],
      "collapsed_sections": [],
      "authorship_tag": "ABX9TyOEcgnsV1hx2VQsLMllwfFa",
      "include_colab_link": true
    },
    "kernelspec": {
      "name": "python3",
      "display_name": "Python 3"
    },
    "language_info": {
      "name": "python"
    }
  },
  "cells": [
    {
      "cell_type": "markdown",
      "metadata": {
        "id": "view-in-github",
        "colab_type": "text"
      },
      "source": [
        "<a href=\"https://colab.research.google.com/github/hsargoli/MyWorks/blob/main/nlp_zero.ipynb\" target=\"_parent\"><img src=\"https://colab.research.google.com/assets/colab-badge.svg\" alt=\"Open In Colab\"/></a>"
      ]
    },
    {
      "cell_type": "markdown",
      "source": [
        "#"
      ],
      "metadata": {
        "id": "OJ0XNfG90Moy"
      }
    },
    {
      "cell_type": "markdown",
      "source": [
        "# NLTK"
      ],
      "metadata": {
        "id": "40RXK8HDLj1B"
      }
    },
    {
      "cell_type": "markdown",
      "source": [
        "`reduce words`"
      ],
      "metadata": {
        "id": "30ecKO_e0Hnv"
      }
    },
    {
      "cell_type": "code",
      "source": [
        "# `    `    `    `    `    `    `    `    `    `    `    \n",
        "#  punctuation \n",
        "# `    `    `    `    `    `    `    `    `    `    `  \n",
        "# Stop Words\n",
        "# `   `    `    `    `    `    `    `    `    `    `    \n",
        "\n",
        "import nltk\n",
        "nltk.download('punkt')\n",
        "from nltk.tokenize import sent_tokenize, word_tokenize\n",
        "\n",
        "example_string = \"\"\"\n",
        " Muad'Dib learned rapidly because his first training was in how to learn.\n",
        " And the first lesson of all was the basic trust that he could learn.\n",
        " It's shocking to find how many people do not believe they can learn,\n",
        " and how many more believe learning to be difficult.\"\"\"\n",
        "\n",
        "length = len(example_string)\n",
        "word_t = word_tokenize(example_string)\n",
        "sent_t = sent_tokenize(example_string)\n",
        "\n",
        "\n",
        "nltk.download(\"stopwords\")\n",
        "from nltk.corpus import stopwords\n",
        "from nltk.tokenize import word_tokenize\n",
        "\n",
        "stop_words = set(stopwords.words(\"english\"))\n",
        "container_stopWords = []\n",
        "for i in word_t:\n",
        "  if i.casefold() not in stop_words:\n",
        "    container_stopWords.append(i) # The casefold() method returns a string where all the characters are lower case.\n",
        "\n",
        "container_stopWords = [i for i in container_stopWords if i.isalnum()]  # punt\n",
        "\n",
        "\n",
        "\n",
        "# PRESENT\n",
        "print('`  ` '*10, end = '\\n\\n')\n",
        "print(f'len raw words: {len(word_t)}, len reduced words {len(container_stopWords)}\\n5 first words in each gorupe: ',\n",
        "      list(zip(word_t[:5], container_stopWords[:5]))\n",
        ")\n",
        "print(f'stop_words: {stop_words}')"
      ],
      "metadata": {
        "colab": {
          "base_uri": "https://localhost:8080/"
        },
        "id": "o-8i0ca6KWWk",
        "outputId": "6d933751-7208-4608-d5d3-c262f59cd23f"
      },
      "execution_count": null,
      "outputs": [
        {
          "output_type": "stream",
          "name": "stdout",
          "text": [
            "[nltk_data] Downloading package punkt to /root/nltk_data...\n",
            "[nltk_data]   Package punkt is already up-to-date!\n",
            "[nltk_data] Downloading package stopwords to /root/nltk_data...\n",
            "[nltk_data]   Package stopwords is already up-to-date!\n",
            "`  ` `  ` `  ` `  ` `  ` `  ` `  ` `  ` `  ` `  ` \n",
            "\n",
            "len raw words: 53, len reduced words 21\n",
            "5 first words in each gorupe:  [(\"Muad'Dib\", 'learned'), ('learned', 'rapidly'), ('rapidly', 'first'), ('because', 'training'), ('his', 'learn')]\n",
            "stop_words: {'under', 'doesn', 'than', 'himself', \"mustn't\", \"wasn't\", 'do', 'the', \"don't\", 'until', 'shouldn', 'd', 'this', 'his', 'by', 'over', 'during', 'needn', 'up', 'weren', 'to', 'some', 'very', 'mightn', 'out', 'it', \"couldn't\", 'there', 'after', 'itself', 'further', 'with', 'each', 'hasn', 'been', 'don', \"you've\", 'myself', 'an', 'few', 'because', 'didn', 'a', \"you're\", 'down', 'its', 'not', 'between', 'whom', 'm', 'isn', 'can', 'she', \"didn't\", 'their', 'doing', 'if', 'and', 'he', 'as', 'yours', \"aren't\", 'before', 'shan', \"you'll\", 'they', 'most', 'against', \"she's\", 'why', 'ourselves', 'o', 'my', 'now', 'was', \"doesn't\", 'them', \"you'd\", \"mightn't\", 'am', 'off', 'only', 'your', 'what', 'hers', 'me', 'own', 'of', 'which', 'on', 'but', 'how', 're', 'any', 'yourself', 'y', 'are', 'herself', \"that'll\", \"hadn't\", 'haven', \"won't\", \"isn't\", \"shan't\", \"hasn't\", 'ain', 'while', 'having', 'just', 'couldn', 'had', 'has', 'being', 'here', 'our', 'in', 'all', 'ma', 'you', 'where', 'so', 'mustn', 'at', 'again', 've', \"shouldn't\", 'theirs', 'more', 'same', 'him', 'once', 'will', \"it's\", 'ours', 'is', 'be', 'when', \"haven't\", 'below', 'or', 'then', 'through', 'those', 'wasn', 'above', 'into', 'no', \"needn't\", 'we', 'll', 'these', 'nor', 'such', 'have', 'for', 'should', 'that', \"wouldn't\", 'who', 'yourselves', 'her', 'does', 'about', 'i', 'from', 'other', 'too', 't', 'aren', 'themselves', 'were', 'wouldn', 'did', 's', \"weren't\", 'hadn', 'won', 'both', \"should've\"}\n"
          ]
        }
      ]
    },
    {
      "cell_type": "markdown",
      "source": [
        " `Normalization`"
      ],
      "metadata": {
        "id": "O2fQrtmaLR4j"
      }
    },
    {
      "cell_type": "code",
      "source": [
        "# `    `    `    `    `    `    `    `    `    `    `    \n",
        "#  stemming  \n",
        "# `    `    `    `    `    `    `    `    `    `    ` \n",
        "from nltk.stem import PorterStemmer\n",
        "from nltk.tokenize import word_tokenize\n",
        "stemmer = PorterStemmer()\n",
        "\n",
        "string_for_stemming = \"\"\"\n",
        "The crew of the USS Discovery discovered many discoveries.\n",
        "Discovering is what explorers do.\"\"\"\n",
        "words = word_tokenize(string_for_stemming)\n",
        "stemmed_words = [stemmer.stem(i) for i in words]\n",
        "print(list(zip(stemmed_words,words)))\n",
        "# discoveri !\n",
        "\n",
        "\n",
        "# `    `    `    `    `    `    `    `    `    `    `    \n",
        "#  lemmatization  \n",
        "# `    `    `    `    `    `    `    `    `    `    `\n",
        "from nltk.stem import WordNetLemmatizer\n",
        "nltk.download('wordnet')\n",
        "\n",
        "st = WordNetLemmatizer()\n",
        "\n",
        "Lemmatize_word = [st.lemmatize(i) for i in words]\n",
        "print(Lemmatize_word)"
      ],
      "metadata": {
        "colab": {
          "base_uri": "https://localhost:8080/"
        },
        "id": "naFZqC-iUd2b",
        "outputId": "26412a6b-53f5-4f64-996a-d13cb12eec3f"
      },
      "execution_count": null,
      "outputs": [
        {
          "output_type": "stream",
          "name": "stdout",
          "text": [
            "[('the', 'The'), ('crew', 'crew'), ('of', 'of'), ('the', 'the'), ('uss', 'USS'), ('discoveri', 'Discovery'), ('discov', 'discovered'), ('mani', 'many'), ('discoveri', 'discoveries'), ('.', '.'), ('discov', 'Discovering'), ('is', 'is'), ('what', 'what'), ('explor', 'explorers'), ('do', 'do'), ('.', '.')]\n",
            "[nltk_data] Downloading package wordnet to /root/nltk_data...\n",
            "[nltk_data]   Package wordnet is already up-to-date!\n",
            "['The', 'crew', 'of', 'the', 'USS', 'Discovery', 'discovered', 'many', 'discovery', '.', 'Discovering', 'is', 'what', 'explorer', 'do', '.']\n"
          ]
        }
      ]
    },
    {
      "cell_type": "markdown",
      "source": [
        "`part of speach`"
      ],
      "metadata": {
        "id": "rNY5n-yZ0ASV"
      }
    },
    {
      "cell_type": "code",
      "source": [
        "import nltk\n",
        "nltk.download('averaged_perceptron_tagger')\n",
        "sagan_quote = \"\"\"\n",
        "If you wish to make an apple pie from scratch,\n",
        "you must first invent the universe.\"\"\"\n",
        "words_in_sagan_quote = word_tokenize(sagan_quote)\n",
        "nltk.pos_tag(words_in_sagan_quote)"
      ],
      "metadata": {
        "colab": {
          "base_uri": "https://localhost:8080/"
        },
        "id": "M9DVjtEJdt2-",
        "outputId": "81b166bd-2ebd-4f2c-b4c3-264dfbe2027f"
      },
      "execution_count": null,
      "outputs": [
        {
          "output_type": "stream",
          "name": "stdout",
          "text": [
            "[nltk_data] Downloading package averaged_perceptron_tagger to\n",
            "[nltk_data]     /root/nltk_data...\n",
            "[nltk_data]   Package averaged_perceptron_tagger is already up-to-\n",
            "[nltk_data]       date!\n"
          ]
        },
        {
          "output_type": "execute_result",
          "data": {
            "text/plain": [
              "[('If', 'IN'),\n",
              " ('you', 'PRP'),\n",
              " ('wish', 'VBP'),\n",
              " ('to', 'TO'),\n",
              " ('make', 'VB'),\n",
              " ('an', 'DT'),\n",
              " ('apple', 'NN'),\n",
              " ('pie', 'NN'),\n",
              " ('from', 'IN'),\n",
              " ('scratch', 'NN'),\n",
              " (',', ','),\n",
              " ('you', 'PRP'),\n",
              " ('must', 'MD'),\n",
              " ('first', 'VB'),\n",
              " ('invent', 'VB'),\n",
              " ('the', 'DT'),\n",
              " ('universe', 'NN'),\n",
              " ('.', '.')]"
            ]
          },
          "metadata": {},
          "execution_count": 10
        }
      ]
    },
    {
      "cell_type": "code",
      "source": [
        "import nltk\n",
        "nltk.download('tagsets')\n",
        "nltk.help.upenn_tagset()"
      ],
      "metadata": {
        "id": "b0FGg21vd_9h",
        "colab": {
          "base_uri": "https://localhost:8080/"
        },
        "outputId": "54cc5c6e-343e-4a45-f6c8-3485e6c17730"
      },
      "execution_count": 4,
      "outputs": [
        {
          "output_type": "stream",
          "name": "stdout",
          "text": [
            "[nltk_data] Downloading package tagsets to /root/nltk_data...\n",
            "[nltk_data]   Package tagsets is already up-to-date!\n",
            "$: dollar\n",
            "    $ -$ --$ A$ C$ HK$ M$ NZ$ S$ U.S.$ US$\n",
            "'': closing quotation mark\n",
            "    ' ''\n",
            "(: opening parenthesis\n",
            "    ( [ {\n",
            "): closing parenthesis\n",
            "    ) ] }\n",
            ",: comma\n",
            "    ,\n",
            "--: dash\n",
            "    --\n",
            ".: sentence terminator\n",
            "    . ! ?\n",
            ":: colon or ellipsis\n",
            "    : ; ...\n",
            "CC: conjunction, coordinating\n",
            "    & 'n and both but either et for less minus neither nor or plus so\n",
            "    therefore times v. versus vs. whether yet\n",
            "CD: numeral, cardinal\n",
            "    mid-1890 nine-thirty forty-two one-tenth ten million 0.5 one forty-\n",
            "    seven 1987 twenty '79 zero two 78-degrees eighty-four IX '60s .025\n",
            "    fifteen 271,124 dozen quintillion DM2,000 ...\n",
            "DT: determiner\n",
            "    all an another any both del each either every half la many much nary\n",
            "    neither no some such that the them these this those\n",
            "EX: existential there\n",
            "    there\n",
            "FW: foreign word\n",
            "    gemeinschaft hund ich jeux habeas Haementeria Herr K'ang-si vous\n",
            "    lutihaw alai je jour objets salutaris fille quibusdam pas trop Monte\n",
            "    terram fiche oui corporis ...\n",
            "IN: preposition or conjunction, subordinating\n",
            "    astride among uppon whether out inside pro despite on by throughout\n",
            "    below within for towards near behind atop around if like until below\n",
            "    next into if beside ...\n",
            "JJ: adjective or numeral, ordinal\n",
            "    third ill-mannered pre-war regrettable oiled calamitous first separable\n",
            "    ectoplasmic battery-powered participatory fourth still-to-be-named\n",
            "    multilingual multi-disciplinary ...\n",
            "JJR: adjective, comparative\n",
            "    bleaker braver breezier briefer brighter brisker broader bumper busier\n",
            "    calmer cheaper choosier cleaner clearer closer colder commoner costlier\n",
            "    cozier creamier crunchier cuter ...\n",
            "JJS: adjective, superlative\n",
            "    calmest cheapest choicest classiest cleanest clearest closest commonest\n",
            "    corniest costliest crassest creepiest crudest cutest darkest deadliest\n",
            "    dearest deepest densest dinkiest ...\n",
            "LS: list item marker\n",
            "    A A. B B. C C. D E F First G H I J K One SP-44001 SP-44002 SP-44005\n",
            "    SP-44007 Second Third Three Two * a b c d first five four one six three\n",
            "    two\n",
            "MD: modal auxiliary\n",
            "    can cannot could couldn't dare may might must need ought shall should\n",
            "    shouldn't will would\n",
            "NN: noun, common, singular or mass\n",
            "    common-carrier cabbage knuckle-duster Casino afghan shed thermostat\n",
            "    investment slide humour falloff slick wind hyena override subhumanity\n",
            "    machinist ...\n",
            "NNP: noun, proper, singular\n",
            "    Motown Venneboerger Czestochwa Ranzer Conchita Trumplane Christos\n",
            "    Oceanside Escobar Kreisler Sawyer Cougar Yvette Ervin ODI Darryl CTCA\n",
            "    Shannon A.K.C. Meltex Liverpool ...\n",
            "NNPS: noun, proper, plural\n",
            "    Americans Americas Amharas Amityvilles Amusements Anarcho-Syndicalists\n",
            "    Andalusians Andes Andruses Angels Animals Anthony Antilles Antiques\n",
            "    Apache Apaches Apocrypha ...\n",
            "NNS: noun, common, plural\n",
            "    undergraduates scotches bric-a-brac products bodyguards facets coasts\n",
            "    divestitures storehouses designs clubs fragrances averages\n",
            "    subjectivists apprehensions muses factory-jobs ...\n",
            "PDT: pre-determiner\n",
            "    all both half many quite such sure this\n",
            "POS: genitive marker\n",
            "    ' 's\n",
            "PRP: pronoun, personal\n",
            "    hers herself him himself hisself it itself me myself one oneself ours\n",
            "    ourselves ownself self she thee theirs them themselves they thou thy us\n",
            "PRP$: pronoun, possessive\n",
            "    her his mine my our ours their thy your\n",
            "RB: adverb\n",
            "    occasionally unabatingly maddeningly adventurously professedly\n",
            "    stirringly prominently technologically magisterially predominately\n",
            "    swiftly fiscally pitilessly ...\n",
            "RBR: adverb, comparative\n",
            "    further gloomier grander graver greater grimmer harder harsher\n",
            "    healthier heavier higher however larger later leaner lengthier less-\n",
            "    perfectly lesser lonelier longer louder lower more ...\n",
            "RBS: adverb, superlative\n",
            "    best biggest bluntest earliest farthest first furthest hardest\n",
            "    heartiest highest largest least less most nearest second tightest worst\n",
            "RP: particle\n",
            "    aboard about across along apart around aside at away back before behind\n",
            "    by crop down ever fast for forth from go high i.e. in into just later\n",
            "    low more off on open out over per pie raising start teeth that through\n",
            "    under unto up up-pp upon whole with you\n",
            "SYM: symbol\n",
            "    % & ' '' ''. ) ). * + ,. < = > @ A[fj] U.S U.S.S.R * ** ***\n",
            "TO: \"to\" as preposition or infinitive marker\n",
            "    to\n",
            "UH: interjection\n",
            "    Goodbye Goody Gosh Wow Jeepers Jee-sus Hubba Hey Kee-reist Oops amen\n",
            "    huh howdy uh dammit whammo shucks heck anyways whodunnit honey golly\n",
            "    man baby diddle hush sonuvabitch ...\n",
            "VB: verb, base form\n",
            "    ask assemble assess assign assume atone attention avoid bake balkanize\n",
            "    bank begin behold believe bend benefit bevel beware bless boil bomb\n",
            "    boost brace break bring broil brush build ...\n",
            "VBD: verb, past tense\n",
            "    dipped pleaded swiped regummed soaked tidied convened halted registered\n",
            "    cushioned exacted snubbed strode aimed adopted belied figgered\n",
            "    speculated wore appreciated contemplated ...\n",
            "VBG: verb, present participle or gerund\n",
            "    telegraphing stirring focusing angering judging stalling lactating\n",
            "    hankerin' alleging veering capping approaching traveling besieging\n",
            "    encrypting interrupting erasing wincing ...\n",
            "VBN: verb, past participle\n",
            "    multihulled dilapidated aerosolized chaired languished panelized used\n",
            "    experimented flourished imitated reunifed factored condensed sheared\n",
            "    unsettled primed dubbed desired ...\n",
            "VBP: verb, present tense, not 3rd person singular\n",
            "    predominate wrap resort sue twist spill cure lengthen brush terminate\n",
            "    appear tend stray glisten obtain comprise detest tease attract\n",
            "    emphasize mold postpone sever return wag ...\n",
            "VBZ: verb, present tense, 3rd person singular\n",
            "    bases reconstructs marks mixes displeases seals carps weaves snatches\n",
            "    slumps stretches authorizes smolders pictures emerges stockpiles\n",
            "    seduces fizzes uses bolsters slaps speaks pleads ...\n",
            "WDT: WH-determiner\n",
            "    that what whatever which whichever\n",
            "WP: WH-pronoun\n",
            "    that what whatever whatsoever which who whom whosoever\n",
            "WP$: WH-pronoun, possessive\n",
            "    whose\n",
            "WRB: Wh-adverb\n",
            "    how however whence whenever where whereby whereever wherein whereof why\n",
            "``: opening quotation mark\n",
            "    ` ``\n"
          ]
        }
      ]
    },
    {
      "cell_type": "markdown",
      "source": [
        "`frequency_distribution`"
      ],
      "metadata": {
        "id": "SYL5I4Xvz8IR"
      }
    },
    {
      "cell_type": "code",
      "source": [
        "# import wordBook from nltk\n",
        "import nltk\n",
        "nltk.download(\"book\")\n",
        "from nltk.book import *\n",
        "from nltk import FreqDist\n"
      ],
      "metadata": {
        "id": "WbC-U_8TfTGO"
      },
      "execution_count": null,
      "outputs": []
    },
    {
      "cell_type": "code",
      "source": [
        "# calculate frequency distribution for wordBook\n",
        "frequency_distribution = FreqDist(text1)\n",
        "list(frequency_distribution.items())[:5]"
      ],
      "metadata": {
        "colab": {
          "base_uri": "https://localhost:8080/"
        },
        "id": "1o-zxfIT0t4J",
        "outputId": "67569fc7-a103-41fd-eb7c-601020f478ec"
      },
      "execution_count": null,
      "outputs": [
        {
          "output_type": "execute_result",
          "data": {
            "text/plain": [
              "[('[', 3), ('Moby', 84), ('Dick', 84), ('by', 1137), ('Herman', 1)]"
            ]
          },
          "metadata": {},
          "execution_count": 13
        }
      ]
    },
    {
      "cell_type": "code",
      "source": [
        "# find max repetative char in --HARD WAY--\n",
        "values = list(dict(frequency_distribution).values())\n",
        "keyss = list(frequency_distribution.keys())\n",
        "\n",
        "max_value = max(values)\n",
        "max_index = values.index(max_value)\n",
        "\n",
        "a = -100 # from -1 to -len(values){Or00}\n",
        "interested_value = sorted(values)[a] # -1 == max , -2 == second . . .\n",
        "interested_index = values.index(interested_value)\n",
        "\n",
        "interested = keyss[interested_index]\n",
        "\n",
        "# index of values == keyss\n",
        "print(f'index max: {max_index}',\n",
        "      f'max char: {keyss[max_index]} / Repetition: {max_value}',\n",
        "      f'interested word: {interested} / Repetition: {interested_value}',\n",
        "      sep = '\\n')"
      ],
      "metadata": {
        "colab": {
          "base_uri": "https://localhost:8080/"
        },
        "id": "0JEC9JcHs-b_",
        "outputId": "b8407f8a-15ad-4944-eae4-7d218682119f"
      },
      "execution_count": null,
      "outputs": [
        {
          "output_type": "stream",
          "name": "stdout",
          "text": [
            "index max: 26\n",
            "max char: , / Repetition: 18713\n",
            "interested word: about / Repetition: 304\n"
          ]
        }
      ]
    },
    {
      "cell_type": "code",
      "source": [
        "frequency_distribution.most_common(20)\n",
        "frequency_distribution.plot(20, cumulative=False)\n",
        "\n",
        "a = [word for word in text1 if word.casefold() not in stop_words]\n",
        "aa = [i for i in a if i.isalnum()]\n",
        "b = FreqDist(aa)\n",
        "b.plot(20)"
      ],
      "metadata": {
        "colab": {
          "base_uri": "https://localhost:8080/",
          "height": 579
        },
        "id": "kksPUGJEKcSp",
        "outputId": "15344671-0a89-4963-d674-8664fe54bce2"
      },
      "execution_count": null,
      "outputs": [
        {
          "output_type": "display_data",
          "data": {
            "text/plain": [
              "<Figure size 432x288 with 1 Axes>"
            ],
            "image/png": "[encoded data removed]"
          },
          "metadata": {
            "needs_background": "light"
          }
        },
        {
          "output_type": "display_data",
          "data": {
            "text/plain": [
              "<Figure size 432x288 with 1 Axes>"
            ],
            "image/png": "[encoded data removed]"
          },
          "metadata": {
            "needs_background": "light"
          }
        }
      ]
    },
    {
      "cell_type": "markdown",
      "source": [
        "chunking\n"
      ],
      "metadata": {
        "id": "leUjpO0WKjL6"
      }
    },
    {
      "cell_type": "code",
      "source": [
        "sentence = [(\"a\", \"DT\"),(\"clever\",\"JJ\"),(\"fox\",\"NN\"),(\"was\",\"VBP\"),\n",
        "(\"jumping\",\"VBP\"),(\"over\",\"IN\"),(\"the\",\"DT\"),(\"wall\",\"NN\")]\n",
        "\n",
        "grammar = \"NP:{<DT>?<JJ>*<NN>}\"\n",
        "grammar1 = \"NP:{<NP>?<JJ>*<JJ>}\"\n",
        "\n",
        "parser_chunking = nltk.RegexpParser(grammar1)\n",
        "\n",
        "parser_chunking.parse(sentence)\n",
        "Output = parser_chunking.parse(sentence)\n",
        "print(Output)\n"
      ],
      "metadata": {
        "id": "VpOe1RRZKhWh",
        "colab": {
          "base_uri": "https://localhost:8080/"
        },
        "outputId": "316d629a-b715-486b-9300-0473599b4f83"
      },
      "execution_count": null,
      "outputs": [
        {
          "output_type": "stream",
          "name": "stdout",
          "text": [
            "(S\n",
            "  a/DT\n",
            "  (NP clever/JJ)\n",
            "  fox/NN\n",
            "  was/VBP\n",
            "  jumping/VBP\n",
            "  over/IN\n",
            "  the/DT\n",
            "  wall/NN)\n"
          ]
        }
      ]
    },
    {
      "cell_type": "markdown",
      "source": [
        "`Named Entity Recognition (NER)`"
      ],
      "metadata": {
        "id": "I-sPL2EY9TxG"
      }
    },
    {
      "cell_type": "code",
      "source": [
        "import nltk\n",
        "nltk.download('averaged_perceptron_tagger')\n",
        "sagan_quote = \"\"\"\n",
        "If London wish to make an apple pie from scratch,\n",
        "you must first invent the universe.\"\"\"\n",
        "words_in_sagan_quote = word_tokenize(sagan_quote)\n",
        "pos = nltk.pos_tag(words_in_sagan_quote)\n",
        "\n",
        "lotr_quote = \"It's a dangerous business, Frodo, going out your door.\"\n",
        "words_in_lotr_quote = word_tokenize(lotr_quote)\n",
        "lotr_pos_tags = nltk.pos_tag(words_in_lotr_quote)\n",
        "\n",
        "\n",
        "\n",
        "nltk.download(\"maxent_ne_chunker\")\n",
        "nltk.download(\"words\")\n",
        "tree1 = nltk.ne_chunk(lotr_pos_tags)\n",
        "\n",
        "tree = nltk.ne_chunk(pos)\n",
        "print(tree)\n",
        "# note that wich it find GPE for London / PERSON for Obama . . ."
      ],
      "metadata": {
        "colab": {
          "base_uri": "https://localhost:8080/"
        },
        "id": "UzOeoNJw9SvX",
        "outputId": "56cafa5a-6f37-4f45-83f1-67be0a4dd51d"
      },
      "execution_count": null,
      "outputs": [
        {
          "output_type": "stream",
          "name": "stdout",
          "text": [
            "[nltk_data] Downloading package averaged_perceptron_tagger to\n",
            "[nltk_data]     /root/nltk_data...\n",
            "[nltk_data]   Package averaged_perceptron_tagger is already up-to-\n",
            "[nltk_data]       date!\n",
            "[nltk_data] Downloading package maxent_ne_chunker to\n",
            "[nltk_data]     /root/nltk_data...\n",
            "[nltk_data]   Package maxent_ne_chunker is already up-to-date!\n",
            "[nltk_data] Downloading package words to /root/nltk_data...\n",
            "[nltk_data]   Package words is already up-to-date!\n",
            "(S\n",
            "  If/IN\n",
            "  (GPE London/NNP)\n",
            "  wish/VBP\n",
            "  to/TO\n",
            "  make/VB\n",
            "  an/DT\n",
            "  apple/NN\n",
            "  pie/NN\n",
            "  from/IN\n",
            "  scratch/NN\n",
            "  ,/,\n",
            "  you/PRP\n",
            "  must/MD\n",
            "  first/VB\n",
            "  invent/VB\n",
            "  the/DT\n",
            "  universe/NN\n",
            "  ./.)\n"
          ]
        }
      ]
    },
    {
      "cell_type": "code",
      "source": [
        "quote = \"\"\"\n",
        "Men like Schiaparelli watched the red planet—it is odd, by-the-bye, that\n",
        "for countless centuries Mars has been the star of war—but failed to\n",
        "interpret the fluctuating appearances of the markings they mapped so well.\n",
        "All that time the Martians must have been getting ready.\n",
        "\n",
        "During the opposition of 1894 a great light was seen on the illuminated\n",
        "part of the disk, first at the Lick Observatory, then by Perrotin of Nice,\n",
        "and then by other observers. English readers heard of it first in the\n",
        "issue of Nature dated August 2.\"\"\"\n",
        "\n",
        "def extract_ne(quote):\n",
        "     words = word_tokenize(quote)\n",
        "     tags = nltk.pos_tag(words)\n",
        "     tree = nltk.ne_chunk(tags, binary=True)\n",
        "     return set(\" \".join(i[0] for i in t) for t in tree if hasattr(t, \"label\") and t.label() == \"NE\")\n",
        "extract_ne(quote)"
      ],
      "metadata": {
        "colab": {
          "base_uri": "https://localhost:8080/"
        },
        "id": "-sL8ezwtAPUT",
        "outputId": "00c682d2-7f81-4b66-9bc5-3e32232e4824"
      },
      "execution_count": null,
      "outputs": [
        {
          "output_type": "execute_result",
          "data": {
            "text/plain": [
              "{'Lick Observatory', 'Mars', 'Nature', 'Perrotin', 'Schiaparelli'}"
            ]
          },
          "metadata": {},
          "execution_count": 156
        }
      ]
    },
    {
      "cell_type": "code",
      "source": [
        "words = word_tokenize(quote)\n",
        "tags = nltk.pos_tag(words)\n",
        "tree = nltk.ne_chunk(tags, binary=True)\n",
        "set(\" \".join(i[0] for i in t) for t in tree if hasattr(t, \"label\") and t.label() == \"NE\")\n",
        "# for each tuple in tree, check if statement  {https://www.w3schools.com/python/ref_func_hasattr.asp} "
      ],
      "metadata": {
        "colab": {
          "base_uri": "https://localhost:8080/"
        },
        "id": "KdcgpAYvBERm",
        "outputId": "245497b7-0b4f-4005-ec6e-f4b6d1876139"
      },
      "execution_count": null,
      "outputs": [
        {
          "output_type": "execute_result",
          "data": {
            "text/plain": [
              "{'Lick Observatory', 'Mars', 'Nature', 'Perrotin', 'Schiaparelli'}"
            ]
          },
          "metadata": {},
          "execution_count": 157
        }
      ]
    },
    {
      "cell_type": "code",
      "source": [
        "text2.concordance(\"man\")\n",
        "\n",
        "text2.dispersion_plot(\n",
        "     [\"woman\", \"lady\", \"girl\", \"gal\", \"man\", \"gentleman\", \"boy\", \"guy\"]\n",
        " )"
      ],
      "metadata": {
        "colab": {
          "base_uri": "https://localhost:8080/",
          "height": 746
        },
        "id": "CYFWEqAgJwb5",
        "outputId": "32109e3a-f389-481f-e021-9412a25400a2"
      },
      "execution_count": null,
      "outputs": [
        {
          "output_type": "stream",
          "name": "stdout",
          "text": [
            "Displaying 25 of 121 matches:\n",
            "ate owner of this estate was a single man , who lived to a very advanced age , \n",
            " The son , a steady respectable young man , was amply provided for by the fortu\n",
            " . He was not an ill - disposed young man , unless to be rather cold hearted an\n",
            " to exist between the children of any man by different marriages ; and why was \n",
            "a gentleman - like and pleasing young man , who was introduced to their acquain\n",
            "dward Ferrars was the eldest son of a man who had died very rich ; and some mig\n",
            "her established ideas of what a young man ' s address ought to be , was no long\n",
            "ut yet -- he is not the kind of young man -- there is something wanting -- his \n",
            "at grace which I should expect in the man who could seriously attach my sister \n",
            " united . I could not be happy with a man whose taste did not in every point co\n",
            " I convinced that I shall never see a man whom I can really love . I require so\n",
            "r servants to three ; two maids and a man , with whom they were speedily provid\n",
            " their establishment at Norland . The man and one of the maids were sent off im\n",
            "tual demands upon his purse , which a man of any consequence in the world was b\n",
            "Sir John Middleton was a good looking man about forty . He had formerly visited\n",
            "was reasonable enough to allow that a man of five and thirty might well have ou\n",
            "ations of her power over such a young man ; and this kind of discernment enable\n",
            "rs . Dashwood , who could not think a man five years younger than herself , so \n",
            "nd . It is too ridiculous ! When is a man to be safe from such wit , if age and\n",
            " of seven and twenty could feel for a man of thirty - five anything near enough\n",
            "ry year .\" \" And what sort of a young man is he ?\" \" As good a kind of fellow a\n",
            " say , that he is a respectable young man , and one whose acquaintance will not\n",
            "is what I like ; that is what a young man ought to be . Whatever be his pursuit\n",
            "nded ; and ' setting one ' s cap at a man ,' or ' making a conquest ,' are the \n",
            " rapturous a delight , that any young man of five and twenty must have been ins\n"
          ]
        },
        {
          "output_type": "display_data",
          "data": {
            "text/plain": [
              "<Figure size 432x288 with 1 Axes>"
            ],
            "image/png": "[encoded data removed]"
          },
          "metadata": {
            "needs_background": "light"
          }
        }
      ]
    },
    {
      "cell_type": "markdown",
      "source": [
        "\n",
        "\n",
        "```\n",
        "cosine_similarity\n",
        "\n",
        "```\n",
        "\n"
      ],
      "metadata": {
        "id": "KxBo-J1IUgSz"
      }
    },
    {
      "cell_type": "code",
      "source": [
        "from sklearn.metrics.pairwise import cosine_similarity\n",
        "import numpy as np\n",
        "array_vec_1 = np.array([[12,41,60,11,21]])\n",
        "array_vec_2 = np.array([[40,11,4,11,14]])\n",
        "print(cosine_similarity(array_vec_1, array_vec_2))"
      ],
      "metadata": {
        "colab": {
          "base_uri": "https://localhost:8080/"
        },
        "id": "64T3qqidUKT9",
        "outputId": "6e6e2a5d-a454-434e-ef44-2953fecbce90"
      },
      "execution_count": null,
      "outputs": [
        {
          "output_type": "stream",
          "name": "stdout",
          "text": [
            "[[0.45227058]]\n"
          ]
        }
      ]
    },
    {
      "cell_type": "markdown",
      "source": [
        "\n",
        "\n",
        "```\n",
        "word embeddings\n",
        "```\n",
        "\n"
      ],
      "metadata": {
        "id": "9a4QhDOqyb4n"
      }
    },
    {
      "cell_type": "code",
      "source": [
        "# import wordBook from nltk\n",
        "import nltk\n",
        "nltk.download(\"book\")\n",
        "from nltk.book import *\n",
        "from nltk import FreqDist\n",
        "from nltk.tokenize import sent_tokenize, word_tokenize"
      ],
      "metadata": {
        "id": "LFBAXPZLq1yz"
      },
      "execution_count": null,
      "outputs": []
    },
    {
      "cell_type": "code",
      "source": [
        "example_string = \"\"\"\n",
        " Muad'Dib learned rapidly because his first training was in how to learn.\n",
        " And the first lesson of all was the basic trust that he could learn.\n",
        " It's shocking to find how many people do not believe they can learn,\n",
        " and how many more believe learning to be difficult.\"\"\"\n",
        "\n",
        "sent_t = sent_tokenize(example_string)\n",
        "word_t = word_tokenize(example_string)\n",
        "import gensim\n",
        "\n",
        "model = gensim.models.Word2Vec([text1], size=120, window=3, min_count=2, workers=20, iter=10)\n",
        "print(\n",
        "      model.wv.similarity('many','first'),\n",
        "      model.most_similar('Supplied'),\n",
        "      #model.wv.vocab,\n",
        "      sep = '\\n'\n",
        "      )\n"
      ],
      "metadata": {
        "colab": {
          "base_uri": "https://localhost:8080/"
        },
        "id": "EWQCZvl4Z-qy",
        "outputId": "df0cd422-ee10-4e86-acea-4b1ed0d2b642"
      },
      "execution_count": 3,
      "outputs": [
        {
          "output_type": "stream",
          "name": "stdout",
          "text": [
            "0.9993077\n",
            "[('south', 0.9728525280952454), ('To', 0.9725223779678345), ('lead', 0.9723987579345703), ('dead', 0.9720567464828491), ('known', 0.972015917301178), ('?--', 0.9718800187110901), ('something', 0.9718459844589233), ('part', 0.971804678440094), ('even', 0.9717540144920349), ('bench', 0.9717383980751038)]\n"
          ]
        },
        {
          "output_type": "stream",
          "name": "stderr",
          "text": [
            "/usr/local/lib/python3.7/dist-packages/ipykernel_launcher.py:14: DeprecationWarning: Call to deprecated `most_similar` (Method will be removed in 4.0.0, use self.wv.most_similar() instead).\n",
            "  \n"
          ]
        }
      ]
    },
    {
      "cell_type": "code",
      "source": [
        ""
      ],
      "metadata": {
        "id": "g3uW-yqYdpR4"
      },
      "execution_count": null,
      "outputs": []
    },
    {
      "cell_type": "markdown",
      "source": [
        "\n",
        "\n",
        "```\n",
        "co occurance Matrix\n",
        "```\n",
        "\n"
      ],
      "metadata": {
        "id": "oT4a2MPLd9VD"
      }
    },
    {
      "cell_type": "code",
      "source": [
        "# FROM : https://towardsdatascience.com/word-vectors-intuition-and-co-occurence-matrixes-a7f67cae16cd\n",
        "import wikipedia\n",
        "import pandas as pd\n",
        "import numpy as np\n",
        "import string\n",
        "from nltk.tokenize import word_tokenize\n",
        "from sklearn.metrics.pairwise import cosine_similarity\n",
        "\n",
        "def retrieve_page(page_name: str) -> list:\n",
        "    '''\n",
        "    Retrieves page data from wikipedia\n",
        "    and stores words in lower case format in\n",
        "    a list - tokenized format.\n",
        "    '''\n",
        "    usa_article = wikipedia.page(page_name)\n",
        "    # Strip puncuation from page\n",
        "    usa_article = (\n",
        "        usa_article.content.translate(str.maketrans('', '', string.punctuation))\n",
        "    )\n",
        "    # Lower text case\n",
        "    usa_article = usa_article.lower()\n",
        "    # Tokenize using NLTK word tokenizer\n",
        "    usa_article_token = word_tokenize(usa_article)\n",
        "    return usa_article_token\n",
        "  \n",
        "def build_vocabulary(page:list) -> list:\n",
        "    '''\n",
        "    Builds vocabulary with all the words\n",
        "    present in the list page.\n",
        "    '''\n",
        "    vocab = list(set(page))\n",
        "    vocab.sort()\n",
        "    \n",
        "    vocab_dict = {}\n",
        "    for index, word in enumerate(vocab):\n",
        "        vocab_dict[word] = index\n",
        "    return vocab_dict\n",
        "\n",
        "def build_context(\n",
        "    page:str, \n",
        "    co_occurrence_vectors: pd.DataFrame\n",
        ") -> pd.DataFrame:\n",
        "    '''\n",
        "    Updates co-ocurrence vectors based on\n",
        "    text read from the page.\n",
        "    '''\n",
        "    for index, element in enumerate(page):\n",
        "        # Build start and finish of context\n",
        "        start = 0 if index-2 < 0 else index-2\n",
        "        finish = len(page) if index+2 > len(page) else index+3\n",
        "        # Retrieve Context for word\n",
        "        context = page[start:index]+page[index+1:finish]\n",
        "        for word in context:\n",
        "            # Update Co-Occurrence Matrix \n",
        "            co_occurrence_vectors.loc[element, word] = (\n",
        "                co_occurrence_vectors.loc[element, word]+1\n",
        "            )\n",
        "            \n",
        "    return co_occurrence_vectors  \n",
        " \n",
        "usa_article_token = retrieve_page('United States of America')\n",
        "vocab_dict = build_vocabulary(usa_article_token)\n",
        "\n",
        "co_occurrence_vectors = pd.DataFrame(\n",
        "    np.zeros([len(vocab_dict), len(vocab_dict)]),\n",
        "    index = vocab_dict.keys(),\n",
        "    columns = vocab_dict.keys()\n",
        ")\n",
        "\n",
        "\n",
        "co_occurrence_vectors = build_context(\n",
        "  usa_article_token,\n",
        "  co_occurrence_vectors\n",
        ")\n",
        "\n",
        "similarity_words = pd.DataFrame(\n",
        "    cosine_similarity(co_occurrence_vectors),\n",
        "    columns = vocab_dict.keys(),\n",
        "    index = vocab_dict.keys()\n",
        ")\n",
        "\n",
        "# Example of Top 10 words by similarity\n",
        "similarity_words.loc['china'].sort_values(ascending=False).head(10)"
      ],
      "metadata": {
        "colab": {
          "base_uri": "https://localhost:8080/"
        },
        "id": "5UhV3s3idldh",
        "outputId": "04ad7fde-56ef-4927-a8f3-2d9a2deec21f"
      },
      "execution_count": 12,
      "outputs": [
        {
          "output_type": "execute_result",
          "data": {
            "text/plain": [
              "china            1.000000\n",
              "secessionists    0.673575\n",
              "philippines      0.653720\n",
              "canada           0.606103\n",
              "soviet           0.600746\n",
              "cups             0.589256\n",
              "aftermath        0.589256\n",
              "funded           0.589256\n",
              "grasslands       0.577350\n",
              "caribbean        0.577350\n",
              "Name: china, dtype: float64"
            ]
          },
          "metadata": {},
          "execution_count": 12
        }
      ]
    },
    {
      "cell_type": "markdown",
      "source": [
        "# SPAcY"
      ],
      "metadata": {
        "id": "0tJMcMhl7aQG"
      }
    },
    {
      "cell_type": "code",
      "source": [
        "!pip install spacy\n",
        "!python -m spacy download en"
      ],
      "metadata": {
        "colab": {
          "base_uri": "https://localhost:8080/"
        },
        "id": "iTTEg1H77azi",
        "outputId": "a89ec98f-15cf-4f92-c8d2-6a5ab5611f99"
      },
      "execution_count": null,
      "outputs": [
        {
          "output_type": "stream",
          "name": "stdout",
          "text": [
            "Looking in indexes: https://pypi.org/simple, https://us-python.pkg.dev/colab-wheels/public/simple/\n",
            "Requirement already satisfied: spacy in /usr/local/lib/python3.7/dist-packages (2.2.4)\n",
            "Requirement already satisfied: murmurhash<1.1.0,>=0.28.0 in /usr/local/lib/python3.7/dist-packages (from spacy) (1.0.7)\n",
            "Requirement already satisfied: wasabi<1.1.0,>=0.4.0 in /usr/local/lib/python3.7/dist-packages (from spacy) (0.9.1)\n",
            "Requirement already satisfied: tqdm<5.0.0,>=4.38.0 in /usr/local/lib/python3.7/dist-packages (from spacy) (4.64.0)\n",
            "Requirement already satisfied: plac<1.2.0,>=0.9.6 in /usr/local/lib/python3.7/dist-packages (from spacy) (1.1.3)\n",
            "Requirement already satisfied: thinc==7.4.0 in /usr/local/lib/python3.7/dist-packages (from spacy) (7.4.0)\n",
            "Requirement already satisfied: setuptools in /usr/local/lib/python3.7/dist-packages (from spacy) (57.4.0)\n",
            "Requirement already satisfied: blis<0.5.0,>=0.4.0 in /usr/local/lib/python3.7/dist-packages (from spacy) (0.4.1)\n",
            "Requirement already satisfied: srsly<1.1.0,>=1.0.2 in /usr/local/lib/python3.7/dist-packages (from spacy) (1.0.5)\n",
            "Requirement already satisfied: catalogue<1.1.0,>=0.0.7 in /usr/local/lib/python3.7/dist-packages (from spacy) (1.0.0)\n",
            "Requirement already satisfied: numpy>=1.15.0 in /usr/local/lib/python3.7/dist-packages (from spacy) (1.21.6)\n",
            "Requirement already satisfied: requests<3.0.0,>=2.13.0 in /usr/local/lib/python3.7/dist-packages (from spacy) (2.23.0)\n",
            "Requirement already satisfied: cymem<2.1.0,>=2.0.2 in /usr/local/lib/python3.7/dist-packages (from spacy) (2.0.6)\n",
            "Requirement already satisfied: preshed<3.1.0,>=3.0.2 in /usr/local/lib/python3.7/dist-packages (from spacy) (3.0.6)\n",
            "Requirement already satisfied: importlib-metadata>=0.20 in /usr/local/lib/python3.7/dist-packages (from catalogue<1.1.0,>=0.0.7->spacy) (4.11.4)\n",
            "Requirement already satisfied: typing-extensions>=3.6.4 in /usr/local/lib/python3.7/dist-packages (from importlib-metadata>=0.20->catalogue<1.1.0,>=0.0.7->spacy) (4.2.0)\n",
            "Requirement already satisfied: zipp>=0.5 in /usr/local/lib/python3.7/dist-packages (from importlib-metadata>=0.20->catalogue<1.1.0,>=0.0.7->spacy) (3.8.0)\n",
            "Requirement already satisfied: certifi>=2017.4.17 in /usr/local/lib/python3.7/dist-packages (from requests<3.0.0,>=2.13.0->spacy) (2022.5.18.1)\n",
            "Requirement already satisfied: chardet<4,>=3.0.2 in /usr/local/lib/python3.7/dist-packages (from requests<3.0.0,>=2.13.0->spacy) (3.0.4)\n",
            "Requirement already satisfied: urllib3!=1.25.0,!=1.25.1,<1.26,>=1.21.1 in /usr/local/lib/python3.7/dist-packages (from requests<3.0.0,>=2.13.0->spacy) (1.24.3)\n",
            "Requirement already satisfied: idna<3,>=2.5 in /usr/local/lib/python3.7/dist-packages (from requests<3.0.0,>=2.13.0->spacy) (2.10)\n",
            "Looking in indexes: https://pypi.org/simple, https://us-python.pkg.dev/colab-wheels/public/simple/\n",
            "Collecting en_core_web_sm==2.2.5\n",
            "  Downloading https://github.com/explosion/spacy-models/releases/download/en_core_web_sm-2.2.5/en_core_web_sm-2.2.5.tar.gz (12.0 MB)\n",
            "\u001b[K     |████████████████████████████████| 12.0 MB 4.8 MB/s \n",
            "\u001b[?25hRequirement already satisfied: spacy>=2.2.2 in /usr/local/lib/python3.7/dist-packages (from en_core_web_sm==2.2.5) (2.2.4)\n",
            "Requirement already satisfied: blis<0.5.0,>=0.4.0 in /usr/local/lib/python3.7/dist-packages (from spacy>=2.2.2->en_core_web_sm==2.2.5) (0.4.1)\n",
            "Requirement already satisfied: wasabi<1.1.0,>=0.4.0 in /usr/local/lib/python3.7/dist-packages (from spacy>=2.2.2->en_core_web_sm==2.2.5) (0.9.1)\n",
            "Requirement already satisfied: requests<3.0.0,>=2.13.0 in /usr/local/lib/python3.7/dist-packages (from spacy>=2.2.2->en_core_web_sm==2.2.5) (2.23.0)\n",
            "Requirement already satisfied: plac<1.2.0,>=0.9.6 in /usr/local/lib/python3.7/dist-packages (from spacy>=2.2.2->en_core_web_sm==2.2.5) (1.1.3)\n",
            "Requirement already satisfied: cymem<2.1.0,>=2.0.2 in /usr/local/lib/python3.7/dist-packages (from spacy>=2.2.2->en_core_web_sm==2.2.5) (2.0.6)\n",
            "Requirement already satisfied: tqdm<5.0.0,>=4.38.0 in /usr/local/lib/python3.7/dist-packages (from spacy>=2.2.2->en_core_web_sm==2.2.5) (4.64.0)\n",
            "Requirement already satisfied: srsly<1.1.0,>=1.0.2 in /usr/local/lib/python3.7/dist-packages (from spacy>=2.2.2->en_core_web_sm==2.2.5) (1.0.5)\n",
            "Requirement already satisfied: numpy>=1.15.0 in /usr/local/lib/python3.7/dist-packages (from spacy>=2.2.2->en_core_web_sm==2.2.5) (1.21.6)\n",
            "Requirement already satisfied: thinc==7.4.0 in /usr/local/lib/python3.7/dist-packages (from spacy>=2.2.2->en_core_web_sm==2.2.5) (7.4.0)\n",
            "Requirement already satisfied: preshed<3.1.0,>=3.0.2 in /usr/local/lib/python3.7/dist-packages (from spacy>=2.2.2->en_core_web_sm==2.2.5) (3.0.6)\n",
            "Requirement already satisfied: catalogue<1.1.0,>=0.0.7 in /usr/local/lib/python3.7/dist-packages (from spacy>=2.2.2->en_core_web_sm==2.2.5) (1.0.0)\n",
            "Requirement already satisfied: setuptools in /usr/local/lib/python3.7/dist-packages (from spacy>=2.2.2->en_core_web_sm==2.2.5) (57.4.0)\n",
            "Requirement already satisfied: murmurhash<1.1.0,>=0.28.0 in /usr/local/lib/python3.7/dist-packages (from spacy>=2.2.2->en_core_web_sm==2.2.5) (1.0.7)\n",
            "Requirement already satisfied: importlib-metadata>=0.20 in /usr/local/lib/python3.7/dist-packages (from catalogue<1.1.0,>=0.0.7->spacy>=2.2.2->en_core_web_sm==2.2.5) (4.11.4)\n",
            "Requirement already satisfied: zipp>=0.5 in /usr/local/lib/python3.7/dist-packages (from importlib-metadata>=0.20->catalogue<1.1.0,>=0.0.7->spacy>=2.2.2->en_core_web_sm==2.2.5) (3.8.0)\n",
            "Requirement already satisfied: typing-extensions>=3.6.4 in /usr/local/lib/python3.7/dist-packages (from importlib-metadata>=0.20->catalogue<1.1.0,>=0.0.7->spacy>=2.2.2->en_core_web_sm==2.2.5) (4.2.0)\n",
            "Requirement already satisfied: idna<3,>=2.5 in /usr/local/lib/python3.7/dist-packages (from requests<3.0.0,>=2.13.0->spacy>=2.2.2->en_core_web_sm==2.2.5) (2.10)\n",
            "Requirement already satisfied: certifi>=2017.4.17 in /usr/local/lib/python3.7/dist-packages (from requests<3.0.0,>=2.13.0->spacy>=2.2.2->en_core_web_sm==2.2.5) (2022.5.18.1)\n",
            "Requirement already satisfied: urllib3!=1.25.0,!=1.25.1,<1.26,>=1.21.1 in /usr/local/lib/python3.7/dist-packages (from requests<3.0.0,>=2.13.0->spacy>=2.2.2->en_core_web_sm==2.2.5) (1.24.3)\n",
            "Requirement already satisfied: chardet<4,>=3.0.2 in /usr/local/lib/python3.7/dist-packages (from requests<3.0.0,>=2.13.0->spacy>=2.2.2->en_core_web_sm==2.2.5) (3.0.4)\n",
            "\u001b[38;5;2m✔ Download and installation successful\u001b[0m\n",
            "You can now load the model via spacy.load('en_core_web_sm')\n",
            "\u001b[38;5;2m✔ Linking successful\u001b[0m\n",
            "/usr/local/lib/python3.7/dist-packages/en_core_web_sm -->\n",
            "/usr/local/lib/python3.7/dist-packages/spacy/data/en\n",
            "You can now load the model via spacy.load('en')\n"
          ]
        }
      ]
    },
    {
      "cell_type": "code",
      "source": [
        "# Word tokenization\n",
        "from spacy.lang.en import English\n",
        "\n",
        "# Load English tokenizer, tagger, parser, NER and word vectors\n",
        "nlp = English()\n",
        "\n",
        "text = \"\"\"When learning data science, you shouldn't get discouraged!\n",
        "Challenges and setbacks aren't failures, they're just part of the journey. You've got this!\"\"\"\n",
        "\n",
        "#  \"nlp\" Object is used to create documents with linguistic annotations.\n",
        "my_doc = nlp(text)\n",
        "\n",
        "# Create list of word tokens\n",
        "token_list = [i.text for i in my_doc]\n",
        "print(token_list)"
      ],
      "metadata": {
        "colab": {
          "base_uri": "https://localhost:8080/"
        },
        "id": "WQQCq4aH72QX",
        "outputId": "d7c431aa-2eff-448a-fbd7-2a78918aefcb"
      },
      "execution_count": null,
      "outputs": [
        {
          "output_type": "stream",
          "name": "stdout",
          "text": [
            "['When', 'learning', 'data', 'science', ',', 'you', 'should', \"n't\", 'get', 'discouraged', '!', '\\n', 'Challenges', 'and', 'setbacks', 'are', \"n't\", 'failures', ',', 'they', \"'re\", 'just', 'part', 'of', 'the', 'journey', '.', 'You', \"'ve\", 'got', 'this', '!']\n"
          ]
        }
      ]
    },
    {
      "cell_type": "code",
      "source": [
        "from spacy.lang.en.stop_words import STOP_WORDS\n",
        "from spacy.lang.en import English\n",
        "\n",
        "\n",
        "nlp = English()\n",
        "my_doc = nlp(text)\n",
        "token_list = [i.text for i in my_doc]\n",
        "filtered_sentence = []\n",
        "for word in token_list:\n",
        "    lexeme = nlp.vocab[word]\n",
        "    if lexeme.is_stop == False:\n",
        "        filtered_sentence.append(word) \n",
        "print(token_list)\n",
        "print(filtered_sentence) "
      ],
      "metadata": {
        "colab": {
          "base_uri": "https://localhost:8080/"
        },
        "id": "UbAQ8OOlZ4NM",
        "outputId": "4c7e8aa1-7a60-40f1-a52b-d64ac153f405"
      },
      "execution_count": null,
      "outputs": [
        {
          "output_type": "stream",
          "name": "stdout",
          "text": [
            "['When', 'learning', 'data', 'science', ',', 'you', 'should', \"n't\", 'get', 'discouraged', '!', '\\n', 'Challenges', 'and', 'setbacks', 'are', \"n't\", 'failures', ',', 'they', \"'re\", 'just', 'part', 'of', 'the', 'journey', '.', 'You', \"'ve\", 'got', 'this', '!']\n",
            "['learning', 'data', 'science', ',', 'discouraged', '!', '\\n', 'Challenges', 'setbacks', 'failures', ',', 'journey', '.', 'got', '!']\n"
          ]
        }
      ]
    },
    {
      "cell_type": "code",
      "source": [
        "import spacy\n",
        "import pandas as pd\n",
        "nlp = spacy.load(\"en_core_web_sm\")\n",
        "doc = nlp(\"Apple is looking obama at buying U.K. startup for $1 billion\")\n",
        "\n",
        "\n",
        "c = []\n",
        "for ent in doc.ents:\n",
        "    c.append([ent.text, ent.start_char, ent.end_char, ent.label_])\n",
        "a = pd.DataFrame(c,columns = ['text','Fchar','Echar','Label'])\n",
        "a"
      ],
      "metadata": {
        "colab": {
          "base_uri": "https://localhost:8080/",
          "height": 143
        },
        "id": "OCSCcSJbc8EA",
        "outputId": "3091bea3-e409-4e7e-f99c-f703dfebc8f1"
      },
      "execution_count": null,
      "outputs": [
        {
          "output_type": "execute_result",
          "data": {
            "text/plain": [
              "         text  Fchar  Echar  Label\n",
              "0       Apple      0      5    ORG\n",
              "1        U.K.     33     37    GPE\n",
              "2  $1 billion     50     60  MONEY"
            ],
            "text/html": [
              "\n",
              "  <div id=\"df-0e3aca6a-964b-4d97-bd2c-ca7abd3cb04e\">\n",
              "    <div class=\"colab-df-container\">\n",
              "      <div>\n",
              "<style scoped>\n",
              "    .dataframe tbody tr th:only-of-type {\n",
              "        vertical-align: middle;\n",
              "    }\n",
              "\n",
              "    .dataframe tbody tr th {\n",
              "        vertical-align: top;\n",
              "    }\n",
              "\n",
              "    .dataframe thead th {\n",
              "        text-align: right;\n",
              "    }\n",
              "</style>\n",
              "<table border=\"1\" class=\"dataframe\">\n",
              "  <thead>\n",
              "    <tr style=\"text-align: right;\">\n",
              "      <th></th>\n",
              "      <th>text</th>\n",
              "      <th>Fchar</th>\n",
              "      <th>Echar</th>\n",
              "      <th>Label</th>\n",
              "    </tr>\n",
              "  </thead>\n",
              "  <tbody>\n",
              "    <tr>\n",
              "      <th>0</th>\n",
              "      <td>Apple</td>\n",
              "      <td>0</td>\n",
              "      <td>5</td>\n",
              "      <td>ORG</td>\n",
              "    </tr>\n",
              "    <tr>\n",
              "      <th>1</th>\n",
              "      <td>U.K.</td>\n",
              "      <td>33</td>\n",
              "      <td>37</td>\n",
              "      <td>GPE</td>\n",
              "    </tr>\n",
              "    <tr>\n",
              "      <th>2</th>\n",
              "      <td>$1 billion</td>\n",
              "      <td>50</td>\n",
              "      <td>60</td>\n",
              "      <td>MONEY</td>\n",
              "    </tr>\n",
              "  </tbody>\n",
              "</table>\n",
              "</div>\n",
              "      <button class=\"colab-df-convert\" onclick=\"convertToInteractive('df-0e3aca6a-964b-4d97-bd2c-ca7abd3cb04e')\"\n",
              "              title=\"Convert this dataframe to an interactive table.\"\n",
              "              style=\"display:none;\">\n",
              "        \n",
              "  <svg xmlns=\"http://www.w3.org/2000/svg\" height=\"24px\"viewBox=\"0 0 24 24\"\n",
              "       width=\"24px\">\n",
              "    <path d=\"M0 0h24v24H0V0z\" fill=\"none\"/>\n",
              "    <path d=\"M18.56 5.44l.94 2.06.94-2.06 2.06-.94-2.06-.94-.94-2.06-.94 2.06-2.06.94zm-11 1L8.5 8.5l.94-2.06 2.06-.94-2.06-.94L8.5 2.5l-.94 2.06-2.06.94zm10 10l.94 2.06.94-2.06 2.06-.94-2.06-.94-.94-2.06-.94 2.06-2.06.94z\"/><path d=\"M17.41 7.96l-1.37-1.37c-.4-.4-.92-.59-1.43-.59-.52 0-1.04.2-1.43.59L10.3 9.45l-7.72 7.72c-.78.78-.78 2.05 0 2.83L4 21.41c.39.39.9.59 1.41.59.51 0 1.02-.2 1.41-.59l7.78-7.78 2.81-2.81c.8-.78.8-2.07 0-2.86zM5.41 20L4 18.59l7.72-7.72 1.47 1.35L5.41 20z\"/>\n",
              "  </svg>\n",
              "      </button>\n",
              "      \n",
              "  <style>\n",
              "    .colab-df-container {\n",
              "      display:flex;\n",
              "      flex-wrap:wrap;\n",
              "      gap: 12px;\n",
              "    }\n",
              "\n",
              "    .colab-df-convert {\n",
              "      background-color: #E8F0FE;\n",
              "      border: none;\n",
              "      border-radius: 50%;\n",
              "      cursor: pointer;\n",
              "      display: none;\n",
              "      fill: #1967D2;\n",
              "      height: 32px;\n",
              "      padding: 0 0 0 0;\n",
              "      width: 32px;\n",
              "    }\n",
              "\n",
              "    .colab-df-convert:hover {\n",
              "      background-color: #E2EBFA;\n",
              "      box-shadow: 0px 1px 2px rgba(60, 64, 67, 0.3), 0px 1px 3px 1px rgba(60, 64, 67, 0.15);\n",
              "      fill: #174EA6;\n",
              "    }\n",
              "\n",
              "    [theme=dark] .colab-df-convert {\n",
              "      background-color: #3B4455;\n",
              "      fill: #D2E3FC;\n",
              "    }\n",
              "\n",
              "    [theme=dark] .colab-df-convert:hover {\n",
              "      background-color: #434B5C;\n",
              "      box-shadow: 0px 1px 3px 1px rgba(0, 0, 0, 0.15);\n",
              "      filter: drop-shadow(0px 1px 2px rgba(0, 0, 0, 0.3));\n",
              "      fill: #FFFFFF;\n",
              "    }\n",
              "  </style>\n",
              "\n",
              "      <script>\n",
              "        const buttonEl =\n",
              "          document.querySelector('#df-0e3aca6a-964b-4d97-bd2c-ca7abd3cb04e button.colab-df-convert');\n",
              "        buttonEl.style.display =\n",
              "          google.colab.kernel.accessAllowed ? 'block' : 'none';\n",
              "\n",
              "        async function convertToInteractive(key) {\n",
              "          const element = document.querySelector('#df-0e3aca6a-964b-4d97-bd2c-ca7abd3cb04e');\n",
              "          const dataTable =\n",
              "            await google.colab.kernel.invokeFunction('convertToInteractive',\n",
              "                                                     [key], {});\n",
              "          if (!dataTable) return;\n",
              "\n",
              "          const docLinkHtml = 'Like what you see? Visit the ' +\n",
              "            '<a target=\"_blank\" href=https://colab.research.google.com/notebooks/data_table.ipynb>data table notebook</a>'\n",
              "            + ' to learn more about interactive tables.';\n",
              "          element.innerHTML = '';\n",
              "          dataTable['output_type'] = 'display_data';\n",
              "          await google.colab.output.renderOutput(dataTable, element);\n",
              "          const docLink = document.createElement('div');\n",
              "          docLink.innerHTML = docLinkHtml;\n",
              "          element.appendChild(docLink);\n",
              "        }\n",
              "      </script>\n",
              "    </div>\n",
              "  </div>\n",
              "  "
            ]
          },
          "metadata": {},
          "execution_count": 43
        }
      ]
    }
  ]
}