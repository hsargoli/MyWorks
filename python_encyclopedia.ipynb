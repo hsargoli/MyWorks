{
  "nbformat": 4,
  "nbformat_minor": 0,
  "metadata": {
    "colab": {
      "name": "python_encyclopedia.ipynb",
      "provenance": [],
      "collapsed_sections": [],
      "mount_file_id": "1I5D2yYHEnRST4Q7Y-zY44HopnjCg4n__",
      "authorship_tag": "ABX9TyMn/1qBUBKbWDZwbRWKZ7Ht",
      "include_colab_link": true
    },
    "kernelspec": {
      "name": "python3",
      "display_name": "Python 3"
    },
    "language_info": {
      "name": "python"
    }
  },
  "cells": [
    {
      "cell_type": "markdown",
      "metadata": {
        "id": "view-in-github",
        "colab_type": "text"
      },
      "source": [
        "<a href=\"https://colab.research.google.com/github/hsargoli/MyWorks/blob/main/python_encyclopedia.ipynb\" target=\"_parent\"><img src=\"https://colab.research.google.com/assets/colab-badge.svg\" alt=\"Open In Colab\"/></a>"
      ]
    },
    {
      "cell_type": "code",
      "source": [
        ""
      ],
      "metadata": {
        "id": "UMnoREVAfaaT"
      },
      "execution_count": null,
      "outputs": []
    },
    {
      "cell_type": "code",
      "source": [
        "d = OrderedDict()\n",
        "d['foo'] = 3\n",
        "d['bar'] = 2\n",
        "d['spam'] = 5\n",
        "d['grok'] = 4\n",
        "for i in d:\n",
        "  print(i)\n",
        "d"
      ],
      "metadata": {
        "colab": {
          "base_uri": "https://localhost:8080/"
        },
        "id": "HyjYvRKVcvFV",
        "outputId": "4df37bbe-7474-47b5-9b2c-8c5b91cd4f9b"
      },
      "execution_count": null,
      "outputs": [
        {
          "output_type": "stream",
          "name": "stdout",
          "text": [
            "foo\n",
            "bar\n",
            "spam\n",
            "grok\n"
          ]
        },
        {
          "output_type": "execute_result",
          "data": {
            "text/plain": [
              "OrderedDict([('foo', 3), ('bar', 2), ('spam', 5), ('grok', 4)])"
            ]
          },
          "metadata": {},
          "execution_count": 8
        }
      ]
    },
    {
      "cell_type": "code",
      "source": [
        "from collections import *\n",
        "d = defaultdict(list)\n",
        "for key, value in d:\n",
        " d[key].append(value)"
      ],
      "metadata": {
        "id": "isChfY6C69L1"
      },
      "execution_count": null,
      "outputs": []
    },
    {
      "cell_type": "code",
      "source": [
        "# Priority Queue\n",
        "import heapq\n",
        "class PriorityQueue:\n",
        " def __init__(self):\n",
        "  self._queue = []\n",
        "  self._index = 0\n",
        " def push(self, item, priority):\n",
        "  heapq.heappush(self._queue, (-priority, self._index, item))\n",
        "  self._index += 1\n",
        " def pop(self):\n",
        "   return heapq.heappop(self._queue)[-1]\n",
        "\n",
        "class Item:\n",
        "  def __init__(self, name):\n",
        "    self.name = name\n",
        "  def __repr__(self):\n",
        "    return 'Item({!r})'.format(self.name)\n",
        "q = PriorityQueue()\n",
        "q.push(Item('foo'), 1)\n",
        "q.push(Item('spam'), 4)\n",
        "print(q)"
      ],
      "metadata": {
        "id": "x38QxZTE5UyA",
        "colab": {
          "base_uri": "https://localhost:8080/"
        },
        "outputId": "61687732-4f33-414e-957a-9acef674b122"
      },
      "execution_count": null,
      "outputs": [
        {
          "output_type": "stream",
          "name": "stdout",
          "text": [
            "<__main__.PriorityQueue object at 0x7ff9aed6ced0>\n"
          ]
        }
      ]
    },
    {
      "cell_type": "code",
      "source": [
        "# Heap queue (or heapq) in Python\n",
        "# Heap queue is a special tree structure in which each parent node is less than or equal to its child node.\n",
        "# https://www.tutorialspoint.com/heap-queue-or-heapq-in-python\n",
        "import heapq\n",
        "H = [21,1,45,78,3,5]\n",
        "# Covert to a heap\n",
        "heapq.heapify(H)\n",
        "print(H)\n",
        "# Add element\n",
        "heapq.heappush(H,6)\n",
        "heapq.heappop(H)\n",
        "print(H)\n",
        "\n",
        "\n",
        "\n",
        "nums = [1, 8, 2, 23, 7, -4, 18, 23, 42, 37, 2]\n",
        "list_obj = list(nums)\n",
        "heapq.heapify(list_obj)\n",
        "list_obj"
      ],
      "metadata": {
        "colab": {
          "base_uri": "https://localhost:8080/"
        },
        "id": "V9ylXVeGuIVT",
        "outputId": "b03be2f6-6311-4424-ccd7-7ad342b060e2"
      },
      "execution_count": null,
      "outputs": [
        {
          "output_type": "stream",
          "name": "stdout",
          "text": [
            "[1, 3, 5, 78, 21, 45]\n",
            "[3, 6, 5, 78, 21, 45]\n"
          ]
        },
        {
          "output_type": "execute_result",
          "data": {
            "text/plain": [
              "[-4, 2, 1, 23, 7, 2, 18, 23, 42, 37, 8]"
            ]
          },
          "metadata": {},
          "execution_count": 42
        }
      ]
    },
    {
      "cell_type": "code",
      "source": [
        "# -----------\n",
        "# work with files\n",
        "# -----------\n",
        "\n",
        "import os \n",
        "print('objects in path:',os.listdir('/content/drive/MyDrive/images'))\n",
        "\n",
        "print('current directory:', os.getcwd())\n",
        "\n",
        "# change defualt path: os.chdir('path')\n",
        "\\\n",
        "path = '/content/drive/MyDrive/dataset/car.c45-names'\n",
        "with open(path,'r', encoding = 'utf-8') as f:\n",
        "    z = f.read()\n",
        "    print(10 * ' - - ','\\n', z)"
      ],
      "metadata": {
        "colab": {
          "base_uri": "https://localhost:8080/"
        },
        "id": "zkS8n9NVfb4K",
        "outputId": "2a9afe18-8c9e-4472-b90e-0793e3a957b5"
      },
      "execution_count": 17,
      "outputs": [
        {
          "output_type": "stream",
          "name": "stdout",
          "text": [
            "objects in path: ['IMG_20180124_150500-COLLAGE.jpg', 'AK.jpg', 'IMG_20210915_143504.jpg', 'test.jpg', '1.jpg', 'test1.png', 'vsi.jpg', 'colorful-umbrella-1176220.jpg', 'harry.jpg', 'billboard.jpg', 'IMG_20200120_221446.jpg', 'meRush.jpg', 'a-leave.jpg', 'vsi3.jpg', 'alfa-romeo-146-1255623.jpg', 'alfa-romeo-giulietta-spider-1558084.jpg', 'vsi4.jpg', 'forF1.jpg', 'forF2.jpg', 'vsiextend.jpg', 'vsi2.jpg', 'tes.jpg']\n",
            "current directory: /content\n",
            " - -  - -  - -  - -  - -  - -  - -  - -  - -  - -  \n",
            " | names file (C4.5 format) for car evaluation domain\n",
            "\n",
            "| class values\n",
            "\n",
            "unacc, acc, good, vgood\n",
            "\n",
            "| attributes\n",
            "\n",
            "buying:   vhigh, high, med, low.\n",
            "maint:    vhigh, high, med, low.\n",
            "doors:    2, 3, 4, 5more.\n",
            "persons:  2, 4, more.\n",
            "lug_boot: small, med, big.\n",
            "safety:   low, med, high.\n",
            "\n"
          ]
        }
      ]
    },
    {
      "cell_type": "markdown",
      "source": [
        "Using pathlib.Path() or os.scandir() instead of os.listdir() is the preferred way of getting a directory listing, especially when you’re working with code that needs the file type and file attribute information.\n",
        "\n",
        "[link text](https://realpython.com/working-with-files-in-python/)"
      ],
      "metadata": {
        "id": "JHizBWskrLow"
      }
    },
    {
      "cell_type": "code",
      "source": [
        "#  os.scandir() was introduced in Python 3.5 and is documented in PEP 471.\n",
        "# os.scandir() returns an iterator as opposed to a list when called:\n",
        "\n",
        "path2 = '/content/drive/MyDrive/dataset'\n",
        "entries = os.scandir(path2)\n",
        "with os.scandir(path2) as f:\n",
        "    for i in f:\n",
        "        print(i.name)\n",
        "\n",
        "\n",
        "from pathlib import Path\n",
        "\n",
        "entries = Path(path2)\n",
        "for entry in entries.iterdir():\n",
        "    print(' - ',entry.name)\n"
      ],
      "metadata": {
        "colab": {
          "base_uri": "https://localhost:8080/"
        },
        "id": "M5QTSSINj3B2",
        "outputId": "17ebb461-cb2b-4214-988c-9ace4ba8d664"
      },
      "execution_count": 24,
      "outputs": [
        {
          "output_type": "stream",
          "name": "stdout",
          "text": [
            "car.c45-names\n",
            "car.data\n",
            "car.names\n",
            " -  car.c45-names\n",
            " -  car.data\n",
            " -  car.names\n"
          ]
        }
      ]
    },
    {
      "cell_type": "code",
      "source": [
        "# ##############################################################################################\n",
        "# Deque (Doubly Ended Queue) in Python is implemented using the module “collections“.\n",
        "# Deque is preferred over a list in the cases where we need quicker append and pop \n",
        "# operations from both the ends of the container, as deque provides an O(1) time complexity\n",
        "# for append and pop operations as compared to list which provides O(n) time complexity.\n",
        "# https://www.geeksforgeeks.org/deque-in-python/\n",
        "# ##############################################################################################\n",
        "from collections import deque\n",
        "\n",
        "q = deque(maxlen=3)\n",
        "q.append(1)\n",
        "q.append(2)\n",
        "q.append(3)\n",
        "q.append(10)\n",
        "q.appendleft(4)\n",
        "q.pop()\n",
        "q.popleft()\n",
        "\n",
        "\n",
        "print(q)\n",
        "\n",
        "\n",
        "def search(lines, pattern, history=5):\n",
        " previous_lines = deque(maxlen=history)\n",
        " for line in lines:\n",
        "  if pattern in line:\n",
        "    yield line, previous_lines\n",
        "  previous_lines.append(line)\n",
        "\n",
        "# Example use on a file\n",
        "if __name__ == '__main__':\n",
        " with open('/content/drive/MyDrive/naive.txt') as f:\n",
        "  for line, prevlines in search(f, 'go', 5):\n",
        "    for pline in prevlines:\n",
        "      print(pline, end='')\n",
        "      print(line)"
      ],
      "metadata": {
        "colab": {
          "base_uri": "https://localhost:8080/"
        },
        "id": "BjRPOSNghyiH",
        "outputId": "e3c05738-c7ea-4c83-8728-588dad22b555"
      },
      "execution_count": null,
      "outputs": [
        {
          "output_type": "stream",
          "name": "stdout",
          "text": [
            "deque([2], maxlen=3)\n",
            "Weather Car Class\n",
            "sunny working go-out\n",
            "\n",
            "Weather Car Class\n",
            "rainy broken go-out\n",
            "\n",
            "sunny working go-out\n",
            "rainy broken go-out\n",
            "\n",
            "Weather Car Class\n",
            "sunny working go-out\n",
            "\n",
            "sunny working go-out\n",
            "sunny working go-out\n",
            "\n",
            "rainy broken go-out\n",
            "sunny working go-out\n",
            "\n",
            "Weather Car Class\n",
            "sunny working go-out\n",
            "\n",
            "sunny working go-out\n",
            "sunny working go-out\n",
            "\n",
            "rainy broken go-out\n",
            "sunny working go-out\n",
            "\n",
            "sunny working go-out\n",
            "sunny working go-out\n",
            "\n",
            "Weather Car Class\n",
            "sunny working go-out\n",
            "\n",
            "sunny working go-out\n",
            "sunny working go-out\n",
            "\n",
            "rainy broken go-out\n",
            "sunny working go-out\n",
            "\n",
            "sunny working go-out\n",
            "sunny working go-out\n",
            "\n",
            "sunny working go-out\n",
            "sunny working go-out\n",
            "\n"
          ]
        }
      ]
    },
    {
      "cell_type": "code",
      "source": [
        "# UNPACKING \n",
        "a, b = (10,100)\n",
        "c, d, e, f ='relu'\n",
        "\n",
        "data = [ 'ACME', 50, 91.1, (2012, 12, 21) ]\n",
        "_, shares, price, _ = data\n",
        "first, *middle, last = data\n",
        "\n",
        "record = ('ACME', 50, 123.45, (12, 18, 2012))\n",
        "name, *_, (*_, year) = record\n",
        "\n",
        "print(a,b,c, d, e, f, sep = ' | ')\n",
        "print(shares, price, *middle, year, sep = ' | ')"
      ],
      "metadata": {
        "colab": {
          "base_uri": "https://localhost:8080/"
        },
        "id": "5aN_IerXPSul",
        "outputId": "1f3bbb51-19dc-4a97-cfa4-6ee72e98cc92"
      },
      "execution_count": null,
      "outputs": [
        {
          "output_type": "stream",
          "name": "stdout",
          "text": [
            "10 | 100 | r | e | l | u\n",
            "50 | 91.1 | 50 | 91.1 | 2012\n"
          ]
        }
      ]
    },
    {
      "cell_type": "code",
      "source": [
        "# -----------------------------------\n",
        "# sum of 1/2 + 2/3 + 3/4 +....+ n/n+1\n",
        "n = 1\n",
        "sum = 0 \n",
        "for i in range(1,n+1):\n",
        "  a = float(i/(i+1))\n",
        "  sum += a\n",
        "print(sum)\n",
        "\n",
        "# -----------------------------------\n",
        "# Split string\n",
        "a = 'h -hhh'\n",
        "b = a.split('-')\n",
        "line = 'nobody:*:-2:-2:Unprivileged User:/var/empty:/usr/bin/false'\n",
        "uname, *fields, homedir, sh = line.split(':')\n",
        "\n",
        "print(b, uname, *fields, homedir, sh, sep=' | ')"
      ],
      "metadata": {
        "colab": {
          "base_uri": "https://localhost:8080/"
        },
        "id": "7GQxT8kqIGYI",
        "outputId": "2131b87b-2e97-4274-9d53-e342e7318acc"
      },
      "execution_count": null,
      "outputs": [
        {
          "output_type": "stream",
          "name": "stdout",
          "text": [
            "0.5\n",
            "['h ', 'hhh'] | nobody | * | -2 | -2 | Unprivileged User | /var/empty | /usr/bin/false\n"
          ]
        }
      ]
    },
    {
      "cell_type": "code",
      "source": [
        "from pathlib import Path\n",
        "Path.home()\n",
        "Path.cwd()"
      ],
      "metadata": {
        "colab": {
          "base_uri": "https://localhost:8080/"
        },
        "id": "YJb3c9sFDxBr",
        "outputId": "8fdd91a5-a970-417f-f9a6-d45e19721d50"
      },
      "execution_count": null,
      "outputs": [
        {
          "output_type": "execute_result",
          "data": {
            "text/plain": [
              "PosixPath('/content')"
            ]
          },
          "metadata": {},
          "execution_count": 4
        }
      ]
    },
    {
      "cell_type": "code",
      "source": [
        "# how python excute machin code\n",
        "import dis\n",
        "def adds(a,b):\n",
        "    x = a+b\n",
        "    return x\n",
        "dis.dis(adds)\n",
        "print(list(adds.__code__.co_code))"
      ],
      "metadata": {
        "colab": {
          "base_uri": "https://localhost:8080/"
        },
        "id": "D6aYQQp7wzfv",
        "outputId": "78f118ac-2573-4606-be81-351cf47b4eb9"
      },
      "execution_count": null,
      "outputs": [
        {
          "output_type": "stream",
          "name": "stdout",
          "text": [
            "  3           0 LOAD_FAST                0 (a)\n",
            "              2 LOAD_FAST                1 (b)\n",
            "              4 BINARY_ADD\n",
            "              6 STORE_FAST               2 (x)\n",
            "\n",
            "  4           8 LOAD_FAST                2 (x)\n",
            "             10 RETURN_VALUE\n",
            "[124, 0, 124, 1, 23, 0, 125, 2, 124, 2, 83, 0]\n"
          ]
        }
      ]
    },
    {
      "cell_type": "code",
      "source": [
        "square = lambda x: x*x\n",
        "a = square(5)\n",
        "import math\n",
        "# The ceiling of a given number is the nearest integer greater than or equal to that number\n",
        "gird_kardan = math.ceil(2.678)\n",
        "# math.copysign(x, y)Return x with the sign of y\n",
        "ghadr_motlagh = math.fabs(-2.45)"
      ],
      "metadata": {
        "id": "JViA1hUxAqph"
      },
      "execution_count": null,
      "outputs": []
    },
    {
      "cell_type": "code",
      "source": [
        "# - - - - - - - - - -\n",
        "# size of memory usage \n",
        "# - - - - - - - - - \n",
        "import sys \n",
        "sizeof=sys.getsizeof\n",
        "sf=sys.getsizeof\n",
        "print('---\\tmemory usage\\t---')\n",
        "print('int {} \\t float {}\\tempty string {}'.format(sizeof(5),sizeof(5.3),sizeof('')))\n",
        "a=[]\n",
        "print('empty list {}\\t list {}'.format(sizeof(a),sizeof(['','',2,2.4])))\n",
        "print('empty set {} \\t {}'.format(sf(set()),sf(set((5,5,63,2,1,'',5,3,5.4,'')))))\n",
        "b=(5,4,6,5,5,45,'','')\n",
        "print('tuple',sf(tuple()),sf(b))\n",
        "print('dict',sf({'a':52,'b':12}),sf({}))"
      ],
      "metadata": {
        "colab": {
          "base_uri": "https://localhost:8080/"
        },
        "id": "LnSZsIrUtXgv",
        "outputId": "b4a3a6e8-21f9-4796-92dc-53aa08d592dc"
      },
      "execution_count": null,
      "outputs": [
        {
          "output_type": "stream",
          "name": "stdout",
          "text": [
            "---\tmemory usage\t---\n",
            "int 28 \t float 24\tempty string 53\n",
            "empty list 72\t list 104\n",
            "empty set 232 \t 744\n",
            "tuple 56 120\n",
            "dict 248 248\n"
          ]
        }
      ]
    },
    {
      "cell_type": "code",
      "source": [
        "# - - - - - - - - - -\n",
        "# dunder Method\n",
        "# - - - - - - - - - \n",
        "from math import hypot\n",
        "class Vector:\n",
        "    loc='this is public'\n",
        "    def __init__(self, x=0, y=0):\n",
        "        self.x = x\n",
        "        self.y = y\n",
        "    def __repr__(self):\n",
        "         return 'Vector(%r, %r)' % (self.x, self.y)\n",
        "    def __abs__(self):\n",
        "         return hypot(self.x, self.y)\n",
        "    def __bool__(self):\n",
        "         return bool(abs(self))\n",
        "    def __add__(self, other):\n",
        "         x = self.x + other.x\n",
        "         y = self.y + other.y\n",
        "         return Vector(x, y)\n",
        "    def __mul__(self, scalar):\n",
        "         return Vector(self.x * scalar, self.y * scalar)"
      ],
      "metadata": {
        "id": "hGj6yz6XuTA4"
      },
      "execution_count": null,
      "outputs": []
    },
    {
      "cell_type": "code",
      "source": [
        "# - - - - - - - - - -\n",
        "# decorator\n",
        "# - - - - - - - - - \n",
        "def my_decorator(func):\n",
        "    def wrapper():\n",
        "        print(\"Something is happening before the function is called.\")\n",
        "        func()\n",
        "        print(\"Something is happening after the function is called.\")\n",
        "    return wrapper\n",
        "\n",
        "def say_whee():\n",
        "    print('in middle of function')\n",
        "    return 1\n",
        "\n",
        "a = my_decorator(say_whee)\n",
        "a()"
      ],
      "metadata": {
        "colab": {
          "base_uri": "https://localhost:8080/"
        },
        "id": "oHdhm0V0t6Xw",
        "outputId": "d32d0665-e0fb-4674-8af7-9f11bd77916e"
      },
      "execution_count": null,
      "outputs": [
        {
          "output_type": "stream",
          "name": "stdout",
          "text": [
            "Something is happening before the function is called.\n",
            "in middle of function\n",
            "Something is happening after the function is called.\n"
          ]
        }
      ]
    },
    {
      "cell_type": "code",
      "source": [
        "# time it \n",
        "\n"
      ],
      "metadata": {
        "id": "fWvU4g1WsoXv"
      },
      "execution_count": null,
      "outputs": []
    },
    {
      "cell_type": "code",
      "source": [
        "# cProfile / pylint / black "
      ],
      "metadata": {
        "id": "ne2w9ERnxFf_"
      },
      "execution_count": null,
      "outputs": []
    },
    {
      "cell_type": "code",
      "source": [
        "# Private Attributes and Private Methods\n",
        "# OOP INHERIT"
      ],
      "metadata": {
        "id": "Nc8ceTNTxd2E"
      },
      "execution_count": null,
      "outputs": []
    },
    {
      "cell_type": "code",
      "source": [
        "# args kwargs\n",
        "# ;;;;;;;;;;;;;;;;;;;;;;;;;;;;;;;;;;;;;;;;;;;;;;;;;;;;;;;;;;;;;;;;;;;;;\n",
        "def concatenate(**words):\n",
        "    result = \"\"\n",
        "    for arg in words.values():\n",
        "        result += arg\n",
        "    return result\n",
        "\n",
        "print(concatenate(a=\" \", b=\"Python\", c=\"Is\", d=\"Great\", e=\"!\"))\n",
        "\n",
        "# ;;;;;;;;;;;;;;;;;;;;;;;;;;;;;;;;;;;;;;;;;;;;;;;;;;;;;;;;;;;;;;;;;;;;;\n",
        "def my_sum(*integers):\n",
        "    result = 0\n",
        "    for x in integers:\n",
        "        result += x\n",
        "    return result\n",
        "\n",
        "print(my_sum(1, 2, 3))\n",
        "\n",
        "\n",
        "# ;;;;;;;;;;;;;;;;;;;;;;;;;;;;;;;;;;;;;;;;;;;;;;;;;;;;;;;;;;;;;;;;;;;;;\n",
        "my_list = [1, 2, 3, 4, 5, 6]\n",
        "a, *b, c = my_list\n",
        "\n",
        "print(a)\n",
        "print(b)\n",
        "print(c)\n",
        "\n",
        "# ;;;;;;;;;;;;;;;;;;;;;;;;;;;;;;;;;;;;;;;;;;;;;;;;;;;;;;;;;;;;;;;;;;;;;\n",
        "# merging_lists.py\n",
        "my_first_list = [1, 2, 3]\n",
        "my_second_list = [4, 5, 6]\n",
        "my_merged_list = [*my_first_list, *my_second_list]\n",
        "\n",
        "print(my_merged_list)\n",
        "\n",
        "# merging_dicts.py\n",
        "my_first_dict = {\"A\": 1, \"B\": 2}\n",
        "my_second_dict = {\"C\": 3, \"D\": 4}\n",
        "my_merged_dict = {**my_first_dict, **my_second_dict}\n",
        "\n",
        "print(my_merged_dict)\n",
        "# ;;;;;;;;;;;;;;;;;;;;;;;;;;;;;;;;;;;;;;;;;;;;;;;;;;;;;;;;;;;;;;;;;;;;;\n",
        "\n",
        "# string_to_list.py\n",
        "a = [*\"RealPython\"]\n",
        "print(a)\n",
        "\n",
        "# mysterious_statement.py\n",
        "*a,b = \"RealPython\"\n",
        "print(a,b)\n",
        "# ;;;;;;;;;;;;;;;;;;;;;;;;;;;;;;;;;;;;;;;;;;;;;;;;;;;;;;;;;;;;;;;;;;;;;\n",
        "\n",
        "\n",
        "# ;;;;;;;;;;;;;;;;;;;;;;;;;;;;;;;;;;;;;;;;;;;;;;;;;;;;;;;;;;;;;;;;;;;;;\n",
        "\n",
        "\n",
        "# ;;;;;;;;;;;;;;;;;;;;;;;;;;;;;;;;;;;;;;;;;;;;;;;;;;;;;;;;;;;;;;;;;;;;;\n"
      ],
      "metadata": {
        "colab": {
          "base_uri": "https://localhost:8080/"
        },
        "id": "h_TcW4fszaMM",
        "outputId": "214ee34c-0a60-4de5-f3b7-abf53b38897c"
      },
      "execution_count": null,
      "outputs": [
        {
          "output_type": "stream",
          "name": "stdout",
          "text": [
            "RealPythonIsGreat!\n",
            "6\n",
            "1\n",
            "[2, 3, 4, 5]\n",
            "6\n",
            "[1, 2, 3, 4, 5, 6]\n",
            "{'A': 1, 'B': 2, 'C': 3, 'D': 4}\n",
            "['R', 'e', 'a', 'l', 'P', 'y', 't', 'h', 'o', 'n']\n",
            "['R', 'e', 'a', 'l', 'P', 'y', 't', 'h', 'o'] n\n"
          ]
        }
      ]
    },
    {
      "cell_type": "code",
      "source": [
        "\n",
        "class cross:\n",
        "  def __init__(self, name):\n",
        "    self.name = name\n",
        "  \n",
        "  def do_something(self):\n",
        "    return self.name * 2\n",
        "  \n",
        "  def return_list(self) -> list:  # -> type hint for readable codes\n",
        "    a = [i for i in self.name]\n",
        "    return a \n",
        "\n",
        "instantation = cross('bill ')\n",
        "print(instantation.do_something())\n",
        "print(instantation.return_list())\n"
      ],
      "metadata": {
        "colab": {
          "base_uri": "https://localhost:8080/"
        },
        "id": "J9cs_7GJwgcR",
        "outputId": "81591d80-a606-4a7c-c2a1-9f08f9556eb8"
      },
      "execution_count": null,
      "outputs": [
        {
          "output_type": "stream",
          "name": "stdout",
          "text": [
            "bill bill \n",
            "['b', 'i', 'l', 'l', ' ']\n"
          ]
        }
      ]
    },
    {
      "cell_type": "code",
      "source": [
        "# function and class \n",
        "\n",
        "def funcA(param1, param2):\n",
        "  a = param1 % 4\n",
        "  b = param2 % 3 \n",
        "  return a*b\n",
        "funcA(11,14) # att1 att2\n",
        "\n",
        "# Example \n",
        "# it is a game \n",
        "# has very bug \n",
        "# try to complete it with handling exception\n",
        "import random\n",
        "def hads(num_digit,max_guess):\n",
        "    print(f'\\n predict a number contain {num_digit} DIGITS, max number of guess{max_guess}')\n",
        "    gues = 0\n",
        "    num=[]\n",
        "    for i in range(num_digit):\n",
        "        a=random.randint(0,9)\n",
        "        num.append(a)\n",
        "    while gues < max_guess:\n",
        "        print('Guess {} '.format(gues+1))\n",
        "        c=list(input('please insert your guess: '))\n",
        "        c = [int(i) for i in c]\n",
        "        hads_asl=list(zip(c,num))\n",
        "        for i in c:\n",
        "            for j in num:\n",
        "                if i == j:\n",
        "                    if c.index(i) == num.index(j):\n",
        "                        print('one correct, place and number\\n')\n",
        "                    elif c.index(i) != num.index(j):\n",
        "                        print('one correct, but not place\\n ')\n",
        "        if c == num :\n",
        "            print('oh my god you predict it')\n",
        "            break\n",
        "            \n",
        "        gues += 1\n",
        "if __name__ == \"__main__\":\n",
        "    hads(2,5)"
      ],
      "metadata": {
        "colab": {
          "base_uri": "https://localhost:8080/"
        },
        "id": "XFt6rvSf-32g",
        "outputId": "e2617a29-9cb4-42cf-aabf-f7643480821e"
      },
      "execution_count": null,
      "outputs": [
        {
          "output_type": "stream",
          "name": "stdout",
          "text": [
            "bill bill \n",
            "['b', 'i', 'l', 'l', ' ']\n",
            "\n",
            " predict a number contain 2 DIGITS, max number of guess5\n",
            "Guess 1 \n",
            "please insert your guess: 12\n",
            "one correct, place and number\n",
            "\n",
            "Guess 2 \n",
            "please insert your guess: 34\n",
            "Guess 3 \n",
            "please insert your guess: 26\n",
            "one correct, but not place\n",
            " \n",
            "Guess 4 \n",
            "please insert your guess: 72\n",
            "one correct, place and number\n",
            "\n",
            "one correct, place and number\n",
            "\n",
            "oh my god you predict it\n"
          ]
        }
      ]
    },
    {
      "cell_type": "code",
      "source": [
        "import this"
      ],
      "metadata": {
        "colab": {
          "base_uri": "https://localhost:8080/"
        },
        "id": "SpEwQuETBd2z",
        "outputId": "6645b940-9f7e-4d32-97ad-a0e1012c72f8"
      },
      "execution_count": null,
      "outputs": [
        {
          "output_type": "stream",
          "name": "stdout",
          "text": [
            "The Zen of Python, by Tim Peters\n",
            "\n",
            "Beautiful is better than ugly.\n",
            "Explicit is better than implicit.\n",
            "Simple is better than complex.\n",
            "Complex is better than complicated.\n",
            "Flat is better than nested.\n",
            "Sparse is better than dense.\n",
            "Readability counts.\n",
            "Special cases aren't special enough to break the rules.\n",
            "Although practicality beats purity.\n",
            "Errors should never pass silently.\n",
            "Unless explicitly silenced.\n",
            "In the face of ambiguity, refuse the temptation to guess.\n",
            "There should be one-- and preferably only one --obvious way to do it.\n",
            "Although that way may not be obvious at first unless you're Dutch.\n",
            "Now is better than never.\n",
            "Although never is often better than *right* now.\n",
            "If the implementation is hard to explain, it's a bad idea.\n",
            "If the implementation is easy to explain, it may be a good idea.\n",
            "Namespaces are one honking great idea -- let's do more of those!\n"
          ]
        }
      ]
    },
    {
      "cell_type": "code",
      "source": [
        "\n",
        "# Syntax vs. Runtime vs. Semantic   Errors\n",
        "\n",
        "# A runtime error when running program fails to perform some task, 4 / 0  or open a file that doesnt exist\n",
        "# syntax error when syntax is incorrect \n",
        "# semantic errors are bad thing, happend when coputer doesnt understand what we want\n",
        "# '4' + '12' = '412' :(\n"
      ],
      "metadata": {
        "id": "xsAvp90Z3X3b"
      },
      "execution_count": null,
      "outputs": []
    },
    {
      "cell_type": "code",
      "source": [
        "# List comprehensive\n",
        "a = [i for i in range(5)]\n",
        "b = ['d-' * i for i in range(1,5)]\n",
        "c = [\"Even\" if i%2==0 else \"Odd\" for i in range(10)]"
      ],
      "metadata": {
        "id": "OMcOd_RI1IhU"
      },
      "execution_count": null,
      "outputs": []
    },
    {
      "cell_type": "code",
      "source": [
        "# LOOPS\n",
        "\n",
        "# for \n",
        "# ;;;;;;;;;;;;;;;;;;;;;;;;;;;;;;;;;;;;;;;;;;;;;;;;;;;;;;;;;;;;;;;;;;;;;\n",
        "print(' simple iterate')\n",
        "for i in range(5):\n",
        "  print(i*2)\n",
        "# sequences are a generic term for an ordered\n",
        "# set which means that the order in which we input the items will be the same when we access them\n",
        "print(' in sequance')\n",
        "listA = [1, 1, 2, 3, 5]\n",
        "for i in listA:\n",
        "  print(i)\n",
        "\n",
        "container = []\n",
        "print(' in range of a sequance')\n",
        "for i in range(len(listA)):\n",
        "  container.append(i)\n",
        "\n",
        "print(container)\n",
        "\n",
        "\n",
        "# while\n",
        "# ;;;;;;;;;;;;;;;;;;;;;;;;;;;;;;;;;;;;;;;;;;;;;;;;;;;;;;;;;;;;;;;;;;;;;\n",
        "a = 0\n",
        "b = []\n",
        "while True:\n",
        "  a += 20\n",
        "  b.append(a)\n",
        "  if a == 120:\n",
        "    break\n",
        "\n",
        "a = 0 \n",
        "c = []\n",
        "while a < 240:\n",
        "  a += 40 \n",
        "  c.append(a)\n",
        "print(list(zip(b,c)))"
      ],
      "metadata": {
        "colab": {
          "base_uri": "https://localhost:8080/"
        },
        "id": "zMx9NyBxTD9g",
        "outputId": "41f8b8ba-fe8b-47f8-a58c-1418e210d467"
      },
      "execution_count": null,
      "outputs": [
        {
          "output_type": "stream",
          "name": "stdout",
          "text": [
            " simple iterate\n",
            "0\n",
            "2\n",
            "4\n",
            "6\n",
            "8\n",
            " in sequance\n",
            "1\n",
            "1\n",
            "2\n",
            "3\n",
            "5\n",
            " in range of a sequance\n",
            "[0, 1, 2, 3, 4]\n",
            "[(20, 40), (40, 80), (60, 120), (80, 160), (100, 200), (120, 240)]\n"
          ]
        }
      ]
    },
    {
      "cell_type": "code",
      "source": [
        "# ..........\n",
        "# built in data\n",
        "# ..........\n",
        "\n",
        "# LIST\n",
        "# ;;;;;;;;;;;;;;;;;;;;;;;;;;;;;;;;;;;;;;;;;;;;;;;;;;;;;;;;;;;;;;;;;;;;;\n",
        "\n",
        "listA = ['a', 'v', 51, 100]\n",
        "print(listA[0])\n",
        "\n",
        "listB = ['hi my next index is nested list',[1, 5, ['im very nested'],7],120]\n",
        "print([listB[0],listB[2]])\n",
        "\n",
        "# dict\n",
        "# ;;;;;;;;;;;;;;;;;;;;;;;;;;;;;;;;;;;;;;;;;;;;;;;;;;;;;;;;;;;;;;;;;;;;;\n",
        "\n",
        "dictA = {'its index':2, 'indexes are unordered':40,\n",
        "         'this called key and -> value':0,\n",
        "         'dict make from keys and values':'both of them called items',\n",
        "         'we can nesting in dictionary':{'A':1, 'B':2, 'C':3}}\n",
        "\n",
        "print(dictA['its index'],\n",
        "      dictA['we can nesting in dictionary'],\n",
        "      dictA.values(),\n",
        "      dictA.keys(),sep = '\\n')\n",
        "\n",
        "dictB = {'H':1, 'He':2, 'O':16}\n",
        "print(dictB.items())\n",
        "\n",
        "# what is returned from dict.items ?\n",
        "type(dictB.items())\n",
        "\n",
        "# tuple\n",
        "# ;;;;;;;;;;;;;;;;;;;;;;;;;;;;;;;;;;;;;;;;;;;;;;;;;;;;;;;;;;;;;;;;;;;;;\n",
        "tupA = (5,4,3) # ordered / unchangeable / Allow Duplicates\n",
        "tupA[0] \n",
        "\n",
        "# for change values in tuple \n",
        "x = (\"apple\", \"banana\", \"cherry\")\n",
        "y = list(x)\n",
        "y[1] = \"kiwi\"\n",
        "x = tuple(y)\n",
        "\n",
        "print(x)\n",
        "\n",
        "# update tuple \n",
        "thistuple = (\"apple\", \"banana\", \"cherry\")\n",
        "y = (\"orange\",)\n",
        "thistuple += y\n",
        "\n",
        "print(thistuple)\n",
        "\n",
        "\n",
        "# SET\n",
        "# ;;;;;;;;;;;;;;;;;;;;;;;;;;;;;;;;;;;;;;;;;;;;;;;;;;;;;;;;;;;;;;;;;;;;;\n",
        "# Unordered / Unchangeable / Duplicates Not Allowed\n",
        "\n",
        "thisset = {\"apple\", \"banana\", \"cherry\"}\n",
        "thisset.add(\"orange\")\n",
        "\n",
        "tropical = {\"pineapple\", \"mango\", \"papaya\"}\n",
        "\n",
        "thisset.update(tropical)\n",
        "\n",
        "print(thisset)"
      ],
      "metadata": {
        "id": "Ufh_QipoX_qU",
        "colab": {
          "base_uri": "https://localhost:8080/"
        },
        "outputId": "515db6b6-8c6f-4625-c261-eac365b43674"
      },
      "execution_count": null,
      "outputs": [
        {
          "output_type": "stream",
          "name": "stdout",
          "text": [
            "a\n",
            "['hi my next index is nested list', 120]\n",
            "2\n",
            "{'A': 1, 'B': 2, 'C': 3}\n",
            "dict_values([2, 40, 0, 'both of them called items', {'A': 1, 'B': 2, 'C': 3}])\n",
            "dict_keys(['its index', 'indexes are unordered', 'this called key and -> value', 'dict make from keys and values', 'we can nesting in dictionary'])\n",
            "dict_items([('H', 1), ('He', 2), ('O', 16)])\n",
            "('apple', 'kiwi', 'cherry')\n",
            "('apple', 'banana', 'cherry', 'orange')\n",
            "{'papaya', 'cherry', 'apple', 'pineapple', 'mango', 'orange', 'banana'}\n"
          ]
        }
      ]
    },
    {
      "cell_type": "code",
      "source": [
        "# ..........\n",
        "# data   \n",
        "# ..........\n",
        "\n",
        "# python has Basic Data Types like integer / float / string\n",
        "# and built in data structure like list tuple set dict\n",
        "integer = 7\n",
        "floating_number = 3.14\n",
        "string = 'i am string'\n",
        "boolean = True # or False\n",
        "\n",
        "# ................................................................................\n",
        "# python has lazy evaluation. it means it has set type of data without mention it \n",
        "# in some low level language like c we had to mention the type of variable\n",
        "integer2 = int(3.14)\n",
        "floating_number2 = float(3)\n",
        "print(integer2, 'has type', type(integer2))\n",
        "\n",
        "# Binary, Octal, and Hexadecimal.\n",
        "print(0o10)\n",
        "print(0x10)\n",
        "print(0b10)\n",
        "\n",
        "# 5.0 ⨉ 10-324.  Float with e \n",
        "print(type(5e-324))\n",
        "\n",
        "# complex Number\n",
        "type(2+3j)"
      ],
      "metadata": {
        "colab": {
          "base_uri": "https://localhost:8080/"
        },
        "id": "I25rW6e1VSSY",
        "outputId": "f67995a3-11f3-4fdb-e4db-8612fbe2d615"
      },
      "execution_count": null,
      "outputs": [
        {
          "output_type": "stream",
          "name": "stdout",
          "text": [
            "3 has type <class 'int'>\n",
            "8\n",
            "16\n",
            "2\n",
            "<class 'float'>\n"
          ]
        },
        {
          "output_type": "execute_result",
          "data": {
            "text/plain": [
              "complex"
            ]
          },
          "metadata": {},
          "execution_count": 41
        }
      ]
    },
    {
      "cell_type": "code",
      "execution_count": null,
      "metadata": {
        "colab": {
          "base_uri": "https://localhost:8080/"
        },
        "id": "Zphqnu-mQEHC",
        "outputId": "eab4fa2a-9158-4760-eb09-1098ad8a02e5"
      },
      "outputs": [
        {
          "output_type": "stream",
          "name": "stdout",
          "text": [
            "this\n",
            "a number is: \t - 5\t -  we can print more variable like a *2 : \t - 10\n",
            ">> escape character used for many purpose. one's its used in <- ones\n",
            "i am \r>> now its \t tab, \bbackspace \n",
            " new line - Hello octal - = Hello hex =         if line is to long we can use one backslash and going to new line\n",
            ">> we can use format to show variable a = 5, b = 10 and a + b >>> 15 \tjust use curly bracket {} and .format in the end\n",
            "---\t--ANOTHER WAY--\t---\n",
            "another way we can use is putting one f in begining of print and use curly bracket 5\n",
            "old men use string value 63.400000 5 \t  this way is C formatting strings\n"
          ]
        }
      ],
      "source": [
        "# PRINT \n",
        "print('this')\n",
        "\n",
        "# var\n",
        "a = 5\n",
        "print('a number is: ', a, ' we can print more variable like a *2 : ' ,a * 2, sep = '\\t - ') \n",
        "\n",
        "# escape character\n",
        "print('>> escape character used for many purpose. one\\'s its used in <- ones')\n",
        "\n",
        "print('i am hidden \\r >> now its \\t tab, \\b backspace \\n new line - \\110\\145\\154\\154\\157 octal - = \\x48\\x65\\x6c\\x6c\\x6f hex = \\\n",
        "        if line is to long we can use one backslash and going to new line') \n",
        "\n",
        "# format \n",
        "b = 10\n",
        "print('>> we can use format to show variable a = {}, b = {} and a + b >>> {}'.format(a,b,a+b),\n",
        "      '\\tjust use curly bracket {} and .format in the end')\n",
        "print('---\\t--ANOTHER WAY--\\t---')\n",
        "print(f'another way we can use is putting one f in begining of print and use curly bracket {a}')\n",
        "print('old men use %s %f %d'% ('string value',63.4,5), '\\t  this way is C formatting strings')\n"
      ]
    }
  ]
}