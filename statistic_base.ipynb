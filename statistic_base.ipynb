{
  "nbformat": 4,
  "nbformat_minor": 0,
  "metadata": {
    "colab": {
      "name": "statistic_base.ipynb",
      "provenance": [],
      "collapsed_sections": [],
      "authorship_tag": "ABX9TyMlGlqrzI5vMeTvvM1zI5cr",
      "include_colab_link": true
    },
    "kernelspec": {
      "name": "python3",
      "display_name": "Python 3"
    },
    "language_info": {
      "name": "python"
    }
  },
  "cells": [
    {
      "cell_type": "markdown",
      "metadata": {
        "id": "view-in-github",
        "colab_type": "text"
      },
      "source": [
        "<a href=\"https://colab.research.google.com/github/hsargoli/MyWorks/blob/main/statistic_base.ipynb\" target=\"_parent\"><img src=\"https://colab.research.google.com/assets/colab-badge.svg\" alt=\"Open In Colab\"/></a>"
      ]
    },
    {
      "cell_type": "code",
      "source": [
        "import numpy as np"
      ],
      "metadata": {
        "id": "OlNQon4c531X"
      },
      "execution_count": 2,
      "outputs": []
    },
    {
      "cell_type": "markdown",
      "source": [
        "\n",
        "= = = = = = = = = = = \n",
        "# NOEMAL Distribution \n",
        "= = = = = = = = = = = \n",
        "\n",
        "When dealing with\n",
        "continuous data, you\n",
        "calculate probabilities\n",
        "for a range of values.\n"
      ],
      "metadata": {
        "id": "JG57IQrfEtzJ"
      }
    },
    {
      "cell_type": "code",
      "source": [
        "import scipy.stats as st\n",
        "#def Zscore(x, mean, std):\n",
        "#z = x - mean / std\n",
        "\n",
        "# probability to z score\n",
        "st.norm.ppf(.95)\n",
        "# z score to probability \n",
        "st.norm.cdf(1.42)"
      ],
      "metadata": {
        "colab": {
          "base_uri": "https://localhost:8080/"
        },
        "id": "eVKKadTyEtUI",
        "outputId": "08ea169b-0335-4cf0-fe48-7b9e9041082f"
      },
      "execution_count": 87,
      "outputs": [
        {
          "output_type": "execute_result",
          "data": {
            "text/plain": [
              "0.9221961594734536"
            ]
          },
          "metadata": {},
          "execution_count": 87
        }
      ]
    },
    {
      "cell_type": "markdown",
      "source": [
        "\n",
        "= = = = = = = = = = = \n",
        "# Discrete Distribution \n",
        "= = = = = = = = = = = \n",
        "\n"
      ],
      "metadata": {
        "id": "pUxXO8xgKk4D"
      }
    },
    {
      "cell_type": "code",
      "source": [
        "# geometric_distribution\n",
        "def geometric_distribution(p, r = 1):\n",
        "  '''\n",
        "  1 You run a series of independent trials\n",
        "  2 There can be either a success or failure for each trial, and the\n",
        "    probability of success is the same for each trial.\n",
        "  3 The main thing you’re interested in is how many trials are needed in\n",
        "    order to get the first successful outcome\n",
        "  the mode of any geometric distribution is always 1. it means that the probability of success on the first try is the highest\n",
        "  '''\n",
        "  q = 1 - p  # failure\n",
        "  SUCCESS_probability_of_r_trails = p * q**r \n",
        "  SUCCESS_probability_in_grater_than_r_trail = q ** r\n",
        "  SUCCESS_probability_in_lower_than_r_trail = 1 - (q ** r)\n",
        "  exceptin = 1 / p\n",
        "  variance = q / (p ** 2)\n",
        "  print(f'SUCCESS_probability_of_{r}_trails:\\t\\t {SUCCESS_probability_of_r_trails *100} %')\n",
        "  print(f'SUCCESS_probability_in_grater_than_r_trail:\\t {SUCCESS_probability_in_grater_than_r_trail*100} %')\n",
        "  print(f'SUCCESS_probability_in_lower_than_r_trail:\\t {SUCCESS_probability_in_lower_than_r_trail*100} %')\n",
        "  print(f'SUCCESS exceptin: {exceptin}')\n",
        "  print(f'SUCCESS variance: {variance}')\n",
        "  # TODOOO : return statements -> dictionary of info\n",
        "\n",
        "\n",
        "geometric_distribution(0.2, 2)"
      ],
      "metadata": {
        "colab": {
          "base_uri": "https://localhost:8080/"
        },
        "id": "u7KgXCFsKWgE",
        "outputId": "9416d43a-79e1-4f28-f7c0-ac805ed12034"
      },
      "execution_count": 54,
      "outputs": [
        {
          "output_type": "stream",
          "name": "stdout",
          "text": [
            "SUCCESS_probability_of_2_trails:\t\t 12.800000000000002 %\n",
            "SUCCESS_probability_in_grater_than_r_trail:\t 64.00000000000001 %\n",
            "SUCCESS_probability_in_lower_than_r_trail:\t 35.999999999999986 %\n",
            "SUCCESS exceptin: 5.0\n",
            "SUCCESS variance: 19.999999999999996\n"
          ]
        }
      ]
    },
    {
      "cell_type": "code",
      "source": [
        "def combination(n, r):\n",
        "  return (factorial(n))/(factorial(r) * factorial(n-r))\n",
        "def binomial(p, n, r = 1):\n",
        "  '''\n",
        "  1  You’re running a series of independent trials.\n",
        "  2  There can be either a success or failure for each trial, and the\n",
        "     probability of success is the same for each trial.\n",
        "  3  There are a finite number of trials\n",
        "  ex : want to find how many question are we can answer in n questions\n",
        "  The shape of the binomial distribution depends on the values of n and p.\n",
        "   if np and nq greater than 5, we can use normal distribution with countity correction\n",
        "   if n >> and p << we can use poission distribution X ~ (np) instead of binomial \n",
        "  '''\n",
        "  c = combination(n,r)\n",
        "  q = 1 - p\n",
        "  px_x = (p ** r) * (q ** (n-r)) * c  # the number of successful outcomes out of n trials\n",
        "  expect = n * p\n",
        "  var = n * p * q\n",
        "  print(f'the number of {r} successful outcomes  out of {n} trials: ', px_x)\n",
        "  print(f'expectation: {expect} \\t variance: {var}')\n",
        "  # TODOOO : return statements -> dictionary of info\n",
        "binomial(.25, 5, 3)"
      ],
      "metadata": {
        "colab": {
          "base_uri": "https://localhost:8080/"
        },
        "id": "Qr5UHRIki2xm",
        "outputId": "38db51a3-67ee-4524-df0d-c62c82c5c952"
      },
      "execution_count": 63,
      "outputs": [
        {
          "output_type": "stream",
          "name": "stdout",
          "text": [
            "the number of 3 successful outcomes  out of 5 trials:  0.087890625\n",
            "expectation: 1.25 \t variance: 0.9375\n"
          ]
        }
      ]
    },
    {
      "cell_type": "code",
      "source": [
        "def factorial(n):\n",
        "  if n == 1 or n == 0:\n",
        "    return 1\n",
        "  else:\n",
        "    return n * factorial(n-1)\n",
        "def Poisson(landa, r):\n",
        "  '''\n",
        "  1  Individual events occur at random and independently in a given\n",
        "     interval. This can be an interval of time or space—for example,\n",
        "     during a week, or per mile.\n",
        "  2  You know the mean number of occurrences in the interval or the\n",
        "     rate of occurrences, and it’s finite. The mean number of occurrences\n",
        "    is normally represented by the Greek letter λ (lambda)\n",
        "  Let’s use the variable X to represent the number of occurrences in\n",
        "    the given interval\n",
        "  '''\n",
        "  po_x = ((np.exp(1) ** -landa) * (landa ** r)) / float(factorial(r))\n",
        "  return po_x\n",
        "Poisson(2.5, 5)"
      ],
      "metadata": {
        "colab": {
          "base_uri": "https://localhost:8080/"
        },
        "id": "6f2A2S7WtJr-",
        "outputId": "7e5a27c2-88c2-4e4d-c75c-768f28bc1541"
      },
      "execution_count": 81,
      "outputs": [
        {
          "output_type": "execute_result",
          "data": {
            "text/plain": [
              "0.06680094289054264"
            ]
          },
          "metadata": {},
          "execution_count": 81
        }
      ]
    },
    {
      "cell_type": "markdown",
      "source": [
        "= = = = = = = = = = = \n",
        "# Arrangement     in horse race\n",
        "= = = = = = = = = = = "
      ],
      "metadata": {
        "id": "TyQ5eM9aK16q"
      }
    },
    {
      "cell_type": "code",
      "source": [
        "\n",
        "def factorial(n):\n",
        "  # recursive\n",
        "  if n == 1:\n",
        "    return n\n",
        "  else:\n",
        "    return n * factorial(n-1)\n",
        "\n",
        "horses = np.arange(0,5)\n",
        "print(f'in a horse race with {len(horses)} pleyer; in the end there is \\\n",
        "        {factorial(len(horses))} way to arrange horses') \n",
        "\n",
        "# ||||||||||| -------------------- |||||||||||\n",
        "# ||||||||||| -------------------- |||||||||||\n",
        "# permutation\n",
        "def permutation(n,r):\n",
        "  '''\n",
        "  Permutations give the total number of ways you can\n",
        "  order a certain number of objects (r), drawn from\n",
        "  a larger pool of objects (n).\n",
        "  order \n",
        "  '''\n",
        "  B = n-r\n",
        "  perm = (factorial(n))/(factorial(B))\n",
        "  return perm\n",
        "\n",
        "pool = 20 \n",
        "robject = 3\n",
        "print(f'arrangement of {robject} objects from a pool of {pool} objects = {permutation(pool,robject)}')\n",
        "\n",
        "# ||||||||||| -------------------- |||||||||||\n",
        "# ||||||||||| -------------------- |||||||||||\n",
        "# combinations\n",
        "def combination(n,r):\n",
        "  '''\n",
        "  A combination is the number of ways in which you\n",
        "  can choose objects from a pool, without caring about\n",
        "  the exact order in which you choose them\n",
        "  '''\n",
        "  comb = (factorial(n))/(factorial(r) * factorial(n-r))\n",
        "  return comb\n",
        "print(combination(12,5))"
      ],
      "metadata": {
        "colab": {
          "base_uri": "https://localhost:8080/"
        },
        "id": "Wwrsq9XJBROn",
        "outputId": "a8fb7e36-c586-4002-c38e-d8c28aba1874"
      },
      "execution_count": 32,
      "outputs": [
        {
          "output_type": "stream",
          "name": "stdout",
          "text": [
            "in a horse race with 5 pleyer; in the end there is         120 way to arrange horses\n",
            "arrangement of 3 objects from a pool of 20 objects = 6840.0\n",
            "792.0\n"
          ]
        }
      ]
    },
    {
      "cell_type": "markdown",
      "source": [
        "= = = = = = = = = = = \n",
        "# Expectation with a slot machine\n",
        "= = = = = = = = = = = \n"
      ],
      "metadata": {
        "id": "YlGwPi17Kw2T"
      }
    },
    {
      "cell_type": "code",
      "source": [
        "import numpy as np\n",
        "import random\n",
        "\n",
        "\n",
        "def slot_machine(maxx):\n",
        "    # maxx is the maximum number of digits in a slot machine / we considered just a digit machine\n",
        "    a = [random.randint(1, maxx), random.randint(1, maxx), random.randint(1, maxx)]\n",
        "    return a\n",
        "\n",
        "\n",
        "def do_sm(counter, maxx):\n",
        "    d = []\n",
        "    while counter > 0:\n",
        "        c = 0\n",
        "        for i in range(100):\n",
        "            b = slot_machine(maxx)\n",
        "            if b[0] == b[1] == b[2]:  # Equals to b[0] == b[1] & b[1] == b[2]\n",
        "                c += 1\n",
        "        d.append(c)\n",
        "        counter -= 1\n",
        "    return d\n",
        "\n",
        "\n",
        "n = 5 # How many number are there in each slot \n",
        "\n",
        "exp = (1 / n ** 3) * n * 100  # There are three 3  slots with n numbers in each one\n",
        "a = do_sm(1000, n)\n",
        "print(\n",
        "    f\"we expect for 100 try - {exp} Equal number Occurs like 1 1 1 or 2 2 2\\n \\\n",
        "        in our slotMachin we get {np.mean(a)} Equeals \"\n",
        ")\n"
      ],
      "metadata": {
        "colab": {
          "base_uri": "https://localhost:8080/"
        },
        "id": "bcwDv07s5bDn",
        "outputId": "f41b9bc9-8521-4d9d-a8a7-a5b30979775e"
      },
      "execution_count": 39,
      "outputs": [
        {
          "output_type": "stream",
          "name": "stdout",
          "text": [
            "we expect for 100 try - 4.0 Equal number Occurs like 1 1 1 or 2 2 2\n",
            "         in our slotMachin we get 3.991 Equeals \n"
          ]
        }
      ]
    },
    {
      "cell_type": "markdown",
      "source": [
        "# *very* basic \n",
        "like mean mode quartile and ..."
      ],
      "metadata": {
        "id": "WkkKM0rrK8X1"
      }
    },
    {
      "cell_type": "code",
      "execution_count": 35,
      "metadata": {
        "colab": {
          "base_uri": "https://localhost:8080/"
        },
        "id": "-X6YJyInww5j",
        "outputId": "204d4ac4-dc69-4edc-840e-45b32b185a0c"
      },
      "outputs": [
        {
          "output_type": "stream",
          "name": "stdout",
          "text": [
            "1.1305708428974124 ---\n",
            "--- {'q1': -4.905006674751906, 'median': -4.884550168793184, 'q3': 20.471331522465128, 'mean': 9.886103086673154, 'var': 391.6696119760219, 'std': 19.790644556861253} ---\n",
            "--- percen  ---\n",
            "--- -4.905006674751906 ---\n",
            "--- 2 ---\n",
            "--- 9.886103086673154 ---\n",
            "--- -4.884550168793184\n"
          ]
        },
        {
          "output_type": "execute_result",
          "data": {
            "text/plain": [
              "0.2"
            ]
          },
          "metadata": {},
          "execution_count": 35
        }
      ],
      "source": [
        "import numpy as np\n",
        "from collections import Counter\n",
        "\n",
        "\n",
        "class sg_statistic:\n",
        "    def __init__(self):\n",
        "        pass\n",
        "\n",
        "    def mean(self, d):\n",
        "        a = sum(d)\n",
        "        b = len(d)\n",
        "        return a / b\n",
        "\n",
        "    def median(self, d):\n",
        "        a = len(d)\n",
        "        if a % 2 == 0:\n",
        "            b = int(a / 2) - 1  # -1 is for python because python start index from 0\n",
        "            c = (d[b] + d[b + 1]) / 2\n",
        "            return c\n",
        "        else:\n",
        "            b = ((a + 1) / 2) - 1\n",
        "            return d[int(b)]\n",
        "\n",
        "    def mode(self, values, frequency):\n",
        "        return values[frequency.index(max(frequency))]\n",
        "\n",
        "    def percentile(self, data, k):\n",
        "        n = len(data)\n",
        "        p = k * (n / 100)\n",
        "        c = p - int(p)\n",
        "        if c:  # p isnt integer\n",
        "            return data[int(p)]\n",
        "        else:  # p is integer\n",
        "            return (data[int(p)] + data[int(p) - 1]) / 2\n",
        "        return p\n",
        "\n",
        "    def var(self, data):\n",
        "        mu = self.mean(data)\n",
        "        n = len(data)\n",
        "        power = [x ** 2 for x in data]\n",
        "        var = (sum(power) / n) - mu ** 2\n",
        "        return var\n",
        "\n",
        "    def present(self, data):\n",
        "        q1 = self.percentile(data, 25)\n",
        "        mediann = self.percentile(data, 50)\n",
        "        q3 = self.percentile(data, 75)\n",
        "        mean = self.mean(data)\n",
        "        varr = self.var(data)\n",
        "        A = {\n",
        "            \"q1\": q1,\n",
        "            \"median\": mediann,\n",
        "            \"q3\": q3,\n",
        "            \"mean\": mean,\n",
        "            \"var\": varr,\n",
        "            \"std\": varr ** (0.5),\n",
        "        }\n",
        "        return A\n",
        "\n",
        "    def zscore(self, data, X):\n",
        "        mu = self.mean(data)\n",
        "        std = self.var(data) ** 0.5\n",
        "        z = (X - mu) / std\n",
        "        return z\n",
        "\n",
        "    def proba(self, data, x):  # todo: make constraint for input of x / x must in data\n",
        "        a = Counter(data)\n",
        "        return a[x] / len(data)\n",
        "\n",
        "\n",
        "# to do\n",
        "\n",
        "hah = sg_statistic()\n",
        "data = np.random.normal(10, 20, 800)\n",
        "data1 = [4, 5, 6, 3, 8, 6, 2, 3, 5, 1]  # len 10\n",
        "data2 = [[4, 5, 8, 6, 3, 2, 1], [10, 2, 30, 51, 23, 123, 56]]\n",
        "data3 = [3, 3, 6, 7, 7, 10, 10, 10, 11, 13, 30]\n",
        "data4 = [1, 1, 1, 2]\n",
        "data5 = [15, 60, 75, 43, 95, 100, 10, 47, 63]\n",
        "\n",
        "test = data\n",
        "print(\n",
        "    hah.zscore(data5, 90),\n",
        "    hah.present(test),\n",
        "    \"percen \",\n",
        "    hah.percentile(test, 25),\n",
        "    hah.mode(data2[0], data2[1]),\n",
        "    hah.mean(test),\n",
        "    hah.median(test),\n",
        "    sep=\" ---\\n--- \",\n",
        ")\n",
        "\n",
        "\n",
        "hah.proba(data1, 3)\n"
      ]
    },
    {
      "cell_type": "markdown",
      "source": [
        "# Box plot"
      ],
      "metadata": {
        "id": "vFgFbxj3LM-F"
      }
    },
    {
      "cell_type": "code",
      "source": [
        "# Import libraries\n",
        "import matplotlib.pyplot as plt\n",
        "import numpy as np\n",
        "\n",
        "\n",
        "# Creating dataset\n",
        "np.random.seed(10)\n",
        "data1 = np.random.normal(0, 1, 200)\n",
        "data2 = np.random.normal(0, 1, 200)\n",
        "data = [data1, data2]\n",
        "fig = plt.figure(figsize =(10, 7))\n",
        "\n",
        "# Creating plot\n",
        "plt.boxplot(data, patch_artist = True,\n",
        "                notch ='True', vert = 0)\n",
        "plt.grid(color = 'green', linestyle = '--', linewidth = 1)\n",
        "# show plot\n",
        "plt.show()\n",
        "data"
      ],
      "metadata": {
        "colab": {
          "base_uri": "https://localhost:8080/",
          "height": 1000
        },
        "id": "KtEXzaFhd1Zv",
        "outputId": "d7b3db6a-07f8-47dd-a962-297ac1ea1c13"
      },
      "execution_count": null,
      "outputs": [
        {
          "output_type": "display_data",
          "data": {
            "text/plain": [
              "<Figure size 720x504 with 1 Axes>"
            ],
            "image/png": "[encoded data removed]"
          },
          "metadata": {
            "needs_background": "light"
          }
        },
        {
          "output_type": "execute_result",
          "data": {
            "text/plain": [
              "[array([ 1.3315865 ,  0.71527897, -1.54540029, -0.00838385,  0.62133597,\n",
              "        -0.72008556,  0.26551159,  0.10854853,  0.00429143, -0.17460021,\n",
              "         0.43302619,  1.20303737, -0.96506567,  1.02827408,  0.22863013,\n",
              "         0.44513761, -1.13660221,  0.13513688,  1.484537  , -1.07980489,\n",
              "        -1.97772828, -1.7433723 ,  0.26607016,  2.38496733,  1.12369125,\n",
              "         1.67262221,  0.09914922,  1.39799638, -0.27124799,  0.61320418,\n",
              "        -0.26731719, -0.54930901,  0.1327083 , -0.47614201,  1.30847308,\n",
              "         0.19501328,  0.40020999, -0.33763234,  1.25647226, -0.7319695 ,\n",
              "         0.66023155, -0.35087189, -0.93943336, -0.48933722, -0.80459114,\n",
              "        -0.21269764, -0.33914025,  0.31216994,  0.56515267, -0.14742026,\n",
              "        -0.02590534,  0.2890942 , -0.53987907,  0.70816002,  0.84222474,\n",
              "         0.2035808 ,  2.39470366,  0.91745894, -0.11227247, -0.36218045,\n",
              "        -0.23218226, -0.5017289 ,  1.12878515, -0.69781003, -0.08112218,\n",
              "        -0.52929608,  1.04618286, -1.41855603, -0.36249918, -0.12190569,\n",
              "         0.31935642,  0.4609029 , -0.21578989,  0.98907246,  0.31475378,\n",
              "         2.46765106, -1.50832149,  0.62060066, -1.04513254, -0.79800882,\n",
              "         1.98508459,  1.74481415, -1.85618548, -0.2227737 , -0.06584785,\n",
              "        -2.13171211, -0.04883051,  0.39334122,  0.21726515, -1.99439377,\n",
              "         1.10770823,  0.24454398, -0.06191203, -0.75389296,  0.71195902,\n",
              "         0.91826915, -0.48209314,  0.08958761,  0.82699862, -1.95451212,\n",
              "         0.11747566, -1.90745689, -0.92290926,  0.46975143, -0.14436676,\n",
              "        -0.40013835, -0.29598385,  0.84820861,  0.70683045, -0.78726893,\n",
              "         0.29294072, -0.47080725,  2.40432561, -0.73935674, -0.31282876,\n",
              "        -0.34888192, -0.43902624,  0.14110417,  0.27304932, -1.61857075,\n",
              "        -0.57311336, -1.32044755,  1.23620533,  2.46532508,  1.38323223,\n",
              "         0.34623312,  1.02251611,  0.16681027,  1.65671662,  0.66788961,\n",
              "        -0.22994664, -1.12955119, -0.6399626 ,  0.31383052, -1.22583598,\n",
              "        -0.22179314,  1.33992631,  0.02930971,  1.98538575,  1.4471656 ,\n",
              "        -0.28762941, -1.35931057, -0.04804133, -0.48078734,  0.37775309,\n",
              "         1.61440797, -1.12310404, -0.38872795,  0.33234995,  1.13497317,\n",
              "         0.51071441,  0.41429764,  1.34454942,  0.49351532, -0.23700418,\n",
              "         0.05728515, -0.70707145,  0.54666484,  0.94250041, -2.97959677,\n",
              "         1.21814885, -0.05652072,  0.46088845,  0.66237401, -2.29510333,\n",
              "        -1.19592931, -0.33310116, -0.79139077,  0.27417278, -0.51490992,\n",
              "        -1.7110712 ,  0.61229731,  1.10012937,  0.56435253, -0.71279944,\n",
              "        -0.26085948,  0.54842807,  0.60319905,  1.00686114, -0.29442601,\n",
              "        -1.42088052, -0.67894677,  0.53388481,  0.7439744 ,  2.22504964,\n",
              "         0.11718142,  0.24461452, -0.17729882, -0.40572953,  0.78177519,\n",
              "         0.35347761, -0.20727949, -1.07969738, -0.12306983, -0.39098219,\n",
              "         1.25517373,  0.94712608, -1.02231069,  1.16716837, -0.57197681]),\n",
              " array([ 0.1331375 ,  1.20274387, -1.02475297,  0.16039916, -1.13047529,\n",
              "        -1.94129968,  0.98659782,  0.02822737, -0.8223676 , -1.58655176,\n",
              "        -0.40147282,  1.34217928,  0.40246909, -0.37276142, -0.67202344,\n",
              "         0.10581208, -1.54730539,  1.34480651,  0.50318918,  1.1943506 ,\n",
              "        -0.56350567,  0.85482876,  0.68790473, -1.53306872,  0.1489607 ,\n",
              "         0.31511117, -0.57491766, -0.36017113,  0.4361853 , -0.03791788,\n",
              "        -1.00471635,  0.59145309,  0.22781736,  0.24917866,  0.09576324,\n",
              "         0.44902173, -0.28600201, -0.8627583 , -0.74182484,  1.10557514,\n",
              "        -2.01771865,  0.54054071, -1.44229888, -1.60885036, -1.00656856,\n",
              "        -0.25753362,  0.73050745, -1.69840149,  1.67407555,  1.1637237 ,\n",
              "        -0.13257359, -0.29024581, -0.95353242,  0.58804059,  0.06880147,\n",
              "         1.4120643 , -0.68621561,  0.54794393, -0.03638254, -0.84701625,\n",
              "         1.90230404,  0.27960539,  0.6202545 , -1.06856771, -0.72262073,\n",
              "         0.08413956, -0.58445516,  0.60202227,  0.43836524, -0.78234319,\n",
              "         0.19293598,  0.00402491, -0.16407529, -1.14881226, -0.8355085 ,\n",
              "         0.21045073,  1.01398463, -0.97019782,  1.21718156,  0.18264738,\n",
              "        -1.26981959,  0.32338993,  0.88577486,  0.26439469,  2.31912732,\n",
              "         0.30866767,  0.89256403,  0.0110227 ,  0.98007413, -2.39557201,\n",
              "        -0.85752252, -0.36427809,  0.5039269 ,  0.18833121,  1.08522707,\n",
              "         0.35693907,  0.20732957, -0.14506454,  0.16390425,  0.82951248,\n",
              "         0.75529996,  0.87948569, -0.2399563 , -0.69505665, -0.47140008,\n",
              "         0.34947641,  1.61145729,  0.23933927,  0.48500263, -1.65860471,\n",
              "         2.67991031, -1.10352213,  1.81778261, -0.55604734,  0.95771124,\n",
              "         0.81522068,  0.0643194 , -0.16640537, -0.94070977, -0.0535945 ,\n",
              "         1.1011362 ,  0.37212255, -0.88346099,  1.15805157, -1.20365349,\n",
              "         0.20983914, -0.89118692, -0.78268775,  1.07973068, -0.46284089,\n",
              "        -1.51507568, -0.53871853,  0.75662186, -0.72939922,  1.21478265,\n",
              "         1.00828297,  0.07328301,  1.17373241,  1.86295167, -1.9836365 ,\n",
              "         1.15668893,  0.60928227, -0.32320123,  0.66414561,  0.39672599,\n",
              "        -0.57611686,  1.48821839,  0.14024687,  1.18831675, -0.24574539,\n",
              "        -1.63558662,  0.24479809, -0.23508223, -1.26082781, -1.69196793,\n",
              "         0.61645092,  1.26969128,  1.39733798,  0.53422496,  0.00410204,\n",
              "         0.18941984,  0.04477469,  0.79468527, -0.49314074, -1.26158974,\n",
              "        -0.21926026,  0.19727222, -0.25528045,  0.02580759,  2.20096644,\n",
              "         0.8843676 , -1.38682253,  0.65366231, -2.17660863,  0.61894892,\n",
              "         0.4772343 ,  0.02609653, -0.96970567, -0.98372812,  0.41253272,\n",
              "        -0.61430485,  0.83708178, -0.62361901, -0.3631862 ,  0.75947133,\n",
              "        -0.033927  , -0.16640069,  0.26957242,  0.37530555, -0.08391524,\n",
              "         0.22612635, -0.11588073,  0.41160241,  0.28781043,  0.50427148,\n",
              "         0.80426736, -1.03060821, -1.35769756, -0.26650187, -0.1712928 ])]"
            ]
          },
          "metadata": {},
          "execution_count": 60
        }
      ]
    },
    {
      "cell_type": "code",
      "source": [
        "# pie chart\n",
        "import matplotlib.pyplot as plt\n",
        "# Pie chart, where the slices will be ordered and plotted counter-clockwise:\n",
        "labels = 'Frogs', 'Hogs', 'Dogs', 'Logs'\n",
        "sizes = [15, 30, 45, 10]\n",
        "explode = (0, 0.3, 0, 0)  # only \"explode\" the 2nd slice (i.e. 'Hogs')\n",
        "\n",
        "fig1, ax1 = plt.subplots()\n",
        "ax1.pie(sizes, explode=explode, labels=labels, autopct='%1.1f%%',\n",
        "        shadow=True, startangle=90)\n",
        "ax1.axis('equal')  # Equal aspect ratio ensures that pie is drawn as a circle.\n",
        "\n",
        "plt.show()"
      ],
      "metadata": {
        "colab": {
          "base_uri": "https://localhost:8080/",
          "height": 248
        },
        "id": "cbWWwXn9xcjf",
        "outputId": "0df69426-92aa-4910-aaea-b5ef93959989"
      },
      "execution_count": null,
      "outputs": [
        {
          "output_type": "display_data",
          "data": {
            "text/plain": [
              "<Figure size 432x288 with 1 Axes>"
            ],
            "image/png": "[encoded data removed]"
          },
          "metadata": {}
        }
      ]
    },
    {
      "cell_type": "code",
      "source": [
        "# creating the dataset\n",
        "data = {'C':20, 'C++':15, 'Java':30,\n",
        "\t\t'Python':35}\n",
        "courses = list(data.keys())\n",
        "values = list(data.values())\n",
        "\n",
        "fig = plt.figure(figsize = (5, 5))\n",
        "\n",
        "# creating the bar plot\n",
        "plt.barh(courses, values, color ='maroon',height = 0.4)\n",
        "# plt.bar(courses, values, color ='maroon',width = 0.4)\n",
        "\n",
        "plt.xlabel(\"Courses offered\")\n",
        "plt.ylabel(\"No. of students enrolled\")\n",
        "plt.title(\"Students enrolled in different courses\")\n",
        "plt.show()\n"
      ],
      "metadata": {
        "colab": {
          "base_uri": "https://localhost:8080/",
          "height": 350
        },
        "id": "HtRe_PEUyCPC",
        "outputId": "ed0d6d5c-dab9-4549-f57f-852e7e5e5381"
      },
      "execution_count": null,
      "outputs": [
        {
          "output_type": "display_data",
          "data": {
            "text/plain": [
              "<Figure size 360x360 with 1 Axes>"
            ],
            "image/png": "[encoded data removed]"
          },
          "metadata": {
            "needs_background": "light"
          }
        }
      ]
    },
    {
      "cell_type": "code",
      "source": [
        "# split-category bar chart\n",
        "labels = ['G1', 'G2', 'G3', 'G4', 'G5']\n",
        "men_means = [20, 34, 30, 35, 27]\n",
        "women_means = [25, 32, 34, 20, 25]\n",
        "\n",
        "x = np.arange(len(labels))  # the label locations\n",
        "height = 0.35  # the width of the bars\n",
        "\n",
        "fig, ax = plt.subplots()\n",
        "rects1 = ax.barh(x - width/2, men_means,height, label='Men')\n",
        "rects2 = ax.barh(x + width/2, women_means,height, label='Women')\n",
        "\n",
        "# Add some text for labels, title and custom x-axis tick labels, etc.\n",
        "ax.set_ylabel('Scores')\n",
        "ax.set_title('Scores by group and gender')\n",
        "ax.set_xticks(x, labels)\n",
        "ax.legend()\n",
        "\n",
        "\n",
        "fig.tight_layout()\n",
        "\n",
        "plt.show()"
      ],
      "metadata": {
        "colab": {
          "base_uri": "https://localhost:8080/",
          "height": 335
        },
        "id": "gFqtGt7cy6de",
        "outputId": "03301dd5-b32e-40b6-dd7e-d936490ade6c"
      },
      "execution_count": null,
      "outputs": [
        {
          "output_type": "stream",
          "name": "stderr",
          "text": [
            "/usr/local/lib/python3.7/dist-packages/ipykernel_launcher.py:19: MatplotlibDeprecationWarning: Passing the minor parameter of set_xticks() positionally is deprecated since Matplotlib 3.2; the parameter will become keyword-only two minor releases later.\n"
          ]
        },
        {
          "output_type": "display_data",
          "data": {
            "text/plain": [
              "<Figure size 432x288 with 1 Axes>"
            ],
            "image/png": "[encoded data removed]"
          },
          "metadata": {
            "needs_background": "light"
          }
        }
      ]
    },
    {
      "cell_type": "code",
      "source": [
        "# segmented bar chart\n",
        "import matplotlib.pyplot as plt\n",
        "\n",
        "\n",
        "labels = ['G1', 'G2', 'G3', 'G4', 'G5']\n",
        "men_means = [20, 35, 30, 35, 27]\n",
        "women_means = [25, 32, 34, 20, 25]\n",
        "men_std = [2, 3, 4, 1, 2]\n",
        "women_std = [3, 5, 2, 3, 3]\n",
        "width = 0.35       # the width of the bars: can also be len(x) sequence\n",
        "\n",
        "fig, ax = plt.subplots()\n",
        "\n",
        "ax.bar(labels, men_means, width, yerr=men_std, label='Men')\n",
        "ax.bar(labels, women_means, width, yerr=women_std, bottom=men_means,\n",
        "       label='Women')\n",
        "\n",
        "ax.set_ylabel('Scores')\n",
        "ax.set_title('Scores by group and gender')\n",
        "ax.legend()\n",
        "\n",
        "plt.show()"
      ],
      "metadata": {
        "colab": {
          "base_uri": "https://localhost:8080/",
          "height": 281
        },
        "id": "jef1XY87zjz6",
        "outputId": "5aed8e45-25d8-459b-848e-7673a98e591a"
      },
      "execution_count": null,
      "outputs": [
        {
          "output_type": "display_data",
          "data": {
            "text/plain": [
              "<Figure size 432x288 with 1 Axes>"
            ],
            "image/png": "[encoded data removed]"
          },
          "metadata": {
            "needs_background": "light"
          }
        }
      ]
    },
    {
      "cell_type": "code",
      "source": [
        "N_points = 100000\n",
        "n_bins = 20\n",
        "import matplotlib.pyplot as plt\n",
        "import numpy as np\n",
        "from matplotlib import colors\n",
        "from matplotlib.ticker import PercentFormatter\n",
        "\n",
        "# Create a random number generator with a fixed seed for reproducibility\n",
        "rng = np.random.default_rng(19680801)\n",
        "# Generate two normal distributions\n",
        "dist1 = rng.standard_normal(N_points)\n",
        "dist2 = 0.4 * rng.standard_normal(N_points) + 5\n",
        "\n",
        "fig, axs = plt.subplots(1, 2, sharey=True, tight_layout=False)\n",
        "\n",
        "# We can set the number of bins with the *bins* keyword argument.\n",
        "axs[0].hist(dist1, bins=n_bins)\n",
        "axs[1].hist(dist2, bins=n_bins)"
      ],
      "metadata": {
        "colab": {
          "base_uri": "https://localhost:8080/",
          "height": 447
        },
        "id": "epRUD4d5zj5f",
        "outputId": "ee7f5d34-8ddb-44cc-f53d-ce9309448de8"
      },
      "execution_count": null,
      "outputs": [
        {
          "output_type": "execute_result",
          "data": {
            "text/plain": [
              "(array([2.0000e+00, 2.1000e+01, 5.1000e+01, 2.3500e+02, 7.8100e+02,\n",
              "        2.1000e+03, 4.5730e+03, 8.3390e+03, 1.2758e+04, 1.6363e+04,\n",
              "        1.7345e+04, 1.4923e+04, 1.0920e+04, 6.4830e+03, 3.1070e+03,\n",
              "        1.3810e+03, 4.5300e+02, 1.2200e+02, 3.6000e+01, 7.0000e+00]),\n",
              " array([3.20889223, 3.38336526, 3.55783829, 3.73231132, 3.90678435,\n",
              "        4.08125738, 4.25573041, 4.43020344, 4.60467647, 4.7791495 ,\n",
              "        4.95362253, 5.12809556, 5.30256859, 5.47704162, 5.65151465,\n",
              "        5.82598768, 6.00046071, 6.17493374, 6.34940677, 6.5238798 ,\n",
              "        6.69835283]),\n",
              " <a list of 20 Patch objects>)"
            ]
          },
          "metadata": {},
          "execution_count": 24
        },
        {
          "output_type": "display_data",
          "data": {
            "text/plain": [
              "<Figure size 432x288 with 2 Axes>"
            ],
            "image/png": "[encoded data removed]"
          },
          "metadata": {
            "needs_background": "light"
          }
        }
      ]
    }
  ]
}